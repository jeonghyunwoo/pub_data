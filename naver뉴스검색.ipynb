{
 "cells": [
  {
   "cell_type": "code",
   "execution_count": 2,
   "metadata": {},
   "outputs": [],
   "source": [
    "from urllib.request import urlopen\n",
    "from bs4 import BeautifulSoup as soup\n",
    "import pandas as pd\n",
    "import numpy as np\n",
    "import urllib.parse\n",
    "from datetime import datetime\n",
    "from newspaper import Article\n",
    "import newspaper\n",
    "import time\n",
    "import re"
   ]
  },
  {
   "cell_type": "code",
   "execution_count": 3,
   "metadata": {},
   "outputs": [],
   "source": [
    "url0 = 'https://search.naver.com/search.naver?&where=news&query={qry}&sm=tab_pge&sort=0&photo=0&field=0&reporter_article=&pd=0&ds=&de=&docid=&nso=so:r,p:all,a:all&mynews=0&cluster_rank=44&start={beg}&refresh_start=0'"
   ]
  },
  {
   "cell_type": "code",
   "execution_count": 4,
   "metadata": {},
   "outputs": [
    {
     "name": "stdin",
     "output_type": "stream",
     "text": [
      "search: 가계부채\n"
     ]
    }
   ],
   "source": [
    "qry0 = input('search:')"
   ]
  },
  {
   "cell_type": "code",
   "execution_count": 5,
   "metadata": {},
   "outputs": [],
   "source": [
    "qry = urllib.parse.quote_plus(qry0)"
   ]
  },
  {
   "cell_type": "markdown",
   "metadata": {},
   "source": [
    "newpaper tutorial: https://github.com/codelucas/newspaper"
   ]
  },
  {
   "cell_type": "code",
   "execution_count": 21,
   "metadata": {},
   "outputs": [
    {
     "data": {
      "text/plain": [
       "'C:\\\\Users\\\\jeong\\\\proj'"
      ]
     },
     "execution_count": 21,
     "metadata": {},
     "output_type": "execute_result"
    }
   ],
   "source": [
    "pwd"
   ]
  },
  {
   "cell_type": "code",
   "execution_count": null,
   "metadata": {},
   "outputs": [],
   "source": [
    "%%time\n",
    "dt = datetime.today().strftime('%Y%m%d_%H%M%S')\n",
    "no, title, href, news, pub_date, author = [],[],[],[],[],[]\n",
    "for p in np.arange(0,40,10)+1:\n",
    "    url = url0.format(qry = qry, beg = p)\n",
    "    obj = soup(urlopen(url),'html.parser')\n",
    "    links = obj.find_all('a',{'class':'_sp_each_title'})    \n",
    "    for i,link in enumerate(links):\n",
    "        no.append(i)\n",
    "        title.append(link.get('title'))\n",
    "        href.append(link.get('href'))  \n",
    "        contents = Article(link.get('href'),language='ko')\n",
    "        contents.download()\n",
    "        contents.parse()\n",
    "        #pub_date.append(contents.publish_date)\n",
    "        #author.append(contents.authors)\n",
    "        news.append(contents.text)\n",
    "        time.sleep(np.where(i % 2==0,1,0.5))\n",
    "        \n",
    "res = pd.DataFrame({'no':no,'title':title,'pub_date':pub_date,'author':author,'href':href,'news':news})\n",
    "res.to_excel('data/news_{}.xlsx'.format(dt))"
   ]
  },
  {
   "cell_type": "code",
   "execution_count": 52,
   "metadata": {},
   "outputs": [],
   "source": [
    "nlp = newspaper.nlp"
   ]
  },
  {
   "cell_type": "code",
   "execution_count": 23,
   "metadata": {},
   "outputs": [],
   "source": [
    "contents.nlp()"
   ]
  },
  {
   "cell_type": "code",
   "execution_count": 24,
   "metadata": {},
   "outputs": [
    {
     "data": {
      "text/plain": [
       "['신규',\n",
       " '최종구',\n",
       " '올해',\n",
       " '수',\n",
       " '수도깡통전세',\n",
       " '있다고',\n",
       " '지난해',\n",
       " '가계부채',\n",
       " '급격히',\n",
       " '금융위원장',\n",
       " '가계대출',\n",
       " '이후',\n",
       " '악화될',\n",
       " '위원장은',\n",
       " '경고']"
      ]
     },
     "execution_count": 24,
     "metadata": {},
     "output_type": "execute_result"
    }
   ],
   "source": [
    "contents.keywords"
   ]
  },
  {
   "cell_type": "code",
   "execution_count": 25,
   "metadata": {},
   "outputs": [
    {
     "data": {
      "text/plain": [
       "'2019.1.25 kimsdoo@yna.co.kr(서울=연합뉴스) 박의래 기자 = 최종구 금융위원장이 올해 시장 여건 변화에 따라 가계부채의 건전성이 급격히 취약해질 수 있다고 경고했다.\\n가계부채 리스크 요인으로는 가계부채 절대 규모와 금리 상승, 전세·개인사업자 대출을 꼽았다.\\n은행권 신규 가계대출 평균 DSR은 지난해 6월 72%였지만 DSR 관리지표 도입 이후인 11∼12월에는 47%를 기록했다.\\n최 위원장은 \"새 코픽스는 기존 코픽스보다 27bp가량 낮다\"며 \"대출금리가 이만큼 인하되면 연간 적게는 1천억원, 많게는 1조원 이상의 혜택이 소비자에게 돌아갈 수 있다\"고 말했다.\\n최 위원장은 \"가계대출 관리 노력이 실질적인 성과를 거두기 위해서는 금융회사의 적극적인 협조가 절실히 필요하다\"며 \"대출 관리목표를 달성할 수 있도록 철저히 관리해 달라\"고 당부했다.'"
      ]
     },
     "execution_count": 25,
     "metadata": {},
     "output_type": "execute_result"
    }
   ],
   "source": [
    "contents.summary"
   ]
  },
  {
   "cell_type": "code",
   "execution_count": 26,
   "metadata": {},
   "outputs": [],
   "source": [
    "cnn_paper = newspaper.build('http://cnn.com')"
   ]
  },
  {
   "cell_type": "code",
   "execution_count": 34,
   "metadata": {},
   "outputs": [],
   "source": [
    "naver_news = newspaper.build('https://news.naver.com')"
   ]
  },
  {
   "cell_type": "code",
   "execution_count": null,
   "metadata": {},
   "outputs": [],
   "source": [
    "for article in cnn_paper.articles:\n",
    "    print(article.url)"
   ]
  },
  {
   "cell_type": "code",
   "execution_count": 35,
   "metadata": {},
   "outputs": [
    {
     "name": "stdout",
     "output_type": "stream",
     "text": [
      "https://www.vlive.tv/video/119702\n",
      "https://tv.naver.com/v/5793786\n",
      "https://tv.naver.com/v/5698965/list/325030\n"
     ]
    }
   ],
   "source": [
    "for article in naver_news.articles:\n",
    "    print(article.url)"
   ]
  },
  {
   "cell_type": "code",
   "execution_count": 29,
   "metadata": {},
   "outputs": [],
   "source": [
    "cnn_article = cnn_paper.articles[0]"
   ]
  },
  {
   "cell_type": "code",
   "execution_count": 36,
   "metadata": {},
   "outputs": [],
   "source": [
    "naver_article = naver_news.articles[0]"
   ]
  },
  {
   "cell_type": "code",
   "execution_count": 30,
   "metadata": {},
   "outputs": [],
   "source": [
    "cnn_article.download()"
   ]
  },
  {
   "cell_type": "code",
   "execution_count": 38,
   "metadata": {},
   "outputs": [],
   "source": [
    "naver_article.download()"
   ]
  },
  {
   "cell_type": "code",
   "execution_count": 31,
   "metadata": {},
   "outputs": [],
   "source": [
    "cnn_article.parse()"
   ]
  },
  {
   "cell_type": "code",
   "execution_count": 39,
   "metadata": {},
   "outputs": [],
   "source": [
    "naver_article.parse()"
   ]
  },
  {
   "cell_type": "code",
   "execution_count": 32,
   "metadata": {},
   "outputs": [],
   "source": [
    "cnn_article.nlp()"
   ]
  },
  {
   "cell_type": "code",
   "execution_count": 40,
   "metadata": {},
   "outputs": [],
   "source": [
    "naver_article.nlp()"
   ]
  },
  {
   "cell_type": "code",
   "execution_count": 41,
   "metadata": {},
   "outputs": [
    {
     "data": {
      "text/plain": [
       "['coincoins',\n",
       " 'full무비토크미성년movie',\n",
       " 'pcif',\n",
       " 'live',\n",
       " 'coins',\n",
       " 'app',\n",
       " 'v',\n",
       " 'used',\n",
       " 'received',\n",
       " 'child',\n",
       " 'pc',\n",
       " 'talkanother']"
      ]
     },
     "execution_count": 41,
     "metadata": {},
     "output_type": "execute_result"
    }
   ],
   "source": [
    "naver_article.keywords"
   ]
  },
  {
   "cell_type": "code",
   "execution_count": 33,
   "metadata": {},
   "outputs": [
    {
     "data": {
      "text/plain": [
       "['win',\n",
       " 'box',\n",
       " 'latest',\n",
       " 'doppelgängers',\n",
       " 'media',\n",
       " 'headlines',\n",
       " 'office',\n",
       " 'dumbo',\n",
       " 'cnn',\n",
       " 'vs',\n",
       " 'business',\n",
       " 'peeles',\n",
       " 'jordan']"
      ]
     },
     "execution_count": 33,
     "metadata": {},
     "output_type": "execute_result"
    }
   ],
   "source": [
    "cnn_article.keywords"
   ]
  },
  {
   "cell_type": "code",
   "execution_count": null,
   "metadata": {},
   "outputs": [],
   "source": []
  }
 ],
 "metadata": {
  "kernelspec": {
   "display_name": "Python 3",
   "language": "python",
   "name": "python3"
  },
  "language_info": {
   "codemirror_mode": {
    "name": "ipython",
    "version": 3
   },
   "file_extension": ".py",
   "mimetype": "text/x-python",
   "name": "python",
   "nbconvert_exporter": "python",
   "pygments_lexer": "ipython3",
   "version": "3.7.0"
  }
 },
 "nbformat": 4,
 "nbformat_minor": 2
}
