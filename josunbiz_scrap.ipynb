{
 "cells": [
  {
   "cell_type": "code",
   "execution_count": 36,
   "metadata": {},
   "outputs": [],
   "source": [
    "from urllib.request import urlopen\n",
    "from bs4 import BeautifulSoup as soup\n",
    "import pandas as pd\n",
    "import numpy as np\n",
    "from urllib.parse import quote_plus\n",
    "from datetime import datetime\n",
    "from newspaper import Article\n",
    "import newspaper\n",
    "from time import sleep\n",
    "import re"
   ]
  },
  {
   "cell_type": "code",
   "execution_count": 34,
   "metadata": {},
   "outputs": [],
   "source": [
    "qry = '가계부채'\n",
    "qryb = quote_plus(qry)"
   ]
  },
  {
   "cell_type": "code",
   "execution_count": 35,
   "metadata": {},
   "outputs": [
    {
     "name": "stdout",
     "output_type": "stream",
     "text": [
      "가계부채 : %EA%B0%80%EA%B3%84%EB%B6%80%EC%B1%84\n"
     ]
    }
   ],
   "source": [
    "print(qry,\":\",qryb)"
   ]
  },
  {
   "cell_type": "code",
   "execution_count": 3,
   "metadata": {},
   "outputs": [],
   "source": [
    "url0 = \"http://search.chosun.com/search/news.search?query={0}&pageno={1}\""
   ]
  },
  {
   "cell_type": "code",
   "execution_count": 5,
   "metadata": {},
   "outputs": [],
   "source": [
    "obj = soup(urlopen(url0),'html.parser')"
   ]
  },
  {
   "cell_type": "code",
   "execution_count": 6,
   "metadata": {},
   "outputs": [],
   "source": [
    "links = obj.find_all('a',{'target':'_blank'})"
   ]
  },
  {
   "cell_type": "code",
   "execution_count": null,
   "metadata": {},
   "outputs": [],
   "source": [
    "%%time\n",
    "url0 = \"http://search.chosun.com/search/news.search?query={0}&pageno={1}\"\n",
    "href = []\n",
    "title = []\n",
    "date = []\n",
    "text = []\n",
    "for i in range(1,4):\n",
    "    url = url0.format(qryb,i)\n",
    "    obj = soup(urlopen(url),'html.parser')\n",
    "    links = obj.find_all('a',{'target':'_blank'}) # 이 부분은 사이트별로 F12, Network, XHR 등을 이용해서 찾는다\n",
    "    # 조선일보는 Network로 찾아지지 않아서 urllib을 이용했다\n",
    "    for link in links:\n",
    "        href.append(link.get('href'))\n",
    "        a = Article(link.get('href'),language='ko')\n",
    "        a.download()\n",
    "        a.parse()\n",
    "        title.append(a.title)\n",
    "        date.append(a.publish_date)\n",
    "        text.append(a.text)\n",
    "        sleep(np.random.randint(5,15))\n",
    "\n",
    "news = pd.DataFrame(dict(date=date,title=title,text=text))    "
   ]
  },
  {
   "cell_type": "code",
   "execution_count": null,
   "metadata": {},
   "outputs": [],
   "source": [
    "news = news.drop_duplicates()"
   ]
  },
  {
   "cell_type": "code",
   "execution_count": 30,
   "metadata": {},
   "outputs": [
    {
     "data": {
      "text/html": [
       "<div>\n",
       "<style scoped>\n",
       "    .dataframe tbody tr th:only-of-type {\n",
       "        vertical-align: middle;\n",
       "    }\n",
       "\n",
       "    .dataframe tbody tr th {\n",
       "        vertical-align: top;\n",
       "    }\n",
       "\n",
       "    .dataframe thead th {\n",
       "        text-align: right;\n",
       "    }\n",
       "</style>\n",
       "<table border=\"1\" class=\"dataframe\">\n",
       "  <thead>\n",
       "    <tr style=\"text-align: right;\">\n",
       "      <th></th>\n",
       "      <th>date</th>\n",
       "      <th>title</th>\n",
       "      <th>text</th>\n",
       "    </tr>\n",
       "  </thead>\n",
       "  <tbody>\n",
       "    <tr>\n",
       "      <th>0</th>\n",
       "      <td>2019-03-29</td>\n",
       "      <td>금감원 \"가계·자영업자부채 총량 관리 힘쓰겠다\"</td>\n",
       "      <td>2019년 은행부문 금융감독 업무설명회서 밝혀\\n\\n\\n\\n금융감독원이 가계부채와 ...</td>\n",
       "    </tr>\n",
       "    <tr>\n",
       "      <th>1</th>\n",
       "      <td>2019-03-29</td>\n",
       "      <td>금감원 \"가계·자영업자부채 총량 관리 힘쓰겠다\"</td>\n",
       "      <td>2019년 은행부문 금융감독 업무설명회서 밝혀\\n\\n\\n\\n금융감독원이 가계부채와 ...</td>\n",
       "    </tr>\n",
       "    <tr>\n",
       "      <th>2</th>\n",
       "      <td>2019-03-29</td>\n",
       "      <td>금감원 \"가계·자영업자부채 총량 관리 힘쓰겠다\"</td>\n",
       "      <td>2019년 은행부문 금융감독 업무설명회서 밝혀\\n\\n\\n\\n금융감독원이 가계부채와 ...</td>\n",
       "    </tr>\n",
       "    <tr>\n",
       "      <th>3</th>\n",
       "      <td>2019-03-28</td>\n",
       "      <td>취약차주, 여전히 가계부채 뇌관…비은행·신용대출 비중 높아</td>\n",
       "      <td>취약차주 대출 87조 육박…다중·저소득자 대출 오름세\\n\\n\\n\\n다수의 금융기관에...</td>\n",
       "    </tr>\n",
       "    <tr>\n",
       "      <th>4</th>\n",
       "      <td>2019-03-28</td>\n",
       "      <td>취약차주, 여전히 가계부채 뇌관…비은행·신용대출 비중 높아</td>\n",
       "      <td>취약차주 대출 87조 육박…다중·저소득자 대출 오름세\\n\\n\\n\\n다수의 금융기관에...</td>\n",
       "    </tr>\n",
       "  </tbody>\n",
       "</table>\n",
       "</div>"
      ],
      "text/plain": [
       "        date                             title  \\\n",
       "0 2019-03-29        금감원 \"가계·자영업자부채 총량 관리 힘쓰겠다\"   \n",
       "1 2019-03-29        금감원 \"가계·자영업자부채 총량 관리 힘쓰겠다\"   \n",
       "2 2019-03-29        금감원 \"가계·자영업자부채 총량 관리 힘쓰겠다\"   \n",
       "3 2019-03-28  취약차주, 여전히 가계부채 뇌관…비은행·신용대출 비중 높아   \n",
       "4 2019-03-28  취약차주, 여전히 가계부채 뇌관…비은행·신용대출 비중 높아   \n",
       "\n",
       "                                                text  \n",
       "0  2019년 은행부문 금융감독 업무설명회서 밝혀\\n\\n\\n\\n금융감독원이 가계부채와 ...  \n",
       "1  2019년 은행부문 금융감독 업무설명회서 밝혀\\n\\n\\n\\n금융감독원이 가계부채와 ...  \n",
       "2  2019년 은행부문 금융감독 업무설명회서 밝혀\\n\\n\\n\\n금융감독원이 가계부채와 ...  \n",
       "3  취약차주 대출 87조 육박…다중·저소득자 대출 오름세\\n\\n\\n\\n다수의 금융기관에...  \n",
       "4  취약차주 대출 87조 육박…다중·저소득자 대출 오름세\\n\\n\\n\\n다수의 금융기관에...  "
      ]
     },
     "execution_count": 30,
     "metadata": {},
     "output_type": "execute_result"
    }
   ],
   "source": [
    "news.head()"
   ]
  }
 ],
 "metadata": {
  "kernelspec": {
   "display_name": "Python 3",
   "language": "python",
   "name": "python3"
  },
  "language_info": {
   "codemirror_mode": {
    "name": "ipython",
    "version": 3
   },
   "file_extension": ".py",
   "mimetype": "text/x-python",
   "name": "python",
   "nbconvert_exporter": "python",
   "pygments_lexer": "ipython3",
   "version": "3.7.0"
  }
 },
 "nbformat": 4,
 "nbformat_minor": 2
}
