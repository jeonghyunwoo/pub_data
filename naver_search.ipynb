{
 "cells": [
  {
   "cell_type": "code",
   "execution_count": 12,
   "metadata": {},
   "outputs": [],
   "source": [
    "from urllib.request import urlopen\n",
    "from urllib.parse import quote_plus\n",
    "from bs4 import BeautifulSoup as soup\n",
    "from newspaper import Article\n",
    "from time import sleep\n",
    "import time\n",
    "import pandas as pd\n",
    "import numpy as np"
   ]
  },
  {
   "cell_type": "markdown",
   "metadata": {},
   "source": [
    "1.검색어"
   ]
  },
  {
   "cell_type": "code",
   "execution_count": 10,
   "metadata": {},
   "outputs": [],
   "source": [
    "qry = '가계부채'\n",
    "qry1 = quote_plus(qry)"
   ]
  },
  {
   "cell_type": "markdown",
   "metadata": {},
   "source": [
    "2.url"
   ]
  },
  {
   "cell_type": "code",
   "execution_count": 11,
   "metadata": {},
   "outputs": [],
   "source": [
    "url0 = \"https://search.naver.com/search.naver?&where=news&query={}&start={}\""
   ]
  },
  {
   "cell_type": "code",
   "execution_count": null,
   "metadata": {},
   "outputs": [],
   "source": [
    "articles = []\n",
    "title = []\n",
    "href = []\n",
    "date = []\n",
    "text = []\n",
    "stime = time.time()\n",
    "# original 주소 \n",
    "url0 = \"https://search.naver.com/search.naver?&where=news&query={}&start={}\"\n",
    "# 네이버 검색결과 page별\n",
    "for i in range(3): \n",
    "    start = i*10+1\n",
    "    url = url0.format(qry1,start)\n",
    "    obj = soup(urlopen(url),'html.parser')\n",
    "    # links : naver 검색결과 뉴스들의 링크들\n",
    "    links = obj.find_all('a',{'class':'_sp_each_title'})\n",
    "    # 링크별 기사가져오기 \n",
    "    for link in links:\n",
    "        h = link.get('href') # hyperlink\n",
    "        a = Article(h,language='ko') # 기사가져오기 \n",
    "        a.download();a.parse()\n",
    "        articles.append(a)\n",
    "        title.append(a.title)\n",
    "        date.append(a.publish_date)\n",
    "        text.append(a.text)\n",
    "        sleep(np.random.randint(3,30))\n",
    "etime = time.time() - stime\n",
    "elaps = time.strftime('%H:%M:%S',time.gmtime(etime))\n",
    "news = pd.DataFrame(dict(qry=qry,date=date,title=title,text=text))        \n",
    "print('{} search done: {} elapsed'.format(qry,elaps))"
   ]
  },
  {
   "cell_type": "markdown",
   "metadata": {},
   "source": [
    "**naver_search** function"
   ]
  },
  {
   "cell_type": "code",
   "execution_count": null,
   "metadata": {},
   "outputs": [],
   "source": [
    "def naver_search(qry,page=3):\n",
    "    articles = []\n",
    "    title = []\n",
    "    href = []\n",
    "    date = []\n",
    "    text = []\n",
    "    stime = time.time()\n",
    "    # original 주소 \n",
    "    url0 = \"https://search.naver.com/search.naver?&where=news&query={}&start={}\"\n",
    "    # 네이버 검색결과 page별\n",
    "    for i in range(page): \n",
    "        start = i*10+1\n",
    "        qry1 = quote_plus(qry)\n",
    "        url = url0.format(qry1,start)\n",
    "        obj = soup(urlopen(url),'html.parser')\n",
    "        # links : naver 검색결과 뉴스들의 링크들\n",
    "        links = obj.find_all('a',{'class':'_sp_each_title'})\n",
    "        # 링크별 기사가져오기 \n",
    "        for link in links:\n",
    "            h = link.get('href') # hyperlink\n",
    "            a = Article(h,language='ko') # 기사가져오기 \n",
    "            a.download();a.parse()\n",
    "            articles.append(a)\n",
    "            title.append(a.title)\n",
    "            date.append(a.publish_date)\n",
    "            text.append(a.text)\n",
    "            sleep(np.random.randint(3,30))\n",
    "    etime = time.time() - stime\n",
    "    elaps = time.strftime('%H:%M:%S',time.gmtime(etime))\n",
    "    news = pd.DataFrame(dict(qry=qry,date=date,title=title,text=text))        \n",
    "    print('{} search done: {} elapsed'.format(qry,elaps))\n",
    "    return news"
   ]
  },
  {
   "cell_type": "code",
   "execution_count": null,
   "metadata": {},
   "outputs": [],
   "source": []
  }
 ],
 "metadata": {
  "kernelspec": {
   "display_name": "Python 3",
   "language": "python",
   "name": "python3"
  },
  "language_info": {
   "codemirror_mode": {
    "name": "ipython",
    "version": 3
   },
   "file_extension": ".py",
   "mimetype": "text/x-python",
   "name": "python",
   "nbconvert_exporter": "python",
   "pygments_lexer": "ipython3",
   "version": "3.7.0"
  }
 },
 "nbformat": 4,
 "nbformat_minor": 2
}
