{
 "cells": [
  {
   "cell_type": "code",
   "execution_count": 41,
   "metadata": {},
   "outputs": [],
   "source": [
    "import pandas as pd\n",
    "import numpy as np\n",
    "import matplotlib.pyplot as plt \n",
    "import matplotlib.dates as mdates\n",
    "import matplotlib as mpl\n",
    "import nltk\n",
    "%matplotlib inline"
   ]
  },
  {
   "cell_type": "code",
   "execution_count": 2,
   "metadata": {},
   "outputs": [],
   "source": [
    "import gc"
   ]
  },
  {
   "cell_type": "code",
   "execution_count": 3,
   "metadata": {},
   "outputs": [
    {
     "data": {
      "text/plain": [
       "18"
      ]
     },
     "execution_count": 3,
     "metadata": {},
     "output_type": "execute_result"
    }
   ],
   "source": [
    "gc.collect()"
   ]
  },
  {
   "cell_type": "code",
   "execution_count": 4,
   "metadata": {},
   "outputs": [],
   "source": [
    "import glob"
   ]
  },
  {
   "cell_type": "code",
   "execution_count": 5,
   "metadata": {},
   "outputs": [
    {
     "data": {
      "text/plain": [
       "['data\\\\newsdf.pkl',\n",
       " 'data\\\\train_xy.pkl',\n",
       " 'data\\\\d2vdf.pkl',\n",
       " 'data\\\\dfvec.pkl',\n",
       " 'data\\\\dvec1.pkl',\n",
       " 'data\\\\newsdf_03_19.pkl',\n",
       " 'data\\\\ndf.pkl',\n",
       " 'data\\\\ndf_tok.pkl',\n",
       " 'data\\\\busil_idx.pkl',\n",
       " 'data\\\\ndf_tit_vec.pkl',\n",
       " 'data\\\\ndf_txt_vec.pkl',\n",
       " 'data\\\\ndf_tit_vec1.pkl',\n",
       " 'data\\\\ndf_txt_vec1.pkl',\n",
       " 'data\\\\ndf_bstag.pkl']"
      ]
     },
     "execution_count": 5,
     "metadata": {},
     "output_type": "execute_result"
    }
   ],
   "source": [
    "glob.glob('data/*.pkl')"
   ]
  },
  {
   "cell_type": "code",
   "execution_count": 9,
   "metadata": {},
   "outputs": [],
   "source": [
    "ndf = pd.read_pickle('data/ndf_txt_vec1.pkl').reset_index()"
   ]
  },
  {
   "cell_type": "code",
   "execution_count": 10,
   "metadata": {},
   "outputs": [],
   "source": [
    "ndf['date'] = pd.to_datetime(ndf.ym,format='%Y%m')"
   ]
  },
  {
   "cell_type": "code",
   "execution_count": 11,
   "metadata": {},
   "outputs": [
    {
     "data": {
      "text/plain": [
       "Index(['ym', 'qry', 'title', 'text', 'tok_tit', 'tok_txt', 'tag_tit',\n",
       "       'tag_txt', 'dx1', 'dx2', 'dx3', 'dx4', 'dx5', 'dx6', 'dx7', 'dx8',\n",
       "       'dx9', 'dx10', 'cycle', 'tcycle', '가계소득지표', '가계소비지표', '차입수준지표', 'date'],\n",
       "      dtype='object')"
      ]
     },
     "execution_count": 11,
     "metadata": {},
     "output_type": "execute_result"
    }
   ],
   "source": [
    "ndf.columns"
   ]
  },
  {
   "cell_type": "code",
   "execution_count": 38,
   "metadata": {},
   "outputs": [],
   "source": [
    "plt.rcParams['font.family'] = 'NanumGothic'\n",
    "plt.rcParams['axes.unicode_minus'] = False\n",
    "plt.rcParams['font.size'] = 12"
   ]
  },
  {
   "cell_type": "code",
   "execution_count": 48,
   "metadata": {},
   "outputs": [
    {
     "data": {
      "image/png": "[encoded data removed]",
      "text/plain": [
       "<Figure size 720x360 with 2 Axes>"
      ]
     },
     "metadata": {
      "needs_background": "light"
     },
     "output_type": "display_data"
    }
   ],
   "source": [
    "fig, ax = plt.subplots(2,1,figsize=(10,5))\n",
    "plt.title('documentID: 년월')    \n",
    "ax[0].plot_date('date','tcycle','-',color='firebrick',data=ndf,label='가계부실선행지수')\n",
    "ax[0].set_title('가계부실선행지수')\n",
    "ax[0].set_xlim(['2002-01-01','2019-03-01'])\n",
    "ax[1].plot_date('date','dx1','-',color='steelblue',data=ndf,label='doc2vec-1',drawstyle='steps')\n",
    "ax[1].set_title('doc2vec - 1')\n",
    "for i in range(2):\n",
    "    ax[i].spines['top'].set_visible(False)\n",
    "    ax[i].spines['right'].set_visible(False)\n",
    "plt.tight_layout()"
   ]
  },
  {
   "cell_type": "markdown",
   "metadata": {},
   "source": [
    "### doc2vec PCA"
   ]
  },
  {
   "cell_type": "code",
   "execution_count": 49,
   "metadata": {},
   "outputs": [],
   "source": [
    "from sklearn.decomposition import PCA"
   ]
  },
  {
   "cell_type": "code",
   "execution_count": 50,
   "metadata": {},
   "outputs": [],
   "source": [
    "pca1 = PCA(n_components=5)"
   ]
  },
  {
   "cell_type": "code",
   "execution_count": 51,
   "metadata": {},
   "outputs": [
    {
     "data": {
      "text/plain": [
       "Index(['ym', 'qry', 'title', 'text', 'tok_tit', 'tok_txt', 'tag_tit',\n",
       "       'tag_txt', 'dx1', 'dx2', 'dx3', 'dx4', 'dx5', 'dx6', 'dx7', 'dx8',\n",
       "       'dx9', 'dx10', 'cycle', 'tcycle', '가계소득지표', '가계소비지표', '차입수준지표', 'date'],\n",
       "      dtype='object')"
      ]
     },
     "execution_count": 51,
     "metadata": {},
     "output_type": "execute_result"
    }
   ],
   "source": [
    "ndf.columns"
   ]
  },
  {
   "cell_type": "code",
   "execution_count": 70,
   "metadata": {},
   "outputs": [],
   "source": [
    "x_low = pca1.fit_transform(ndf[[col for col in ndf.columns if col.find('dx')>=0]])"
   ]
  },
  {
   "cell_type": "code",
   "execution_count": 73,
   "metadata": {},
   "outputs": [],
   "source": [
    "x2 = pca1.inverse_transform(x_low)"
   ]
  },
  {
   "cell_type": "code",
   "execution_count": 79,
   "metadata": {},
   "outputs": [
    {
     "data": {
      "text/plain": [
       "array([1.78425646e+01, 1.18353198e-03, 1.03009459e-03, 9.52403489e-04,\n",
       "       8.86904385e-04])"
      ]
     },
     "execution_count": 79,
     "metadata": {},
     "output_type": "execute_result"
    }
   ],
   "source": [
    "pca1.explained_variance_"
   ]
  },
  {
   "cell_type": "code",
   "execution_count": 83,
   "metadata": {},
   "outputs": [
    {
     "data": {
      "text/plain": [
       "array([1., 0., 0., 0., 0.])"
      ]
     },
     "execution_count": 83,
     "metadata": {},
     "output_type": "execute_result"
    }
   ],
   "source": [
    "np.round(pca1.explained_variance_ratio_,3)"
   ]
  },
  {
   "cell_type": "markdown",
   "metadata": {},
   "source": [
    "### **가계부채+연체 기사검색**"
   ]
  },
  {
   "cell_type": "code",
   "execution_count": 2,
   "metadata": {},
   "outputs": [],
   "source": [
    "from konlpy.tag import Okt\n",
    "okt = Okt()"
   ]
  },
  {
   "cell_type": "code",
   "execution_count": 3,
   "metadata": {},
   "outputs": [],
   "source": [
    "from gensim.models.doc2vec import Doc2Vec, TaggedDocument"
   ]
  },
  {
   "cell_type": "code",
   "execution_count": 4,
   "metadata": {},
   "outputs": [],
   "source": [
    "from nvsch import *"
   ]
  },
  {
   "cell_type": "code",
   "execution_count": 86,
   "metadata": {},
   "outputs": [],
   "source": [
    "b_rng = pd.date_range('2002-01-01','2019-04-01',freq='MS').strftime('%Y.%m.%d').tolist()[:-1]\n",
    "e_rng = pd.date_range('2002-01-01','2019-04-01',freq='M').strftime('%Y.%m.%d').tolist()"
   ]
  },
  {
   "cell_type": "code",
   "execution_count": 87,
   "metadata": {},
   "outputs": [
    {
     "name": "stdout",
     "output_type": "stream",
     "text": [
      "가계부채+연체 2002 search done, 00:00:13 elapsed\n",
      "2002.01.01~2002.01.31 done, 00:00:13 elapsed\n",
      "가계부채+연체 2002 search done, 00:00:13 elapsed\n",
      "2002.02.01~2002.02.28 done, 00:00:13 elapsed\n",
      "가계부채+연체 2002 search done, 00:00:21 elapsed\n",
      "2002.03.01~2002.03.31 done, 00:00:21 elapsed\n",
      "가계부채+연체 2002 search done, 00:00:19 elapsed\n",
      "2002.04.01~2002.04.30 done, 00:00:19 elapsed\n",
      "가계부채+연체 2002 search done, 00:00:18 elapsed\n",
      "2002.05.01~2002.05.31 done, 00:00:18 elapsed\n",
      "가계부채+연체 2002 search done, 00:00:03 elapsed\n",
      "2002.06.01~2002.06.30 done, 00:00:03 elapsed\n",
      "가계부채+연체 2002 search done, 00:00:02 elapsed\n",
      "2002.07.01~2002.07.31 done, 00:00:02 elapsed\n",
      "가계부채+연체 2002 search done, 00:00:05 elapsed\n",
      "2002.08.01~2002.08.31 done, 00:00:05 elapsed\n",
      "가계부채+연체 2002 search done, 00:00:21 elapsed\n",
      "2002.09.01~2002.09.30 done, 00:00:21 elapsed\n",
      "가계부채+연체 2002 search done, 00:00:18 elapsed\n",
      "2002.10.01~2002.10.31 done, 00:00:18 elapsed\n",
      "가계부채+연체 2002 search done, 00:00:17 elapsed\n",
      "2002.11.01~2002.11.30 done, 00:00:17 elapsed\n",
      "가계부채+연체 2002 search done, 00:00:20 elapsed\n",
      "2002.12.01~2002.12.31 done, 00:00:20 elapsed\n",
      "가계부채+연체 2003 search done, 00:00:17 elapsed\n",
      "2003.01.01~2003.01.31 done, 00:00:17 elapsed\n",
      "가계부채+연체 2003 search done, 00:00:06 elapsed\n",
      "2003.02.01~2003.02.28 done, 00:00:06 elapsed\n",
      "가계부채+연체 2003 search done, 00:00:18 elapsed\n",
      "2003.03.01~2003.03.31 done, 00:00:18 elapsed\n",
      "가계부채+연체 2003 search done, 00:00:19 elapsed\n",
      "2003.04.01~2003.04.30 done, 00:00:19 elapsed\n",
      "가계부채+연체 2003 search done, 00:00:15 elapsed\n",
      "2003.05.01~2003.05.31 done, 00:00:15 elapsed\n",
      "가계부채+연체 2003 search done, 00:00:20 elapsed\n",
      "2003.06.01~2003.06.30 done, 00:00:20 elapsed\n",
      "가계부채+연체 2003 search done, 00:00:06 elapsed\n",
      "2003.07.01~2003.07.31 done, 00:00:06 elapsed\n",
      "가계부채+연체 2003 search done, 00:00:17 elapsed\n",
      "2003.08.01~2003.08.31 done, 00:00:17 elapsed\n",
      "가계부채+연체 2003 search done, 00:00:21 elapsed\n",
      "2003.09.01~2003.09.30 done, 00:00:21 elapsed\n",
      "가계부채+연체 2003 search done, 00:00:16 elapsed\n",
      "2003.10.01~2003.10.31 done, 00:00:16 elapsed\n",
      "가계부채+연체 2003 search done, 00:00:18 elapsed\n",
      "2003.11.01~2003.11.30 done, 00:00:18 elapsed\n",
      "가계부채+연체 2003 search done, 00:00:18 elapsed\n",
      "2003.12.01~2003.12.31 done, 00:00:18 elapsed\n",
      "가계부채+연체 2004 search done, 00:00:21 elapsed\n",
      "2004.01.01~2004.01.31 done, 00:00:21 elapsed\n",
      "가계부채+연체 2004 search done, 00:00:21 elapsed\n",
      "2004.02.01~2004.02.29 done, 00:00:21 elapsed\n",
      "가계부채+연체 2004 search done, 00:00:19 elapsed\n",
      "2004.03.01~2004.03.31 done, 00:00:19 elapsed\n",
      "가계부채+연체 2004 search done, 00:00:20 elapsed\n",
      "2004.04.01~2004.04.30 done, 00:00:20 elapsed\n",
      "가계부채+연체 2004 search done, 00:00:17 elapsed\n",
      "2004.05.01~2004.05.31 done, 00:00:17 elapsed\n",
      "가계부채+연체 2004 search done, 00:00:19 elapsed\n",
      "2004.06.01~2004.06.30 done, 00:00:19 elapsed\n",
      "가계부채+연체 2004 search done, 00:00:21 elapsed\n",
      "2004.07.01~2004.07.31 done, 00:00:21 elapsed\n",
      "가계부채+연체 2004 search done, 00:00:20 elapsed\n",
      "2004.08.01~2004.08.31 done, 00:00:20 elapsed\n",
      "가계부채+연체 2004 search done, 00:00:17 elapsed\n",
      "2004.09.01~2004.09.30 done, 00:00:17 elapsed\n",
      "가계부채+연체 2004 search done, 00:00:18 elapsed\n",
      "2004.10.01~2004.10.31 done, 00:00:18 elapsed\n",
      "가계부채+연체 2004 search done, 00:00:17 elapsed\n",
      "2004.11.01~2004.11.30 done, 00:00:17 elapsed\n",
      "가계부채+연체 2004 search done, 00:00:15 elapsed\n",
      "2004.12.01~2004.12.31 done, 00:00:15 elapsed\n",
      "가계부채+연체 2005 search done, 00:00:18 elapsed\n",
      "2005.01.01~2005.01.31 done, 00:00:18 elapsed\n",
      "가계부채+연체 2005 search done, 00:00:19 elapsed\n",
      "2005.02.01~2005.02.28 done, 00:00:19 elapsed\n",
      "가계부채+연체 2005 search done, 00:00:14 elapsed\n",
      "2005.03.01~2005.03.31 done, 00:00:14 elapsed\n",
      "가계부채+연체 2005 search done, 00:00:18 elapsed\n",
      "2005.04.01~2005.04.30 done, 00:00:18 elapsed\n",
      "가계부채+연체 2005 search done, 00:00:20 elapsed\n",
      "2005.05.01~2005.05.31 done, 00:00:20 elapsed\n",
      "가계부채+연체 2005 search done, 00:00:20 elapsed\n",
      "2005.06.01~2005.06.30 done, 00:00:20 elapsed\n",
      "가계부채+연체 2005 search done, 00:00:18 elapsed\n",
      "2005.07.01~2005.07.31 done, 00:00:18 elapsed\n",
      "가계부채+연체 2005 search done, 00:00:09 elapsed\n",
      "2005.08.01~2005.08.31 done, 00:00:09 elapsed\n",
      "가계부채+연체 2005 search done, 00:00:07 elapsed\n",
      "2005.09.01~2005.09.30 done, 00:00:07 elapsed\n",
      "가계부채+연체 2005 search done, 00:00:00 elapsed\n",
      "2005.10.01~2005.10.31 done, 00:00:00 elapsed\n",
      "가계부채+연체 2005 search done, 00:00:09 elapsed\n",
      "2005.11.01~2005.11.30 done, 00:00:09 elapsed\n",
      "가계부채+연체 2005 search done, 00:00:22 elapsed\n",
      "2005.12.01~2005.12.31 done, 00:00:22 elapsed\n",
      "가계부채+연체 2006 search done, 00:00:06 elapsed\n",
      "2006.01.01~2006.01.31 done, 00:00:06 elapsed\n",
      "가계부채+연체 2006 search done, 00:00:13 elapsed\n",
      "2006.02.01~2006.02.28 done, 00:00:13 elapsed\n",
      "가계부채+연체 2006 search done, 00:00:07 elapsed\n",
      "2006.03.01~2006.03.31 done, 00:00:07 elapsed\n",
      "가계부채+연체 2006 search done, 00:00:07 elapsed\n",
      "2006.04.01~2006.04.30 done, 00:00:07 elapsed\n",
      "가계부채+연체 2006 search done, 00:00:02 elapsed\n",
      "2006.05.01~2006.05.31 done, 00:00:02 elapsed\n",
      "가계부채+연체 2006 search done, 00:00:09 elapsed\n",
      "2006.06.01~2006.06.30 done, 00:00:09 elapsed\n",
      "가계부채+연체 2006 search done, 00:00:00 elapsed\n",
      "2006.07.01~2006.07.31 done, 00:00:00 elapsed\n",
      "가계부채+연체 2006 search done, 00:00:00 elapsed\n",
      "2006.08.01~2006.08.31 done, 00:00:00 elapsed\n",
      "가계부채+연체 2006 search done, 00:00:07 elapsed\n",
      "2006.09.01~2006.09.30 done, 00:00:07 elapsed\n",
      "가계부채+연체 2006 search done, 00:00:03 elapsed\n",
      "2006.10.01~2006.10.31 done, 00:00:03 elapsed\n",
      "가계부채+연체 2006 search done, 00:00:07 elapsed\n",
      "2006.11.01~2006.11.30 done, 00:00:07 elapsed\n",
      "가계부채+연체 2006 search done, 00:00:18 elapsed\n",
      "2006.12.01~2006.12.31 done, 00:00:18 elapsed\n",
      "가계부채+연체 2007 search done, 00:00:18 elapsed\n",
      "2007.01.01~2007.01.31 done, 00:00:18 elapsed\n",
      "가계부채+연체 2007 search done, 00:00:02 elapsed\n",
      "2007.02.01~2007.02.28 done, 00:00:02 elapsed\n",
      "가계부채+연체 2007 search done, 00:00:20 elapsed\n",
      "2007.03.01~2007.03.31 done, 00:00:20 elapsed\n",
      "가계부채+연체 2007 search done, 00:00:18 elapsed\n",
      "2007.04.01~2007.04.30 done, 00:00:18 elapsed\n",
      "가계부채+연체 2007 search done, 00:00:16 elapsed\n",
      "2007.05.01~2007.05.31 done, 00:00:16 elapsed\n",
      "가계부채+연체 2007 search done, 00:00:08 elapsed\n",
      "2007.06.01~2007.06.30 done, 00:00:08 elapsed\n",
      "가계부채+연체 2007 search done, 00:00:11 elapsed\n",
      "2007.07.01~2007.07.31 done, 00:00:11 elapsed\n",
      "가계부채+연체 2007 search done, 00:00:20 elapsed\n",
      "2007.08.01~2007.08.31 done, 00:00:20 elapsed\n",
      "가계부채+연체 2007 search done, 00:00:08 elapsed\n",
      "2007.09.01~2007.09.30 done, 00:00:08 elapsed\n",
      "가계부채+연체 2007 search done, 00:00:00 elapsed\n",
      "2007.10.01~2007.10.31 done, 00:00:00 elapsed\n",
      "가계부채+연체 2007 search done, 00:00:03 elapsed\n",
      "2007.11.01~2007.11.30 done, 00:00:03 elapsed\n",
      "가계부채+연체 2007 search done, 00:00:12 elapsed\n",
      "2007.12.01~2007.12.31 done, 00:00:12 elapsed\n",
      "가계부채+연체 2008 search done, 00:00:19 elapsed\n",
      "2008.01.01~2008.01.31 done, 00:00:19 elapsed\n",
      "가계부채+연체 2008 search done, 00:00:13 elapsed\n",
      "2008.02.01~2008.02.29 done, 00:00:13 elapsed\n",
      "가계부채+연체 2008 search done, 00:00:19 elapsed\n",
      "2008.03.01~2008.03.31 done, 00:00:19 elapsed\n",
      "가계부채+연체 2008 search done, 00:00:03 elapsed\n",
      "2008.04.01~2008.04.30 done, 00:00:03 elapsed\n",
      "가계부채+연체 2008 search done, 00:00:07 elapsed\n",
      "2008.05.01~2008.05.31 done, 00:00:07 elapsed\n",
      "가계부채+연체 2008 search done, 00:00:12 elapsed\n",
      "2008.06.01~2008.06.30 done, 00:00:12 elapsed\n",
      "가계부채+연체 2008 search done, 00:00:20 elapsed\n",
      "2008.07.01~2008.07.31 done, 00:00:20 elapsed\n",
      "가계부채+연체 2008 search done, 00:00:16 elapsed\n",
      "2008.08.01~2008.08.31 done, 00:00:16 elapsed\n",
      "가계부채+연체 2008 search done, 00:00:16 elapsed\n",
      "2008.09.01~2008.09.30 done, 00:00:16 elapsed\n",
      "가계부채+연체 2008 search done, 00:00:22 elapsed\n",
      "2008.10.01~2008.10.31 done, 00:00:22 elapsed\n",
      "가계부채+연체 2008 search done, 00:00:16 elapsed\n",
      "2008.11.01~2008.11.30 done, 00:00:16 elapsed\n",
      "가계부채+연체 2008 search done, 00:00:17 elapsed\n",
      "2008.12.01~2008.12.31 done, 00:00:17 elapsed\n",
      "가계부채+연체 2009 search done, 00:00:15 elapsed\n",
      "2009.01.01~2009.01.31 done, 00:00:15 elapsed\n",
      "가계부채+연체 2009 search done, 00:00:20 elapsed\n",
      "2009.02.01~2009.02.28 done, 00:00:20 elapsed\n",
      "가계부채+연체 2009 search done, 00:00:16 elapsed\n",
      "2009.03.01~2009.03.31 done, 00:00:16 elapsed\n",
      "가계부채+연체 2009 search done, 00:00:25 elapsed\n",
      "2009.04.01~2009.04.30 done, 00:00:25 elapsed\n",
      "가계부채+연체 2009 search done, 00:00:20 elapsed\n",
      "2009.05.01~2009.05.31 done, 00:00:20 elapsed\n",
      "가계부채+연체 2009 search done, 00:00:20 elapsed\n",
      "2009.06.01~2009.06.30 done, 00:00:20 elapsed\n",
      "가계부채+연체 2009 search done, 00:00:21 elapsed\n",
      "2009.07.01~2009.07.31 done, 00:00:21 elapsed\n",
      "가계부채+연체 2009 search done, 00:00:19 elapsed\n",
      "2009.08.01~2009.08.31 done, 00:00:19 elapsed\n",
      "가계부채+연체 2009 search done, 00:00:26 elapsed\n",
      "2009.09.01~2009.09.30 done, 00:00:26 elapsed\n",
      "가계부채+연체 2009 search done, 00:00:31 elapsed\n",
      "2009.10.01~2009.10.31 done, 00:00:31 elapsed\n",
      "가계부채+연체 2009 search done, 00:00:20 elapsed\n",
      "2009.11.01~2009.11.30 done, 00:00:20 elapsed\n",
      "가계부채+연체 2009 search done, 00:00:29 elapsed\n",
      "2009.12.01~2009.12.31 done, 00:00:29 elapsed\n",
      "가계부채+연체 2010 search done, 00:00:19 elapsed\n",
      "2010.01.01~2010.01.31 done, 00:00:19 elapsed\n",
      "가계부채+연체 2010 search done, 00:00:18 elapsed\n",
      "2010.02.01~2010.02.28 done, 00:00:18 elapsed\n",
      "가계부채+연체 2010 search done, 00:00:19 elapsed\n",
      "2010.03.01~2010.03.31 done, 00:00:19 elapsed\n",
      "가계부채+연체 2010 search done, 00:00:28 elapsed\n",
      "2010.04.01~2010.04.30 done, 00:00:28 elapsed\n",
      "가계부채+연체 2010 search done, 00:00:21 elapsed\n",
      "2010.05.01~2010.05.31 done, 00:00:21 elapsed\n",
      "가계부채+연체 2010 search done, 00:00:23 elapsed\n",
      "2010.06.01~2010.06.30 done, 00:00:23 elapsed\n",
      "가계부채+연체 2010 search done, 00:00:21 elapsed\n",
      "2010.07.01~2010.07.31 done, 00:00:21 elapsed\n",
      "가계부채+연체 2010 search done, 00:00:32 elapsed\n",
      "2010.08.01~2010.08.31 done, 00:00:32 elapsed\n",
      "가계부채+연체 2010 search done, 00:00:19 elapsed\n",
      "2010.09.01~2010.09.30 done, 00:00:19 elapsed\n",
      "가계부채+연체 2010 search done, 00:00:17 elapsed\n",
      "2010.10.01~2010.10.31 done, 00:00:17 elapsed\n",
      "가계부채+연체 2010 search done, 00:00:20 elapsed\n",
      "2010.11.01~2010.11.30 done, 00:00:20 elapsed\n",
      "가계부채+연체 2010 search done, 00:00:19 elapsed\n",
      "2010.12.01~2010.12.31 done, 00:00:19 elapsed\n",
      "가계부채+연체 2011 search done, 00:00:23 elapsed\n",
      "2011.01.01~2011.01.31 done, 00:00:23 elapsed\n",
      "가계부채+연체 2011 search done, 00:00:18 elapsed\n",
      "2011.02.01~2011.02.28 done, 00:00:18 elapsed\n",
      "가계부채+연체 2011 search done, 00:00:26 elapsed\n",
      "2011.03.01~2011.03.31 done, 00:00:26 elapsed\n",
      "가계부채+연체 2011 search done, 00:00:27 elapsed\n",
      "2011.04.01~2011.04.30 done, 00:00:27 elapsed\n",
      "가계부채+연체 2011 search done, 00:00:31 elapsed\n",
      "2011.05.01~2011.05.31 done, 00:00:31 elapsed\n",
      "가계부채+연체 2011 search done, 00:00:21 elapsed\n",
      "2011.06.01~2011.06.30 done, 00:00:21 elapsed\n",
      "가계부채+연체 2011 search done, 00:00:28 elapsed\n",
      "2011.07.01~2011.07.31 done, 00:00:28 elapsed\n",
      "가계부채+연체 2011 search done, 00:00:18 elapsed\n",
      "2011.08.01~2011.08.31 done, 00:00:18 elapsed\n",
      "가계부채+연체 2011 search done, 00:00:17 elapsed\n",
      "2011.09.01~2011.09.30 done, 00:00:17 elapsed\n",
      "가계부채+연체 2011 search done, 00:00:19 elapsed\n",
      "2011.10.01~2011.10.31 done, 00:00:19 elapsed\n",
      "가계부채+연체 2011 search done, 00:00:25 elapsed\n",
      "2011.11.01~2011.11.30 done, 00:00:25 elapsed\n",
      "가계부채+연체 2011 search done, 00:00:16 elapsed\n",
      "2011.12.01~2011.12.31 done, 00:00:16 elapsed\n",
      "가계부채+연체 2012 search done, 00:00:17 elapsed\n",
      "2012.01.01~2012.01.31 done, 00:00:17 elapsed\n",
      "가계부채+연체 2012 search done, 00:00:19 elapsed\n",
      "2012.02.01~2012.02.29 done, 00:00:19 elapsed\n",
      "가계부채+연체 2012 search done, 00:00:18 elapsed\n",
      "2012.03.01~2012.03.31 done, 00:00:18 elapsed\n",
      "가계부채+연체 2012 search done, 00:00:19 elapsed\n",
      "2012.04.01~2012.04.30 done, 00:00:19 elapsed\n",
      "가계부채+연체 2012 search done, 00:00:24 elapsed\n",
      "2012.05.01~2012.05.31 done, 00:00:24 elapsed\n",
      "가계부채+연체 2012 search done, 00:00:18 elapsed\n",
      "2012.06.01~2012.06.30 done, 00:00:18 elapsed\n",
      "가계부채+연체 2012 search done, 00:00:18 elapsed\n",
      "2012.07.01~2012.07.31 done, 00:00:18 elapsed\n",
      "가계부채+연체 2012 search done, 00:00:22 elapsed\n",
      "2012.08.01~2012.08.31 done, 00:00:22 elapsed\n",
      "가계부채+연체 2012 search done, 00:00:19 elapsed\n",
      "2012.09.01~2012.09.30 done, 00:00:19 elapsed\n",
      "가계부채+연체 2012 search done, 00:00:26 elapsed\n",
      "2012.10.01~2012.10.31 done, 00:00:26 elapsed\n",
      "가계부채+연체 2012 search done, 00:00:19 elapsed\n",
      "2012.11.01~2012.11.30 done, 00:00:19 elapsed\n",
      "가계부채+연체 2012 search done, 00:00:23 elapsed\n",
      "2012.12.01~2012.12.31 done, 00:00:23 elapsed\n",
      "가계부채+연체 2013 search done, 00:00:20 elapsed\n",
      "2013.01.01~2013.01.31 done, 00:00:20 elapsed\n",
      "가계부채+연체 2013 search done, 00:00:18 elapsed\n",
      "2013.02.01~2013.02.28 done, 00:00:18 elapsed\n",
      "가계부채+연체 2013 search done, 00:00:19 elapsed\n",
      "2013.03.01~2013.03.31 done, 00:00:19 elapsed\n",
      "가계부채+연체 2013 search done, 00:00:25 elapsed\n",
      "2013.04.01~2013.04.30 done, 00:00:25 elapsed\n",
      "가계부채+연체 2013 search done, 00:00:19 elapsed\n",
      "2013.05.01~2013.05.31 done, 00:00:19 elapsed\n",
      "가계부채+연체 2013 search done, 00:00:24 elapsed\n",
      "2013.06.01~2013.06.30 done, 00:00:24 elapsed\n",
      "가계부채+연체 2013 search done, 00:00:27 elapsed\n",
      "2013.07.01~2013.07.31 done, 00:00:27 elapsed\n",
      "가계부채+연체 2013 search done, 00:00:23 elapsed\n",
      "2013.08.01~2013.08.31 done, 00:00:23 elapsed\n",
      "가계부채+연체 2013 search done, 00:00:20 elapsed\n",
      "2013.09.01~2013.09.30 done, 00:00:20 elapsed\n",
      "가계부채+연체 2013 search done, 00:00:27 elapsed\n",
      "2013.10.01~2013.10.31 done, 00:00:27 elapsed\n",
      "가계부채+연체 2013 search done, 00:00:20 elapsed\n",
      "2013.11.01~2013.11.30 done, 00:00:20 elapsed\n",
      "가계부채+연체 2013 search done, 00:00:22 elapsed\n",
      "2013.12.01~2013.12.31 done, 00:00:22 elapsed\n",
      "가계부채+연체 2014 search done, 00:00:19 elapsed\n",
      "2014.01.01~2014.01.31 done, 00:00:19 elapsed\n",
      "가계부채+연체 2014 search done, 00:00:20 elapsed\n",
      "2014.02.01~2014.02.28 done, 00:00:20 elapsed\n",
      "가계부채+연체 2014 search done, 00:00:18 elapsed\n",
      "2014.03.01~2014.03.31 done, 00:00:18 elapsed\n",
      "가계부채+연체 2014 search done, 00:00:21 elapsed\n",
      "2014.04.01~2014.04.30 done, 00:00:21 elapsed\n",
      "가계부채+연체 2014 search done, 00:00:24 elapsed\n",
      "2014.05.01~2014.05.31 done, 00:00:24 elapsed\n",
      "가계부채+연체 2014 search done, 00:00:23 elapsed\n",
      "2014.06.01~2014.06.30 done, 00:00:23 elapsed\n",
      "가계부채+연체 2014 search done, 00:00:17 elapsed\n",
      "2014.07.01~2014.07.31 done, 00:00:17 elapsed\n",
      "가계부채+연체 2014 search done, 00:00:20 elapsed\n",
      "2014.08.01~2014.08.31 done, 00:00:20 elapsed\n",
      "가계부채+연체 2014 search done, 00:00:27 elapsed\n",
      "2014.09.01~2014.09.30 done, 00:00:27 elapsed\n",
      "가계부채+연체 2014 search done, 00:00:19 elapsed\n",
      "2014.10.01~2014.10.31 done, 00:00:19 elapsed\n",
      "가계부채+연체 2014 search done, 00:00:20 elapsed\n",
      "2014.11.01~2014.11.30 done, 00:00:20 elapsed\n",
      "가계부채+연체 2014 search done, 00:00:20 elapsed\n",
      "2014.12.01~2014.12.31 done, 00:00:20 elapsed\n",
      "가계부채+연체 2015 search done, 00:00:20 elapsed\n",
      "2015.01.01~2015.01.31 done, 00:00:20 elapsed\n",
      "가계부채+연체 2015 search done, 00:00:21 elapsed\n",
      "2015.02.01~2015.02.28 done, 00:00:21 elapsed\n",
      "가계부채+연체 2015 search done, 00:00:20 elapsed\n",
      "2015.03.01~2015.03.31 done, 00:00:20 elapsed\n",
      "가계부채+연체 2015 search done, 00:00:21 elapsed\n",
      "2015.04.01~2015.04.30 done, 00:00:21 elapsed\n",
      "가계부채+연체 2015 search done, 00:00:34 elapsed\n",
      "2015.05.01~2015.05.31 done, 00:00:34 elapsed\n",
      "가계부채+연체 2015 search done, 00:00:31 elapsed\n",
      "2015.06.01~2015.06.30 done, 00:00:31 elapsed\n",
      "가계부채+연체 2015 search done, 00:00:20 elapsed\n",
      "2015.07.01~2015.07.31 done, 00:00:20 elapsed\n",
      "가계부채+연체 2015 search done, 00:00:19 elapsed\n",
      "2015.08.01~2015.08.31 done, 00:00:19 elapsed\n",
      "가계부채+연체 2015 search done, 00:00:18 elapsed\n",
      "2015.09.01~2015.09.30 done, 00:00:18 elapsed\n",
      "가계부채+연체 2015 search done, 00:00:25 elapsed\n",
      "2015.10.01~2015.10.31 done, 00:00:25 elapsed\n",
      "가계부채+연체 2015 search done, 00:00:18 elapsed\n",
      "2015.11.01~2015.11.30 done, 00:00:18 elapsed\n",
      "가계부채+연체 2015 search done, 00:00:22 elapsed\n",
      "2015.12.01~2015.12.31 done, 00:00:22 elapsed\n",
      "가계부채+연체 2016 search done, 00:00:18 elapsed\n",
      "2016.01.01~2016.01.31 done, 00:00:18 elapsed\n",
      "가계부채+연체 2016 search done, 00:00:21 elapsed\n",
      "2016.02.01~2016.02.29 done, 00:00:21 elapsed\n",
      "가계부채+연체 2016 search done, 00:00:21 elapsed\n",
      "2016.03.01~2016.03.31 done, 00:00:21 elapsed\n",
      "가계부채+연체 2016 search done, 00:00:21 elapsed\n",
      "2016.04.01~2016.04.30 done, 00:00:21 elapsed\n",
      "가계부채+연체 2016 search done, 00:00:15 elapsed\n",
      "2016.05.01~2016.05.31 done, 00:00:15 elapsed\n",
      "가계부채+연체 2016 search done, 00:00:23 elapsed\n",
      "2016.06.01~2016.06.30 done, 00:00:23 elapsed\n",
      "가계부채+연체 2016 search done, 00:00:21 elapsed\n",
      "2016.07.01~2016.07.31 done, 00:00:21 elapsed\n",
      "가계부채+연체 2016 search done, 00:00:20 elapsed\n",
      "2016.08.01~2016.08.31 done, 00:00:20 elapsed\n",
      "가계부채+연체 2016 search done, 00:00:23 elapsed\n",
      "2016.09.01~2016.09.30 done, 00:00:23 elapsed\n",
      "가계부채+연체 2016 search done, 00:00:23 elapsed\n",
      "2016.10.01~2016.10.31 done, 00:00:23 elapsed\n",
      "가계부채+연체 2016 search done, 00:00:18 elapsed\n",
      "2016.11.01~2016.11.30 done, 00:00:18 elapsed\n",
      "가계부채+연체 2016 search done, 00:00:17 elapsed\n",
      "2016.12.01~2016.12.31 done, 00:00:17 elapsed\n",
      "가계부채+연체 2017 search done, 00:00:20 elapsed\n",
      "2017.01.01~2017.01.31 done, 00:00:20 elapsed\n",
      "가계부채+연체 2017 search done, 00:00:20 elapsed\n",
      "2017.02.01~2017.02.28 done, 00:00:20 elapsed\n",
      "가계부채+연체 2017 search done, 00:00:19 elapsed\n",
      "2017.03.01~2017.03.31 done, 00:00:19 elapsed\n",
      "가계부채+연체 2017 search done, 00:00:21 elapsed\n",
      "2017.04.01~2017.04.30 done, 00:00:21 elapsed\n",
      "가계부채+연체 2017 search done, 00:00:27 elapsed\n",
      "2017.05.01~2017.05.31 done, 00:00:27 elapsed\n",
      "가계부채+연체 2017 search done, 00:00:24 elapsed\n",
      "2017.06.01~2017.06.30 done, 00:00:24 elapsed\n",
      "가계부채+연체 2017 search done, 00:00:22 elapsed\n",
      "2017.07.01~2017.07.31 done, 00:00:22 elapsed\n",
      "가계부채+연체 2017 search done, 00:00:24 elapsed\n",
      "2017.08.01~2017.08.31 done, 00:00:24 elapsed\n",
      "가계부채+연체 2017 search done, 00:00:20 elapsed\n",
      "2017.09.01~2017.09.30 done, 00:00:20 elapsed\n",
      "가계부채+연체 2017 search done, 00:00:19 elapsed\n",
      "2017.10.01~2017.10.31 done, 00:00:19 elapsed\n",
      "가계부채+연체 2017 search done, 00:00:20 elapsed\n",
      "2017.11.01~2017.11.30 done, 00:00:20 elapsed\n",
      "가계부채+연체 2017 search done, 00:00:18 elapsed\n",
      "2017.12.01~2017.12.31 done, 00:00:18 elapsed\n",
      "가계부채+연체 2018 search done, 00:00:26 elapsed\n",
      "2018.01.01~2018.01.31 done, 00:00:26 elapsed\n",
      "가계부채+연체 2018 search done, 00:00:25 elapsed\n",
      "2018.02.01~2018.02.28 done, 00:00:25 elapsed\n",
      "가계부채+연체 2018 search done, 00:00:22 elapsed\n",
      "2018.03.01~2018.03.31 done, 00:00:22 elapsed\n",
      "가계부채+연체 2018 search done, 00:00:16 elapsed\n",
      "2018.04.01~2018.04.30 done, 00:00:16 elapsed\n",
      "가계부채+연체 2018 search done, 00:00:20 elapsed\n",
      "2018.05.01~2018.05.31 done, 00:00:20 elapsed\n",
      "가계부채+연체 2018 search done, 00:00:26 elapsed\n",
      "2018.06.01~2018.06.30 done, 00:00:26 elapsed\n",
      "가계부채+연체 2018 search done, 00:00:19 elapsed\n",
      "2018.07.01~2018.07.31 done, 00:00:19 elapsed\n",
      "가계부채+연체 2018 search done, 00:00:23 elapsed\n",
      "2018.08.01~2018.08.31 done, 00:00:23 elapsed\n",
      "가계부채+연체 2018 search done, 00:00:22 elapsed\n",
      "2018.09.01~2018.09.30 done, 00:00:22 elapsed\n",
      "가계부채+연체 2018 search done, 00:00:19 elapsed\n",
      "2018.10.01~2018.10.31 done, 00:00:19 elapsed\n",
      "가계부채+연체 2018 search done, 00:00:18 elapsed\n",
      "2018.11.01~2018.11.30 done, 00:00:18 elapsed\n",
      "가계부채+연체 2018 search done, 00:00:20 elapsed\n",
      "2018.12.01~2018.12.31 done, 00:00:20 elapsed\n",
      "가계부채+연체 2019 search done, 00:00:25 elapsed\n",
      "2019.01.01~2019.01.31 done, 00:00:25 elapsed\n",
      "가계부채+연체 2019 search done, 00:00:18 elapsed\n",
      "2019.02.01~2019.02.28 done, 00:00:18 elapsed\n",
      "가계부채+연체 2019 search done, 00:00:17 elapsed\n",
      "2019.03.01~2019.03.31 done, 00:00:17 elapsed\n",
      "Wall time: 1h 4min 39s\n"
     ]
    }
   ],
   "source": [
    "%%time\n",
    "dfs = []\n",
    "for beg, end in zip(b_rng,e_rng):\n",
    "    s = time.time()\n",
    "    dfs.append(naver_search_d('가계부채+연체',beg,end,pages=1))\n",
    "    e = time.time() - s\n",
    "    print('{}~{} done, {} elapsed'.format(beg,end,time.strftime('%H:%M:%S',time.gmtime(e))))\n",
    "newsdf = pd.concat(dfs,axis=0)    \n",
    "# Wall time: 1h 12min 22s\n",
    "newsdf.to_pickle('data/newsdf_가계부채_연체_03_19.pkl')"
   ]
  },
  {
   "cell_type": "code",
   "execution_count": 88,
   "metadata": {},
   "outputs": [
    {
     "data": {
      "text/html": [
       "<div>\n",
       "<style scoped>\n",
       "    .dataframe tbody tr th:only-of-type {\n",
       "        vertical-align: middle;\n",
       "    }\n",
       "\n",
       "    .dataframe tbody tr th {\n",
       "        vertical-align: top;\n",
       "    }\n",
       "\n",
       "    .dataframe thead th {\n",
       "        text-align: right;\n",
       "    }\n",
       "</style>\n",
       "<table border=\"1\" class=\"dataframe\">\n",
       "  <thead>\n",
       "    <tr style=\"text-align: right;\">\n",
       "      <th></th>\n",
       "      <th>ym</th>\n",
       "      <th>qry</th>\n",
       "      <th>date</th>\n",
       "      <th>title</th>\n",
       "      <th>text</th>\n",
       "    </tr>\n",
       "  </thead>\n",
       "  <tbody>\n",
       "    <tr>\n",
       "      <th>0</th>\n",
       "      <td>200201</td>\n",
       "      <td>가계부채+연체</td>\n",
       "      <td>None</td>\n",
       "      <td>[금융] \"가계부채 급격한 증가세..위험 징후\"</td>\n",
       "      <td>머니투데이\\n\\n[머니투데이] 한국금융연구원은 31일 가계부채의 급격한 증가나 규모...</td>\n",
       "    </tr>\n",
       "    <tr>\n",
       "      <th>1</th>\n",
       "      <td>200201</td>\n",
       "      <td>가계부채+연체</td>\n",
       "      <td>None</td>\n",
       "      <td>\"가계부채 과도한 증가는 `금융불안' 초래\"&lt;금융연&gt;</td>\n",
       "      <td>`신용카드 부실이 도화선'(서울=연합뉴스) 한승호기자 = 가계부채의 과도한 증가는 ...</td>\n",
       "    </tr>\n",
       "    <tr>\n",
       "      <th>2</th>\n",
       "      <td>200201</td>\n",
       "      <td>가계부채+연체</td>\n",
       "      <td>None</td>\n",
       "      <td>“가계부채 300조 초과…금융불안 요인”</td>\n",
       "      <td>가계부채의 과도한 증가는 금융시장의 불안요인으로 작용할 수 있다는 주장이 나왔다.최...</td>\n",
       "    </tr>\n",
       "    <tr>\n",
       "      <th>3</th>\n",
       "      <td>200201</td>\n",
       "      <td>가계부채+연체</td>\n",
       "      <td>None</td>\n",
       "      <td>가계부채 올해 400조 돌파 예상 .. 한국금융연구원</td>\n",
       "      <td>최근 급증하고 있는 가계부채 규모는 아직 우려할 만한 수준은 아니라고 한국금융연구원...</td>\n",
       "    </tr>\n",
       "    <tr>\n",
       "      <th>4</th>\n",
       "      <td>200201</td>\n",
       "      <td>가계부채+연체</td>\n",
       "      <td>None</td>\n",
       "      <td>[은행 가계대출 왜 줄이나] 개인파산 급증땐 경기회복 찬물</td>\n",
       "      <td>소비거품인가 아니면 경기가 바닥을 치면서 나타나는 일시적 현상인가.\\n\\n\\n\\n최...</td>\n",
       "    </tr>\n",
       "  </tbody>\n",
       "</table>\n",
       "</div>"
      ],
      "text/plain": [
       "       ym      qry  date                             title  \\\n",
       "0  200201  가계부채+연체  None        [금융] \"가계부채 급격한 증가세..위험 징후\"   \n",
       "1  200201  가계부채+연체  None     \"가계부채 과도한 증가는 `금융불안' 초래\"<금융연>   \n",
       "2  200201  가계부채+연체  None            “가계부채 300조 초과…금융불안 요인”   \n",
       "3  200201  가계부채+연체  None     가계부채 올해 400조 돌파 예상 .. 한국금융연구원   \n",
       "4  200201  가계부채+연체  None  [은행 가계대출 왜 줄이나] 개인파산 급증땐 경기회복 찬물   \n",
       "\n",
       "                                                text  \n",
       "0  머니투데이\\n\\n[머니투데이] 한국금융연구원은 31일 가계부채의 급격한 증가나 규모...  \n",
       "1  `신용카드 부실이 도화선'(서울=연합뉴스) 한승호기자 = 가계부채의 과도한 증가는 ...  \n",
       "2  가계부채의 과도한 증가는 금융시장의 불안요인으로 작용할 수 있다는 주장이 나왔다.최...  \n",
       "3  최근 급증하고 있는 가계부채 규모는 아직 우려할 만한 수준은 아니라고 한국금융연구원...  \n",
       "4  소비거품인가 아니면 경기가 바닥을 치면서 나타나는 일시적 현상인가.\\n\\n\\n\\n최...  "
      ]
     },
     "execution_count": 88,
     "metadata": {},
     "output_type": "execute_result"
    }
   ],
   "source": [
    "newsdf.head()"
   ]
  },
  {
   "cell_type": "code",
   "execution_count": 83,
   "metadata": {},
   "outputs": [],
   "source": [
    "newsdf = pd.read_pickle('data/newsdf_가계부채_연체_03_19.pkl')"
   ]
  },
  {
   "cell_type": "markdown",
   "metadata": {},
   "source": [
    "**월별로 기사합치기: newsdf -> ndf**"
   ]
  },
  {
   "cell_type": "code",
   "execution_count": 6,
   "metadata": {},
   "outputs": [],
   "source": [
    "ndf = newsdf.groupby(['ym','qry'])['text'].apply(lambda x: x.sum()).to_frame().reset_index()"
   ]
  },
  {
   "cell_type": "code",
   "execution_count": 7,
   "metadata": {},
   "outputs": [
    {
     "data": {
      "text/html": [
       "<div>\n",
       "<style scoped>\n",
       "    .dataframe tbody tr th:only-of-type {\n",
       "        vertical-align: middle;\n",
       "    }\n",
       "\n",
       "    .dataframe tbody tr th {\n",
       "        vertical-align: top;\n",
       "    }\n",
       "\n",
       "    .dataframe thead th {\n",
       "        text-align: right;\n",
       "    }\n",
       "</style>\n",
       "<table border=\"1\" class=\"dataframe\">\n",
       "  <thead>\n",
       "    <tr style=\"text-align: right;\">\n",
       "      <th></th>\n",
       "      <th>ym</th>\n",
       "      <th>qry</th>\n",
       "      <th>text</th>\n",
       "    </tr>\n",
       "  </thead>\n",
       "  <tbody>\n",
       "    <tr>\n",
       "      <th>0</th>\n",
       "      <td>200201</td>\n",
       "      <td>가계부채+연체</td>\n",
       "      <td>머니투데이\\n\\n[머니투데이] 한국금융연구원은 31일 가계부채의 급격한 증가나 규모...</td>\n",
       "    </tr>\n",
       "    <tr>\n",
       "      <th>1</th>\n",
       "      <td>200202</td>\n",
       "      <td>가계부채+연체</td>\n",
       "      <td>PICK 안내 해당 언론사가 주요기사로\\n\\n직접 선정한 기사입니다. 언론사 편집판...</td>\n",
       "    </tr>\n",
       "    <tr>\n",
       "      <th>2</th>\n",
       "      <td>200203</td>\n",
       "      <td>가계부채+연체</td>\n",
       "      <td>이번 호황기에 가계대출규모가 적정수준을 넘어설 경우 다음 침체기엔 가계부실화가 더욱...</td>\n",
       "    </tr>\n",
       "    <tr>\n",
       "      <th>3</th>\n",
       "      <td>200204</td>\n",
       "      <td>가계부채+연체</td>\n",
       "      <td>지난 3월중 은행의 가계대출은 7조6천9백50억원이 늘어나 최근의 급등세를 이어갔다...</td>\n",
       "    </tr>\n",
       "    <tr>\n",
       "      <th>4</th>\n",
       "      <td>200205</td>\n",
       "      <td>가계부채+연체</td>\n",
       "      <td>카드 빚을 못갚아 발생하는 신용불량자가 해마다 급증하고 있다.금융감독원에 따르면 L...</td>\n",
       "    </tr>\n",
       "  </tbody>\n",
       "</table>\n",
       "</div>"
      ],
      "text/plain": [
       "       ym      qry                                               text\n",
       "0  200201  가계부채+연체  머니투데이\\n\\n[머니투데이] 한국금융연구원은 31일 가계부채의 급격한 증가나 규모...\n",
       "1  200202  가계부채+연체  PICK 안내 해당 언론사가 주요기사로\\n\\n직접 선정한 기사입니다. 언론사 편집판...\n",
       "2  200203  가계부채+연체  이번 호황기에 가계대출규모가 적정수준을 넘어설 경우 다음 침체기엔 가계부실화가 더욱...\n",
       "3  200204  가계부채+연체  지난 3월중 은행의 가계대출은 7조6천9백50억원이 늘어나 최근의 급등세를 이어갔다...\n",
       "4  200205  가계부채+연체  카드 빚을 못갚아 발생하는 신용불량자가 해마다 급증하고 있다.금융감독원에 따르면 L..."
      ]
     },
     "execution_count": 7,
     "metadata": {},
     "output_type": "execute_result"
    }
   ],
   "source": [
    "ndf.head()"
   ]
  },
  {
   "cell_type": "markdown",
   "metadata": {},
   "source": [
    "**Tokenize : 명사,형용사,부사만**"
   ]
  },
  {
   "cell_type": "code",
   "execution_count": 8,
   "metadata": {},
   "outputs": [],
   "source": [
    "pos_list = ['Adjective','Adverb','Noun']\n",
    "tok_p = lambda doc: ['/'.join(t) for t in okt.pos(doc) if t[1] in pos_list] # okt.pos(doc): (사스, Noun) => 사스/Noun"
   ]
  },
  {
   "cell_type": "code",
   "execution_count": 9,
   "metadata": {},
   "outputs": [
    {
     "name": "stdout",
     "output_type": "stream",
     "text": [
      "Wall time: 3min 12s\n"
     ]
    }
   ],
   "source": [
    "%%time\n",
    "ndf['tok_txt'] = ndf.text.apply(tok_p) # tok_txt : tokenize된 text"
   ]
  },
  {
   "cell_type": "markdown",
   "metadata": {},
   "source": [
    "**Doc2Vec**"
   ]
  },
  {
   "cell_type": "code",
   "execution_count": 10,
   "metadata": {},
   "outputs": [
    {
     "data": {
      "text/plain": [
       "4"
      ]
     },
     "execution_count": 10,
     "metadata": {},
     "output_type": "execute_result"
    }
   ],
   "source": [
    "import multiprocessing\n",
    "cores = multiprocessing.cpu_count()\n",
    "from tqdm import tqdm\n",
    "tqdm.pandas(desc=\"progress-bar\")\n",
    "from sklearn import utils\n",
    "cores"
   ]
  },
  {
   "cell_type": "code",
   "execution_count": 11,
   "metadata": {},
   "outputs": [],
   "source": [
    "tagdoc = lambda txt, ym: [TaggedDocument(words=txt,tags=[ym])]"
   ]
  },
  {
   "cell_type": "code",
   "execution_count": 12,
   "metadata": {},
   "outputs": [],
   "source": [
    "tag_txt = ndf.apply(lambda x: tagdoc(x.tok_txt,x.ym),axis=1) # tag_txt : doc2vec 입력용으로 변환, 기사별"
   ]
  },
  {
   "cell_type": "code",
   "execution_count": 13,
   "metadata": {},
   "outputs": [],
   "source": [
    "tag_txt = [t for x in tag_txt for t in x] # tag_txt : 모델개발용으로 하나로 합침"
   ]
  },
  {
   "cell_type": "code",
   "execution_count": 14,
   "metadata": {},
   "outputs": [],
   "source": [
    "%%time\n",
    "# 토큰업로드\n",
    "max_epochs = 30\n",
    "vec_size = 10\n",
    "alpha = 0.025\n",
    "\n",
    "model_dbow_txt = Doc2Vec(dm=0,\n",
    "                     vector_size=vec_size,\n",
    "                     alpha=alpha, \n",
    "                     min_alpha=0.00025,\n",
    "                     min_count=1,\n",
    "                     workers=cores)\n",
    "model_dbow_txt.build_vocab(tag_txt)\n",
    "# 모델피팅\n",
    "for epoch in range(30):\n",
    "    model_dbow_txt.train(utils.shuffle([x for x in tqdm(tag_txt)]),\n",
    "                    total_examples=model_dbow_txt.corpus_count,\n",
    "                    epochs=10)\n",
    "    model_dbow_txt.alpha -= 0.002\n",
    "    model_dbow_txt.min_alpha = model_dbow_txt.alpha"
   ]
  },
  {
   "cell_type": "code",
   "execution_count": 15,
   "metadata": {},
   "outputs": [],
   "source": [
    "# 벡터라이징\n",
    "dvec1 = list(map(lambda x: model_dbow_txt.infer_vector(x), ndf.tok_txt))\n",
    "cname = ['dx'+str(i) for i in np.arange(1,vec_size+1)]\n",
    "dvec1 = pd.DataFrame(dvec1,columns = cname)\n",
    "# Wall time: 1min 25s"
   ]
  },
  {
   "cell_type": "code",
   "execution_count": 16,
   "metadata": {},
   "outputs": [
    {
     "data": {
      "text/html": [
       "<div>\n",
       "<style scoped>\n",
       "    .dataframe tbody tr th:only-of-type {\n",
       "        vertical-align: middle;\n",
       "    }\n",
       "\n",
       "    .dataframe tbody tr th {\n",
       "        vertical-align: top;\n",
       "    }\n",
       "\n",
       "    .dataframe thead th {\n",
       "        text-align: right;\n",
       "    }\n",
       "</style>\n",
       "<table border=\"1\" class=\"dataframe\">\n",
       "  <thead>\n",
       "    <tr style=\"text-align: right;\">\n",
       "      <th></th>\n",
       "      <th>dx1</th>\n",
       "      <th>dx2</th>\n",
       "      <th>dx3</th>\n",
       "      <th>dx4</th>\n",
       "      <th>dx5</th>\n",
       "      <th>dx6</th>\n",
       "      <th>dx7</th>\n",
       "      <th>dx8</th>\n",
       "      <th>dx9</th>\n",
       "      <th>dx10</th>\n",
       "    </tr>\n",
       "  </thead>\n",
       "  <tbody>\n",
       "    <tr>\n",
       "      <th>0</th>\n",
       "      <td>1.021819</td>\n",
       "      <td>2.056621</td>\n",
       "      <td>0.610365</td>\n",
       "      <td>-0.123577</td>\n",
       "      <td>1.240562</td>\n",
       "      <td>1.890712</td>\n",
       "      <td>-4.539706</td>\n",
       "      <td>0.102816</td>\n",
       "      <td>-0.482126</td>\n",
       "      <td>-0.702655</td>\n",
       "    </tr>\n",
       "    <tr>\n",
       "      <th>1</th>\n",
       "      <td>1.094471</td>\n",
       "      <td>2.091204</td>\n",
       "      <td>0.584936</td>\n",
       "      <td>-0.119116</td>\n",
       "      <td>1.213648</td>\n",
       "      <td>1.893989</td>\n",
       "      <td>-4.499334</td>\n",
       "      <td>0.073955</td>\n",
       "      <td>-0.389915</td>\n",
       "      <td>-0.715534</td>\n",
       "    </tr>\n",
       "    <tr>\n",
       "      <th>2</th>\n",
       "      <td>0.956285</td>\n",
       "      <td>1.958779</td>\n",
       "      <td>0.546500</td>\n",
       "      <td>-0.096701</td>\n",
       "      <td>1.453336</td>\n",
       "      <td>1.928105</td>\n",
       "      <td>-4.511371</td>\n",
       "      <td>0.020485</td>\n",
       "      <td>-0.334370</td>\n",
       "      <td>-0.742639</td>\n",
       "    </tr>\n",
       "    <tr>\n",
       "      <th>3</th>\n",
       "      <td>1.247508</td>\n",
       "      <td>1.981809</td>\n",
       "      <td>0.610039</td>\n",
       "      <td>-0.201786</td>\n",
       "      <td>1.270034</td>\n",
       "      <td>1.793405</td>\n",
       "      <td>-4.556437</td>\n",
       "      <td>0.018131</td>\n",
       "      <td>-0.416814</td>\n",
       "      <td>-0.734173</td>\n",
       "    </tr>\n",
       "    <tr>\n",
       "      <th>4</th>\n",
       "      <td>0.913071</td>\n",
       "      <td>1.980789</td>\n",
       "      <td>0.606029</td>\n",
       "      <td>-0.234927</td>\n",
       "      <td>1.277310</td>\n",
       "      <td>1.854718</td>\n",
       "      <td>-4.631801</td>\n",
       "      <td>0.099314</td>\n",
       "      <td>-0.412097</td>\n",
       "      <td>-0.798775</td>\n",
       "    </tr>\n",
       "  </tbody>\n",
       "</table>\n",
       "</div>"
      ],
      "text/plain": [
       "        dx1       dx2       dx3       dx4       dx5       dx6       dx7  \\\n",
       "0  1.021819  2.056621  0.610365 -0.123577  1.240562  1.890712 -4.539706   \n",
       "1  1.094471  2.091204  0.584936 -0.119116  1.213648  1.893989 -4.499334   \n",
       "2  0.956285  1.958779  0.546500 -0.096701  1.453336  1.928105 -4.511371   \n",
       "3  1.247508  1.981809  0.610039 -0.201786  1.270034  1.793405 -4.556437   \n",
       "4  0.913071  1.980789  0.606029 -0.234927  1.277310  1.854718 -4.631801   \n",
       "\n",
       "        dx8       dx9      dx10  \n",
       "0  0.102816 -0.482126 -0.702655  \n",
       "1  0.073955 -0.389915 -0.715534  \n",
       "2  0.020485 -0.334370 -0.742639  \n",
       "3  0.018131 -0.416814 -0.734173  \n",
       "4  0.099314 -0.412097 -0.798775  "
      ]
     },
     "execution_count": 16,
     "metadata": {},
     "output_type": "execute_result"
    }
   ],
   "source": [
    "dvec1.head()"
   ]
  },
  {
   "cell_type": "code",
   "execution_count": 56,
   "metadata": {},
   "outputs": [],
   "source": [
    "bidx = pd.read_pickle('data/busil_idx.pkl')\n",
    "bidx.ym = bidx.ym.astype(str)"
   ]
  },
  {
   "cell_type": "code",
   "execution_count": 59,
   "metadata": {},
   "outputs": [],
   "source": [
    "ndf2 = pd.concat([ndf,dvec1],axis=1)"
   ]
  },
  {
   "cell_type": "code",
   "execution_count": 60,
   "metadata": {},
   "outputs": [],
   "source": [
    "ndf2 = ndf2.merge(bidx,how='left',left_on='ym',right_on='ym')"
   ]
  },
  {
   "cell_type": "code",
   "execution_count": 63,
   "metadata": {},
   "outputs": [],
   "source": [
    "ndf2['date'] = pd.to_datetime(ndf2.ym, format='%Y%m')"
   ]
  },
  {
   "cell_type": "code",
   "execution_count": 64,
   "metadata": {},
   "outputs": [
    {
     "data": {
      "text/html": [
       "<div>\n",
       "<style scoped>\n",
       "    .dataframe tbody tr th:only-of-type {\n",
       "        vertical-align: middle;\n",
       "    }\n",
       "\n",
       "    .dataframe tbody tr th {\n",
       "        vertical-align: top;\n",
       "    }\n",
       "\n",
       "    .dataframe thead th {\n",
       "        text-align: right;\n",
       "    }\n",
       "</style>\n",
       "<table border=\"1\" class=\"dataframe\">\n",
       "  <thead>\n",
       "    <tr style=\"text-align: right;\">\n",
       "      <th></th>\n",
       "      <th>ym</th>\n",
       "      <th>qry</th>\n",
       "      <th>text</th>\n",
       "      <th>tok_txt</th>\n",
       "      <th>dx1</th>\n",
       "      <th>dx2</th>\n",
       "      <th>dx3</th>\n",
       "      <th>dx4</th>\n",
       "      <th>dx5</th>\n",
       "      <th>dx6</th>\n",
       "      <th>dx7</th>\n",
       "      <th>dx8</th>\n",
       "      <th>dx9</th>\n",
       "      <th>dx10</th>\n",
       "      <th>cycle</th>\n",
       "      <th>tcycle</th>\n",
       "      <th>가계소득지표</th>\n",
       "      <th>가계소비지표</th>\n",
       "      <th>차입수준지표</th>\n",
       "      <th>date</th>\n",
       "    </tr>\n",
       "  </thead>\n",
       "  <tbody>\n",
       "    <tr>\n",
       "      <th>0</th>\n",
       "      <td>200201</td>\n",
       "      <td>가계부채+연체</td>\n",
       "      <td>머니투데이\\n\\n[머니투데이] 한국금융연구원은 31일 가계부채의 급격한 증가나 규모...</td>\n",
       "      <td>[머니투데이/Noun, 머니투데이/Noun, 한국/Noun, 금융/Noun, 연구원...</td>\n",
       "      <td>1.021819</td>\n",
       "      <td>2.056621</td>\n",
       "      <td>0.610365</td>\n",
       "      <td>-0.123577</td>\n",
       "      <td>1.240562</td>\n",
       "      <td>1.890712</td>\n",
       "      <td>-4.539706</td>\n",
       "      <td>0.102816</td>\n",
       "      <td>-0.482126</td>\n",
       "      <td>-0.702655</td>\n",
       "      <td>NaN</td>\n",
       "      <td>NaN</td>\n",
       "      <td>NaN</td>\n",
       "      <td>NaN</td>\n",
       "      <td>NaN</td>\n",
       "      <td>2002-01-01</td>\n",
       "    </tr>\n",
       "    <tr>\n",
       "      <th>1</th>\n",
       "      <td>200202</td>\n",
       "      <td>가계부채+연체</td>\n",
       "      <td>PICK 안내 해당 언론사가 주요기사로\\n\\n직접 선정한 기사입니다. 언론사 편집판...</td>\n",
       "      <td>[안내/Noun, 해당/Noun, 언론사/Noun, 기사/Noun, 직접/Noun,...</td>\n",
       "      <td>1.094471</td>\n",
       "      <td>2.091204</td>\n",
       "      <td>0.584936</td>\n",
       "      <td>-0.119116</td>\n",
       "      <td>1.213648</td>\n",
       "      <td>1.893989</td>\n",
       "      <td>-4.499334</td>\n",
       "      <td>0.073955</td>\n",
       "      <td>-0.389915</td>\n",
       "      <td>-0.715534</td>\n",
       "      <td>NaN</td>\n",
       "      <td>NaN</td>\n",
       "      <td>NaN</td>\n",
       "      <td>NaN</td>\n",
       "      <td>NaN</td>\n",
       "      <td>2002-02-01</td>\n",
       "    </tr>\n",
       "    <tr>\n",
       "      <th>2</th>\n",
       "      <td>200203</td>\n",
       "      <td>가계부채+연체</td>\n",
       "      <td>이번 호황기에 가계대출규모가 적정수준을 넘어설 경우 다음 침체기엔 가계부실화가 더욱...</td>\n",
       "      <td>[이번/Noun, 호황/Noun, 기/Noun, 가계/Noun, 대출/Noun, 규...</td>\n",
       "      <td>0.956285</td>\n",
       "      <td>1.958779</td>\n",
       "      <td>0.546500</td>\n",
       "      <td>-0.096701</td>\n",
       "      <td>1.453336</td>\n",
       "      <td>1.928105</td>\n",
       "      <td>-4.511371</td>\n",
       "      <td>0.020485</td>\n",
       "      <td>-0.334370</td>\n",
       "      <td>-0.742639</td>\n",
       "      <td>NaN</td>\n",
       "      <td>NaN</td>\n",
       "      <td>NaN</td>\n",
       "      <td>NaN</td>\n",
       "      <td>NaN</td>\n",
       "      <td>2002-03-01</td>\n",
       "    </tr>\n",
       "    <tr>\n",
       "      <th>3</th>\n",
       "      <td>200204</td>\n",
       "      <td>가계부채+연체</td>\n",
       "      <td>지난 3월중 은행의 가계대출은 7조6천9백50억원이 늘어나 최근의 급등세를 이어갔다...</td>\n",
       "      <td>[지난/Noun, 은행/Noun, 가계/Noun, 대출/Noun, 백/Noun, 최...</td>\n",
       "      <td>1.247508</td>\n",
       "      <td>1.981809</td>\n",
       "      <td>0.610039</td>\n",
       "      <td>-0.201786</td>\n",
       "      <td>1.270034</td>\n",
       "      <td>1.793405</td>\n",
       "      <td>-4.556437</td>\n",
       "      <td>0.018131</td>\n",
       "      <td>-0.416814</td>\n",
       "      <td>-0.734173</td>\n",
       "      <td>NaN</td>\n",
       "      <td>NaN</td>\n",
       "      <td>NaN</td>\n",
       "      <td>NaN</td>\n",
       "      <td>NaN</td>\n",
       "      <td>2002-04-01</td>\n",
       "    </tr>\n",
       "    <tr>\n",
       "      <th>4</th>\n",
       "      <td>200205</td>\n",
       "      <td>가계부채+연체</td>\n",
       "      <td>카드 빚을 못갚아 발생하는 신용불량자가 해마다 급증하고 있다.금융감독원에 따르면 L...</td>\n",
       "      <td>[카드/Noun, 빚/Noun, 발생/Noun, 신용/Noun, 불량/Noun, 해...</td>\n",
       "      <td>0.913071</td>\n",
       "      <td>1.980789</td>\n",
       "      <td>0.606029</td>\n",
       "      <td>-0.234927</td>\n",
       "      <td>1.277310</td>\n",
       "      <td>1.854718</td>\n",
       "      <td>-4.631801</td>\n",
       "      <td>0.099314</td>\n",
       "      <td>-0.412097</td>\n",
       "      <td>-0.798775</td>\n",
       "      <td>NaN</td>\n",
       "      <td>NaN</td>\n",
       "      <td>NaN</td>\n",
       "      <td>NaN</td>\n",
       "      <td>NaN</td>\n",
       "      <td>2002-05-01</td>\n",
       "    </tr>\n",
       "  </tbody>\n",
       "</table>\n",
       "</div>"
      ],
      "text/plain": [
       "       ym      qry                                               text  \\\n",
       "0  200201  가계부채+연체  머니투데이\\n\\n[머니투데이] 한국금융연구원은 31일 가계부채의 급격한 증가나 규모...   \n",
       "1  200202  가계부채+연체  PICK 안내 해당 언론사가 주요기사로\\n\\n직접 선정한 기사입니다. 언론사 편집판...   \n",
       "2  200203  가계부채+연체  이번 호황기에 가계대출규모가 적정수준을 넘어설 경우 다음 침체기엔 가계부실화가 더욱...   \n",
       "3  200204  가계부채+연체  지난 3월중 은행의 가계대출은 7조6천9백50억원이 늘어나 최근의 급등세를 이어갔다...   \n",
       "4  200205  가계부채+연체  카드 빚을 못갚아 발생하는 신용불량자가 해마다 급증하고 있다.금융감독원에 따르면 L...   \n",
       "\n",
       "                                             tok_txt       dx1       dx2  \\\n",
       "0  [머니투데이/Noun, 머니투데이/Noun, 한국/Noun, 금융/Noun, 연구원...  1.021819  2.056621   \n",
       "1  [안내/Noun, 해당/Noun, 언론사/Noun, 기사/Noun, 직접/Noun,...  1.094471  2.091204   \n",
       "2  [이번/Noun, 호황/Noun, 기/Noun, 가계/Noun, 대출/Noun, 규...  0.956285  1.958779   \n",
       "3  [지난/Noun, 은행/Noun, 가계/Noun, 대출/Noun, 백/Noun, 최...  1.247508  1.981809   \n",
       "4  [카드/Noun, 빚/Noun, 발생/Noun, 신용/Noun, 불량/Noun, 해...  0.913071  1.980789   \n",
       "\n",
       "        dx3       dx4       dx5       dx6       dx7       dx8       dx9  \\\n",
       "0  0.610365 -0.123577  1.240562  1.890712 -4.539706  0.102816 -0.482126   \n",
       "1  0.584936 -0.119116  1.213648  1.893989 -4.499334  0.073955 -0.389915   \n",
       "2  0.546500 -0.096701  1.453336  1.928105 -4.511371  0.020485 -0.334370   \n",
       "3  0.610039 -0.201786  1.270034  1.793405 -4.556437  0.018131 -0.416814   \n",
       "4  0.606029 -0.234927  1.277310  1.854718 -4.631801  0.099314 -0.412097   \n",
       "\n",
       "       dx10  cycle  tcycle  가계소득지표  가계소비지표  차입수준지표       date  \n",
       "0 -0.702655    NaN     NaN     NaN     NaN     NaN 2002-01-01  \n",
       "1 -0.715534    NaN     NaN     NaN     NaN     NaN 2002-02-01  \n",
       "2 -0.742639    NaN     NaN     NaN     NaN     NaN 2002-03-01  \n",
       "3 -0.734173    NaN     NaN     NaN     NaN     NaN 2002-04-01  \n",
       "4 -0.798775    NaN     NaN     NaN     NaN     NaN 2002-05-01  "
      ]
     },
     "execution_count": 64,
     "metadata": {},
     "output_type": "execute_result"
    }
   ],
   "source": [
    "ndf2.head()"
   ]
  },
  {
   "cell_type": "code",
   "execution_count": 81,
   "metadata": {},
   "outputs": [],
   "source": [
    "ndf2.to_pickle('data/ndf2.pkl')"
   ]
  },
  {
   "cell_type": "code",
   "execution_count": 62,
   "metadata": {},
   "outputs": [],
   "source": [
    "import seaborn as sns\n",
    "import matplotlib.pyplot as plt"
   ]
  },
  {
   "cell_type": "code",
   "execution_count": 79,
   "metadata": {},
   "outputs": [
    {
     "data": {
      "text/plain": [
       "[<matplotlib.lines.Line2D at 0x266ef30f438>]"
      ]
     },
     "execution_count": 79,
     "metadata": {},
     "output_type": "execute_result"
    },
    {
     "data": {
      "image/png": "[encoded data removed]",
      "text/plain": [
       "<Figure size 432x288 with 1 Axes>"
      ]
     },
     "metadata": {
      "needs_background": "light"
     },
     "output_type": "display_data"
    }
   ],
   "source": [
    "plt.plot_date('date','dx1','-',color='steelblue',data=ndf2)"
   ]
  },
  {
   "cell_type": "code",
   "execution_count": null,
   "metadata": {},
   "outputs": [],
   "source": []
  }
 ],
 "metadata": {
  "kernelspec": {
   "display_name": "Python 3",
   "language": "python",
   "name": "python3"
  },
  "language_info": {
   "codemirror_mode": {
    "name": "ipython",
    "version": 3
   },
   "file_extension": ".py",
   "mimetype": "text/x-python",
   "name": "python",
   "nbconvert_exporter": "python",
   "pygments_lexer": "ipython3",
   "version": "3.7.0"
  }
 },
 "nbformat": 4,
 "nbformat_minor": 2
}
