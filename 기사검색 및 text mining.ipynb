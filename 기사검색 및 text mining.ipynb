{
 "cells": [
  {
   "cell_type": "code",
   "execution_count": 2,
   "metadata": {},
   "outputs": [
    {
     "name": "stderr",
     "output_type": "stream",
     "text": [
      "java version \"1.8.0_201\"\n",
      "Java(TM) SE Runtime Environment (build 1.8.0_201-b09)\n",
      "Java HotSpot(TM) Client VM (build 25.201-b09, mixed mode)\n"
     ]
    }
   ],
   "source": [
    "!java -version"
   ]
  },
  {
   "cell_type": "code",
   "execution_count": 3,
   "metadata": {},
   "outputs": [
    {
     "name": "stdout",
     "output_type": "stream",
     "text": [
      "Requirement already up-to-date: pip in c:\\users\\09925296\\appdata\\local\\continuum\\miniconda3\\lib\\site-packages (19.0.3)\n"
     ]
    }
   ],
   "source": [
    "!pip install --upgrade pip"
   ]
  },
  {
   "cell_type": "code",
   "execution_count": 4,
   "metadata": {},
   "outputs": [
    {
     "name": "stdout",
     "output_type": "stream",
     "text": [
      "Python 3.7.0\n"
     ]
    }
   ],
   "source": [
    "!python -V"
   ]
  },
  {
   "cell_type": "code",
   "execution_count": 5,
   "metadata": {},
   "outputs": [
    {
     "name": "stdout",
     "output_type": "stream",
     "text": [
      "Requirement already satisfied: JPype1==0.6.3 from file:///Z:/data/JPype1-0.6.3-cp37-cp37m-win32.whl in c:\\users\\09925296\\appdata\\local\\continuum\\miniconda3\\lib\\site-packages (0.6.3)\n"
     ]
    }
   ],
   "source": [
    "!pip install z:/data/JPype1-0.6.3-cp37-cp37m-win32.whl"
   ]
  },
  {
   "cell_type": "code",
   "execution_count": 6,
   "metadata": {},
   "outputs": [
    {
     "name": "stdout",
     "output_type": "stream",
     "text": [
      "Requirement already satisfied: konlpy in c:\\users\\09925296\\appdata\\local\\continuum\\miniconda3\\lib\\site-packages (0.5.1)\n",
      "Requirement already satisfied: JPype1>=0.5.7 in c:\\users\\09925296\\appdata\\local\\continuum\\miniconda3\\lib\\site-packages (from konlpy) (0.6.3)\n"
     ]
    }
   ],
   "source": [
    "!pip install konlpy"
   ]
  },
  {
   "cell_type": "code",
   "execution_count": 7,
   "metadata": {},
   "outputs": [],
   "source": [
    "from konlpy.tag import Hannanum"
   ]
  },
  {
   "cell_type": "code",
   "execution_count": 8,
   "metadata": {},
   "outputs": [],
   "source": [
    "han = Hannanum()"
   ]
  },
  {
   "cell_type": "code",
   "execution_count": 9,
   "metadata": {},
   "outputs": [],
   "source": [
    "from konlpy.tag import Kkma"
   ]
  },
  {
   "cell_type": "code",
   "execution_count": 10,
   "metadata": {},
   "outputs": [],
   "source": [
    "kkma = Kkma()"
   ]
  },
  {
   "cell_type": "code",
   "execution_count": 12,
   "metadata": {},
   "outputs": [
    {
     "name": "stdout",
     "output_type": "stream",
     "text": [
      "[[[('롯데마트', 'ncn'), ('의', 'jcm')], [('롯데마트의', 'ncn')], [('롯데마트', 'nqq'), ('의', 'jcm')], [('롯데마트의', 'nqq')]], [[('흑마늘', 'ncn')], [('흑마늘', 'nqq')]], [[('양념', 'ncn')]], [[('치킨', 'ncn'), ('이', 'jcc')], [('치킨', 'ncn'), ('이', 'jcs')], [('치킨', 'ncn'), ('이', 'ncn')]], [[('논란', 'ncpa'), ('이', 'jcc')], [('논란', 'ncpa'), ('이', 'jcs')], [('논란', 'ncpa'), ('이', 'ncn')]], [[('되', 'nbu'), ('고', 'jcj')], [('되', 'nbu'), ('이', 'jp'), ('고', 'ecc')], [('되', 'nbu'), ('이', 'jp'), ('고', 'ecs')], [('되', 'nbu'), ('이', 'jp'), ('고', 'ecx')], [('되', 'paa'), ('고', 'ecc')], [('되', 'paa'), ('고', 'ecs')], [('되', 'paa'), ('고', 'ecx')], [('되', 'pvg'), ('고', 'ecc')], [('되', 'pvg'), ('고', 'ecs')], [('되', 'pvg'), ('고', 'ecx')], [('되', 'px'), ('고', 'ecc')], [('되', 'px'), ('고', 'ecs')], [('되', 'px'), ('고', 'ecx')]], [[('있', 'paa'), ('다', 'ef')], [('있', 'px'), ('다', 'ef')]], [[('.', 'sf')], [('.', 'sy')]]]\n"
     ]
    }
   ],
   "source": [
    "print(han.analyze(u'롯데마트의 흑마늘 양념 치킨이 논란이 되고 있다.'))"
   ]
  },
  {
   "cell_type": "code",
   "execution_count": 13,
   "metadata": {},
   "outputs": [],
   "source": [
    "from urllib.request import urlopen\n",
    "from urllib.parse import quote_plus\n",
    "from bs4 import BeautifulSoup as soup\n",
    "from newspaper import Article\n",
    "from time import sleep\n",
    "import time\n",
    "import pandas as pd\n",
    "import numpy as np"
   ]
  },
  {
   "cell_type": "code",
   "execution_count": 14,
   "metadata": {},
   "outputs": [],
   "source": [
    "# naver news 기간검색\n",
    "def naver_search_d(qry,beg,end,pages=3): \n",
    "    articles = []\n",
    "    title = []\n",
    "    href = []\n",
    "    date = []\n",
    "    text = []\n",
    "    stime = time.time()\n",
    "    # original 주소 \n",
    "    url0 = \"https://search.naver.com/search.naver?&where=news&query={0}&sm=tab_pge&sort=0&photo=0&field=0&reporter_article=&pd=3&ds={1}&de={2}&docid=&nso=so:r,p:from{3}to{4},a:all&mynews=0&cluster_rank=22&start={5}&refresh_start=0\"\n",
    "    # 네이버 검색결과 page별\n",
    "    begx = beg.replace('.','')\n",
    "    endx = end.replace('.','')\n",
    "    for i in range(pages): \n",
    "        start = i*10+1\n",
    "        qry1 = quote_plus(qry)\n",
    "        url = url0.format(qry1,beg,end,begx,endx,start)\n",
    "        obj = soup(urlopen(url),'html.parser')\n",
    "        # links : naver 검색결과 뉴스들의 링크들\n",
    "        links = obj.find_all('a',{'class':'_sp_each_title'})\n",
    "        # 링크별 기사가져오기 \n",
    "        for link in links:\n",
    "            h = link.get('href') # hyperlink\n",
    "            try:\n",
    "                a = Article(h,language='ko') # 기사가져오기 \n",
    "                a.download();a.parse()\n",
    "                articles.append(a)\n",
    "                title.append(a.title)\n",
    "                date.append(a.publish_date)\n",
    "                text.append(a.text)\n",
    "            except:\n",
    "                pass\n",
    "            sleep(np.random.randint(1,4))\n",
    "    etime = time.time() - stime\n",
    "    elaps = time.strftime('%H:%M:%S',time.gmtime(etime))\n",
    "    news = pd.DataFrame(dict(qry=qry,date=date,title=title,text=text))        \n",
    "    print('{} {} search done, {} elapsed'.format(qry,begx[:4],elaps))\n",
    "    return news\n",
    "# naver_search_d"
   ]
  },
  {
   "cell_type": "code",
   "execution_count": 32,
   "metadata": {},
   "outputs": [
    {
     "name": "stdout",
     "output_type": "stream",
     "text": [
      "보험계약대출+약관대출 2013 search done, 00:00:54 elapsed\n",
      "보험계약대출+약관대출 2014 search done, 00:00:58 elapsed\n",
      "보험계약대출+약관대출 2015 search done, 00:00:47 elapsed\n",
      "보험계약대출+약관대출 2016 search done, 00:00:40 elapsed\n",
      "보험계약대출+약관대출 2017 search done, 00:00:53 elapsed\n",
      "보험계약대출+약관대출 2018 search done, 00:00:46 elapsed\n",
      "Wall time: 5min\n"
     ]
    }
   ],
   "source": [
    "%%time\n",
    "drng = lambda x,y,f: pd.date_range(x,y,freq=f).strftime('%Y.%m.%d')\n",
    "frm = drng('2013','2019','YS')\n",
    "tom = drng('2013','2019','Y')\n",
    "news = []\n",
    "for f,t in zip(frm,tom):\n",
    "    news.append(naver_search_d('보험계약대출+약관대출',f,t,pages=2))"
   ]
  },
  {
   "cell_type": "code",
   "execution_count": 33,
   "metadata": {},
   "outputs": [],
   "source": [
    "newsdf = pd.concat(news,axis=0)"
   ]
  },
  {
   "cell_type": "code",
   "execution_count": 34,
   "metadata": {},
   "outputs": [
    {
     "data": {
      "text/plain": [
       "(120, 4)"
      ]
     },
     "execution_count": 34,
     "metadata": {},
     "output_type": "execute_result"
    }
   ],
   "source": [
    "newsdf.shape"
   ]
  },
  {
   "cell_type": "code",
   "execution_count": 35,
   "metadata": {},
   "outputs": [
    {
     "data": {
      "text/html": [
       "<div>\n",
       "<style scoped>\n",
       "    .dataframe tbody tr th:only-of-type {\n",
       "        vertical-align: middle;\n",
       "    }\n",
       "\n",
       "    .dataframe tbody tr th {\n",
       "        vertical-align: top;\n",
       "    }\n",
       "\n",
       "    .dataframe thead th {\n",
       "        text-align: right;\n",
       "    }\n",
       "</style>\n",
       "<table border=\"1\" class=\"dataframe\">\n",
       "  <thead>\n",
       "    <tr style=\"text-align: right;\">\n",
       "      <th></th>\n",
       "      <th>qry</th>\n",
       "      <th>date</th>\n",
       "      <th>title</th>\n",
       "      <th>text</th>\n",
       "    </tr>\n",
       "  </thead>\n",
       "  <tbody>\n",
       "    <tr>\n",
       "      <th>0</th>\n",
       "      <td>보험계약대출+약관대출</td>\n",
       "      <td>None</td>\n",
       "      <td>2014 새해 달라지는 것들-금융ㆍ증권</td>\n",
       "      <td>◇자동차보험 차량모델등급제도 개선 = 보험료의 공평한 부담을 위해 자가용 승용차의 ...</td>\n",
       "    </tr>\n",
       "    <tr>\n",
       "      <th>1</th>\n",
       "      <td>보험계약대출+약관대출</td>\n",
       "      <td>None</td>\n",
       "      <td>2014년부터 달라지는 은행·보험·증권 금융제도</td>\n",
       "      <td>▲(사진=왕진오 기자)\\n\\n내년부터 ATM 현금거래시 마그네틱카드 사용이 전면 금...</td>\n",
       "    </tr>\n",
       "    <tr>\n",
       "      <th>2</th>\n",
       "      <td>보험계약대출+약관대출</td>\n",
       "      <td>2013-12-22 12:00:00+09:00</td>\n",
       "      <td>10월말 보험사 대출 125.6조원..연체율 0.69%</td>\n",
       "      <td>[이데일리 이준기 기자] 금융감독원은 10월말 보험회사의 대출채권 잔액이 125조6...</td>\n",
       "    </tr>\n",
       "    <tr>\n",
       "      <th>3</th>\n",
       "      <td>보험계약대출+약관대출</td>\n",
       "      <td>None</td>\n",
       "      <td>대체휴일제 추석때 첫 적용…운전중 DMB 보면 범칙금</td>\n",
       "      <td>\\n\\n\\n\\n\\n\\n\\n\\n◆ 새해 달라지는 것 ◆◆ 어르신 임플란트 보험급여 적...</td>\n",
       "    </tr>\n",
       "    <tr>\n",
       "      <th>4</th>\n",
       "      <td>보험계약대출+약관대출</td>\n",
       "      <td>None</td>\n",
       "      <td>&lt;새해 달라지는 것&gt; 금융·증권</td>\n",
       "      <td>▲자동차보험 차량모델등급제도 개선 = 보험료의 공평한 부담을 위해 자가용 승용차의 ...</td>\n",
       "    </tr>\n",
       "  </tbody>\n",
       "</table>\n",
       "</div>"
      ],
      "text/plain": [
       "           qry                       date                           title  \\\n",
       "0  보험계약대출+약관대출                       None           2014 새해 달라지는 것들-금융ㆍ증권   \n",
       "1  보험계약대출+약관대출                       None      2014년부터 달라지는 은행·보험·증권 금융제도   \n",
       "2  보험계약대출+약관대출  2013-12-22 12:00:00+09:00  10월말 보험사 대출 125.6조원..연체율 0.69%   \n",
       "3  보험계약대출+약관대출                       None   대체휴일제 추석때 첫 적용…운전중 DMB 보면 범칙금   \n",
       "4  보험계약대출+약관대출                       None               <새해 달라지는 것> 금융·증권   \n",
       "\n",
       "                                                text  \n",
       "0  ◇자동차보험 차량모델등급제도 개선 = 보험료의 공평한 부담을 위해 자가용 승용차의 ...  \n",
       "1  ▲(사진=왕진오 기자)\\n\\n내년부터 ATM 현금거래시 마그네틱카드 사용이 전면 금...  \n",
       "2  [이데일리 이준기 기자] 금융감독원은 10월말 보험회사의 대출채권 잔액이 125조6...  \n",
       "3  \\n\\n\\n\\n\\n\\n\\n\\n◆ 새해 달라지는 것 ◆◆ 어르신 임플란트 보험급여 적...  \n",
       "4  ▲자동차보험 차량모델등급제도 개선 = 보험료의 공평한 부담을 위해 자가용 승용차의 ...  "
      ]
     },
     "execution_count": 35,
     "metadata": {},
     "output_type": "execute_result"
    }
   ],
   "source": [
    "newsdf.head()"
   ]
  },
  {
   "cell_type": "code",
   "execution_count": 36,
   "metadata": {},
   "outputs": [],
   "source": [
    "from konlpy.tag import Kkma"
   ]
  },
  {
   "cell_type": "code",
   "execution_count": 37,
   "metadata": {},
   "outputs": [],
   "source": [
    "kkma = Kkma()"
   ]
  },
  {
   "cell_type": "code",
   "execution_count": 39,
   "metadata": {},
   "outputs": [],
   "source": [
    "nouns = newsdf.text.apply(lambda x: kkma.nouns(x))"
   ]
  },
  {
   "cell_type": "code",
   "execution_count": 41,
   "metadata": {},
   "outputs": [],
   "source": [
    "newsdf['nouns'] = nouns"
   ]
  },
  {
   "cell_type": "code",
   "execution_count": 42,
   "metadata": {},
   "outputs": [],
   "source": [
    "import nltk"
   ]
  },
  {
   "cell_type": "code",
   "execution_count": 45,
   "metadata": {},
   "outputs": [],
   "source": [
    "from nltk.tokenize import sent_tokenize, word_tokenize"
   ]
  },
  {
   "cell_type": "code",
   "execution_count": null,
   "metadata": {},
   "outputs": [],
   "source": []
  }
 ],
 "metadata": {
  "kernelspec": {
   "display_name": "Python 3",
   "language": "python",
   "name": "python3"
  },
  "language_info": {
   "codemirror_mode": {
    "name": "ipython",
    "version": 3
   },
   "file_extension": ".py",
   "mimetype": "text/x-python",
   "name": "python",
   "nbconvert_exporter": "python",
   "pygments_lexer": "ipython3",
   "version": "3.7.0"
  }
 },
 "nbformat": 4,
 "nbformat_minor": 2
}
