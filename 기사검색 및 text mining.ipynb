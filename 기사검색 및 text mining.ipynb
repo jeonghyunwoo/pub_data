{
 "cells": [
  {
   "cell_type": "markdown",
   "metadata": {},
   "source": [
    "참조 url [https://aileen93.tistory.com/128]"
   ]
  },
  {
   "cell_type": "markdown",
   "metadata": {},
   "source": [
    "### 데이터전처리 순서  \n",
    "1.토큰화(Tokenization):문자열에서 단어로 분리시키는 단계  \n",
    "2.불용어 제거(stop words elimination): 전치사,관사 등 불필요 단어 제거  \n",
    "3.어간추출(Stemming): 동사원형 등 단어의 기본형태를 추출  \n",
    "4.문서표현(Representation):  \n",
    "  - 주어진 문서나 문장을 하나의 벡터로 표현  \n",
    "  - 단어들을 모두 인덱싱(Indexing)하고 주어진 문서에 존재하는 단어의 빈도수로 문서표현"
   ]
  },
  {
   "cell_type": "markdown",
   "metadata": {},
   "source": [
    "#### 자연어처리 Python 라이브러리  \n",
    "**1.KoNLPy(코엔엘파이)**  \n",
    "&nbsp;&nbsp;&nbsp;&nbsp;한국어 자연어처리  \n",
    "&nbsp;&nbsp;&nbsp;&nbsp;Okt(구 Twitter), Komoran, Mecab 등 다양한 형태소 분석기 내장  \n",
    "**2.NLTK(Natural Language Toolkit)**  \n",
    "&nbsp;&nbsp;&nbsp;&nbsp;영어로 된 텍스트의 자연어처리  \n",
    "**3.Gensim**  \n",
    "&nbsp;&nbsp;&nbsp;&nbsp;주로 Topic modeling, Corpus(말뭉치) 및 Word Embedding 모델 지원   \n",
    "&nbsp;&nbsp;&nbsp;&nbsp;한국어 및 다양한 언어를 지원"
   ]
  },
  {
   "cell_type": "code",
   "execution_count": 5,
   "metadata": {},
   "outputs": [],
   "source": [
    "from urllib.request import urlopen\n",
    "from urllib.parse import quote_plus\n",
    "from bs4 import BeautifulSoup as soup\n",
    "from newspaper import Article\n",
    "from time import sleep\n",
    "import time\n",
    "import pandas as pd\n",
    "import numpy as np"
   ]
  },
  {
   "cell_type": "code",
   "execution_count": 6,
   "metadata": {},
   "outputs": [],
   "source": [
    "# naver news 기간검색\n",
    "def naver_search_d(qry,beg,end,pages=3): \n",
    "    articles = []\n",
    "    title = []\n",
    "    href = []\n",
    "    date = []\n",
    "    text = []\n",
    "    stime = time.time()\n",
    "    # original 주소 \n",
    "    url0 = \"https://search.naver.com/search.naver?&where=news&query={0}&sm=tab_pge&sort=0&photo=0&field=0&reporter_article=&pd=3&ds={1}&de={2}&docid=&nso=so:r,p:from{3}to{4},a:all&mynews=0&cluster_rank=22&start={5}&refresh_start=0\"\n",
    "    # 네이버 검색결과 page별\n",
    "    begx = beg.replace('.','')\n",
    "    endx = end.replace('.','')\n",
    "    for i in range(pages): \n",
    "        start = i*10+1\n",
    "        qry1 = quote_plus(qry)\n",
    "        url = url0.format(qry1,beg,end,begx,endx,start)\n",
    "        obj = soup(urlopen(url),'html.parser')\n",
    "        # links : naver 검색결과 뉴스들의 링크들\n",
    "        links = obj.find_all('a',{'class':'_sp_each_title'})\n",
    "        # 링크별 기사가져오기 \n",
    "        for link in links:\n",
    "            h = link.get('href') # hyperlink\n",
    "            try:\n",
    "                a = Article(h,language='ko') # 기사가져오기 \n",
    "                a.download();a.parse()\n",
    "                articles.append(a)\n",
    "                title.append(a.title)\n",
    "                date.append(a.publish_date)\n",
    "                text.append(a.text)\n",
    "            except:\n",
    "                pass\n",
    "            sleep(np.random.randint(1,4))\n",
    "    etime = time.time() - stime\n",
    "    elaps = time.strftime('%H:%M:%S',time.gmtime(etime))\n",
    "    news = pd.DataFrame(dict(qry=qry,date=date,title=title,text=text))        \n",
    "    print('{} {} search done, {} elapsed'.format(qry,begx[:4],elaps))\n",
    "    return news\n",
    "# naver_search_d"
   ]
  },
  {
   "cell_type": "code",
   "execution_count": 7,
   "metadata": {},
   "outputs": [
    {
     "name": "stdout",
     "output_type": "stream",
     "text": [
      "가계부채+가계대출 2018 search done, 00:02:15 elapsed\n",
      "Wall time: 2min 15s\n"
     ]
    }
   ],
   "source": [
    "%%time\n",
    "drng = lambda x,y,f: pd.date_range(x,y,freq=f).strftime('%Y.%m.%d')\n",
    "frm = drng('2018','2019','YS')\n",
    "tom = drng('2018','2019','Y')\n",
    "news = []\n",
    "for f,t in zip(frm,tom):\n",
    "    news.append(naver_search_d('가계부채+가계대출',f,t,pages=5))"
   ]
  },
  {
   "cell_type": "code",
   "execution_count": 8,
   "metadata": {},
   "outputs": [],
   "source": [
    "newsdf = pd.concat(news,axis=0)"
   ]
  },
  {
   "cell_type": "code",
   "execution_count": 9,
   "metadata": {},
   "outputs": [
    {
     "data": {
      "text/plain": [
       "(49, 4)"
      ]
     },
     "execution_count": 9,
     "metadata": {},
     "output_type": "execute_result"
    }
   ],
   "source": [
    "newsdf.shape"
   ]
  },
  {
   "cell_type": "code",
   "execution_count": 10,
   "metadata": {},
   "outputs": [
    {
     "data": {
      "text/html": [
       "<div>\n",
       "<style scoped>\n",
       "    .dataframe tbody tr th:only-of-type {\n",
       "        vertical-align: middle;\n",
       "    }\n",
       "\n",
       "    .dataframe tbody tr th {\n",
       "        vertical-align: top;\n",
       "    }\n",
       "\n",
       "    .dataframe thead th {\n",
       "        text-align: right;\n",
       "    }\n",
       "</style>\n",
       "<table border=\"1\" class=\"dataframe\">\n",
       "  <thead>\n",
       "    <tr style=\"text-align: right;\">\n",
       "      <th></th>\n",
       "      <th>qry</th>\n",
       "      <th>date</th>\n",
       "      <th>title</th>\n",
       "      <th>text</th>\n",
       "    </tr>\n",
       "  </thead>\n",
       "  <tbody>\n",
       "    <tr>\n",
       "      <th>0</th>\n",
       "      <td>가계부채+가계대출</td>\n",
       "      <td>2018-12-30 06:21:00+09:00</td>\n",
       "      <td>'커지는 빚부담'…원리금 상환액 증가율, 가처분소득의 3배</td>\n",
       "      <td>부채 보유 가구 기준…원리금 상환액 6년새 85% 늘어\\n\\n대출거래약정서[연합뉴스...</td>\n",
       "    </tr>\n",
       "    <tr>\n",
       "      <th>1</th>\n",
       "      <td>가계부채+가계대출</td>\n",
       "      <td>2019-01-07 00:00:00+09:00</td>\n",
       "      <td></td>\n",
       "      <td>가계부채 증가율 2016년부터 7분기 연속 떨어져 … 가계 연체율 2018년 1분기...</td>\n",
       "    </tr>\n",
       "    <tr>\n",
       "      <th>2</th>\n",
       "      <td>가계부채+가계대출</td>\n",
       "      <td>2018-12-31 03:00:00+09:00</td>\n",
       "      <td>빚 갚는데 쓴 돈, 소득보다 3배 빨리 불어… 서민 허리 휘청</td>\n",
       "      <td>가계의 원리금 상환액이 이처럼 빠른 속도로 늘어나면 내년도 통화정책도 영향을 받을 ...</td>\n",
       "    </tr>\n",
       "    <tr>\n",
       "      <th>3</th>\n",
       "      <td>가계부채+가계대출</td>\n",
       "      <td>2018-12-31 11:16:58+09:00</td>\n",
       "      <td>내년 이자이익 하락 처한 은행권…‘디지털·글로벌’ 강화 시급</td>\n",
       "      <td>2019년 당기순익 예상치 올해보다 2조원 감소 전망\\n\\n서울 광화문에 설치된 국...</td>\n",
       "    </tr>\n",
       "    <tr>\n",
       "      <th>4</th>\n",
       "      <td>가계부채+가계대출</td>\n",
       "      <td>2018-12-29 13:45:39+01:00</td>\n",
       "      <td>연합뉴스TV :: 대한민국 뉴스의 시작. 채널 23</td>\n",
       "      <td>집값 떨어지니 가계빚 걱정…’부동산의 그늘’\\n\\n[앵커]\\n\\n올 한해 대한민국의...</td>\n",
       "    </tr>\n",
       "  </tbody>\n",
       "</table>\n",
       "</div>"
      ],
      "text/plain": [
       "         qry                       date                               title  \\\n",
       "0  가계부채+가계대출  2018-12-30 06:21:00+09:00    '커지는 빚부담'…원리금 상환액 증가율, 가처분소득의 3배   \n",
       "1  가계부채+가계대출  2019-01-07 00:00:00+09:00                                       \n",
       "2  가계부채+가계대출  2018-12-31 03:00:00+09:00  빚 갚는데 쓴 돈, 소득보다 3배 빨리 불어… 서민 허리 휘청   \n",
       "3  가계부채+가계대출  2018-12-31 11:16:58+09:00   내년 이자이익 하락 처한 은행권…‘디지털·글로벌’ 강화 시급   \n",
       "4  가계부채+가계대출  2018-12-29 13:45:39+01:00        연합뉴스TV :: 대한민국 뉴스의 시작. 채널 23   \n",
       "\n",
       "                                                text  \n",
       "0  부채 보유 가구 기준…원리금 상환액 6년새 85% 늘어\\n\\n대출거래약정서[연합뉴스...  \n",
       "1  가계부채 증가율 2016년부터 7분기 연속 떨어져 … 가계 연체율 2018년 1분기...  \n",
       "2  가계의 원리금 상환액이 이처럼 빠른 속도로 늘어나면 내년도 통화정책도 영향을 받을 ...  \n",
       "3  2019년 당기순익 예상치 올해보다 2조원 감소 전망\\n\\n서울 광화문에 설치된 국...  \n",
       "4  집값 떨어지니 가계빚 걱정…’부동산의 그늘’\\n\\n[앵커]\\n\\n올 한해 대한민국의...  "
      ]
     },
     "execution_count": 10,
     "metadata": {},
     "output_type": "execute_result"
    }
   ],
   "source": [
    "newsdf.head()"
   ]
  },
  {
   "cell_type": "code",
   "execution_count": 196,
   "metadata": {},
   "outputs": [],
   "source": [
    "from konlpy.tag import Kkma, Okt\n",
    "import nltk"
   ]
  },
  {
   "cell_type": "code",
   "execution_count": 193,
   "metadata": {},
   "outputs": [],
   "source": [
    "kkma = Kkma()\n",
    "okt = Okt()"
   ]
  },
  {
   "cell_type": "code",
   "execution_count": 194,
   "metadata": {},
   "outputs": [],
   "source": [
    "newsdf['nouns'] = newsdf.text.apply(lambda x: okt.nouns(x))"
   ]
  },
  {
   "cell_type": "markdown",
   "metadata": {},
   "source": [
    "**freq plot**"
   ]
  },
  {
   "cell_type": "code",
   "execution_count": 197,
   "metadata": {},
   "outputs": [],
   "source": [
    "txt = nltk.Text(newsdf.nouns[0])"
   ]
  },
  {
   "cell_type": "code",
   "execution_count": 199,
   "metadata": {},
   "outputs": [
    {
     "data": {
      "image/png": "[encoded data removed]",
      "text/plain": [
       "<Figure size 432x288 with 1 Axes>"
      ]
     },
     "metadata": {
      "needs_background": "light"
     },
     "output_type": "display_data"
    }
   ],
   "source": [
    "txt.plot(30)"
   ]
  },
  {
   "cell_type": "code",
   "execution_count": null,
   "metadata": {},
   "outputs": [],
   "source": []
  }
 ],
 "metadata": {
  "kernelspec": {
   "display_name": "Python 3",
   "language": "python",
   "name": "python3"
  },
  "language_info": {
   "codemirror_mode": {
    "name": "ipython",
    "version": 3
   },
   "file_extension": ".py",
   "mimetype": "text/x-python",
   "name": "python",
   "nbconvert_exporter": "python",
   "pygments_lexer": "ipython3",
   "version": "3.7.0"
  }
 },
 "nbformat": 4,
 "nbformat_minor": 2
}
