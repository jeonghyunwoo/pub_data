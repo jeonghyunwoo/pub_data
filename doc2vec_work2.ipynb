{
 "cells": [
  {
   "cell_type": "code",
   "execution_count": 11,
   "metadata": {},
   "outputs": [
    {
     "data": {
      "text/plain": [
       "'Z:\\\\proj\\\\pub_info'"
      ]
     },
     "execution_count": 11,
     "metadata": {},
     "output_type": "execute_result"
    }
   ],
   "source": [
    "pwd"
   ]
  },
  {
   "cell_type": "markdown",
   "metadata": {},
   "source": [
    "**다른 패키지 로딩 후 Okt 로딩하면 okt = Okt() 가 잘 안됨!!!!**  \n",
    "==> 그래서 okt = Okt() 젤먼저"
   ]
  },
  {
   "cell_type": "code",
   "execution_count": 12,
   "metadata": {},
   "outputs": [],
   "source": [
    "from konlpy.tag import Okt"
   ]
  },
  {
   "cell_type": "code",
   "execution_count": 13,
   "metadata": {},
   "outputs": [],
   "source": [
    "okt = Okt()"
   ]
  },
  {
   "cell_type": "code",
   "execution_count": 14,
   "metadata": {},
   "outputs": [],
   "source": [
    "from navsch import *"
   ]
  },
  {
   "cell_type": "code",
   "execution_count": 15,
   "metadata": {},
   "outputs": [],
   "source": [
    "from gensim.models.doc2vec import Doc2Vec, TaggedDocument"
   ]
  },
  {
   "cell_type": "code",
   "execution_count": 16,
   "metadata": {},
   "outputs": [
    {
     "data": {
      "text/plain": [
       "96349"
      ]
     },
     "execution_count": 16,
     "metadata": {},
     "output_type": "execute_result"
    }
   ],
   "source": [
    "import gc\n",
    "gc.collect()"
   ]
  },
  {
   "cell_type": "code",
   "execution_count": 7,
   "metadata": {},
   "outputs": [],
   "source": [
    "begm = ['2003.04.01','2008.10.01','2008.11.01','2015.10.01']\n",
    "endm = ['2003.04.30','2008.10.31','2008.11.30','2015.10.31']"
   ]
  },
  {
   "cell_type": "markdown",
   "metadata": {},
   "source": [
    "1.data crawling"
   ]
  },
  {
   "cell_type": "code",
   "execution_count": 8,
   "metadata": {},
   "outputs": [
    {
     "name": "stdout",
     "output_type": "stream",
     "text": [
      "가계부채 2003 search done, 00:01:33 elapsed\n",
      "가계부채 2008 search done, 00:01:43 elapsed\n",
      "가계부채 2008 search done, 00:01:53 elapsed\n",
      "가계부채 2015 search done, 00:02:02 elapsed\n",
      "Wall time: 7min 14s\n"
     ]
    }
   ],
   "source": [
    "%%time\n",
    "dfs = []\n",
    "for beg, end in zip(begm,endm):\n",
    "    dfs.append(naver_search_d('가계부채',beg,end,pages=5))\n",
    "    \n",
    "df = pd.concat(dfs,axis=0)   \n",
    "df.to_pickle('data/d2vdf.pkl')"
   ]
  },
  {
   "cell_type": "code",
   "execution_count": 17,
   "metadata": {},
   "outputs": [],
   "source": [
    "df = pd.read_pickle('data/d2vdf.pkl')"
   ]
  },
  {
   "cell_type": "markdown",
   "metadata": {},
   "source": [
    "2.preprocess"
   ]
  },
  {
   "cell_type": "code",
   "execution_count": 9,
   "metadata": {},
   "outputs": [],
   "source": [
    "data = [t.replace('\\n','') for t in df.text if t!='']"
   ]
  },
  {
   "cell_type": "markdown",
   "metadata": {},
   "source": [
    "3.tokenize"
   ]
  },
  {
   "cell_type": "code",
   "execution_count": 10,
   "metadata": {},
   "outputs": [],
   "source": [
    "tag_d1 = [TaggedDocument(words=okt.nouns(d), tags=[str(i)]) for i, d in enumerate(data)]\n",
    "tag_d2 = [TaggedDocument(words=okt.morphs(d), tags=[str(i)]) for i, d in enumerate(data)]"
   ]
  },
  {
   "cell_type": "code",
   "execution_count": 11,
   "metadata": {},
   "outputs": [],
   "source": [
    "tag_d3 = [TaggedDocument(words='/'.join(t), tags=[str(i)]) for d in data for i,t in enumerate(okt.pos(d))]"
   ]
  },
  {
   "cell_type": "markdown",
   "metadata": {},
   "source": [
    "3.1 tokenize review"
   ]
  },
  {
   "cell_type": "code",
   "execution_count": 18,
   "metadata": {},
   "outputs": [],
   "source": [
    "tok_n = lambda doc: okt.nouns(doc)\n",
    "tok_m = lambda doc: okt.morphs(doc)\n",
    "tok_p = lambda doc: ['/'.join(t) for t in okt.pos(doc)] # okt.pos(doc): (사스, Noun), 이거 사스/Noun"
   ]
  },
  {
   "cell_type": "code",
   "execution_count": 19,
   "metadata": {},
   "outputs": [],
   "source": [
    "df['token_review_n'] = df.text.apply(tok_n)\n",
    "df['token_review_m'] = df.text.apply(tok_m)\n",
    "df['token_review_p'] = df.text.apply(tok_p)"
   ]
  },
  {
   "cell_type": "markdown",
   "metadata": {},
   "source": [
    "4.doc2vec에 토큰을 load"
   ]
  },
  {
   "cell_type": "code",
   "execution_count": 14,
   "metadata": {},
   "outputs": [],
   "source": [
    "model1 = Doc2Vec(vector_size = 50,\n",
    "               alpha = 0.25,\n",
    "               min_alpha = 0.00025,\n",
    "               min_count = 1,\n",
    "               dm = 1)\n",
    "model1.build_vocab(tag_d1)"
   ]
  },
  {
   "cell_type": "code",
   "execution_count": 15,
   "metadata": {},
   "outputs": [],
   "source": [
    "model2 = Doc2Vec(vector_size = 50,\n",
    "               alpha = 0.25,\n",
    "               min_alpha = 0.00025,\n",
    "               min_count = 1,\n",
    "               dm = 1)\n",
    "model2.build_vocab(tag_d2)"
   ]
  },
  {
   "cell_type": "code",
   "execution_count": 16,
   "metadata": {},
   "outputs": [],
   "source": [
    "model3 = Doc2Vec(vector_size = 50,\n",
    "               alpha = 0.25,\n",
    "               min_alpha = 0.00025,\n",
    "               min_count = 1,\n",
    "               dm = 1)\n",
    "model3.build_vocab(tag_d3)"
   ]
  },
  {
   "cell_type": "markdown",
   "metadata": {},
   "source": [
    "5.model fitting"
   ]
  },
  {
   "cell_type": "markdown",
   "metadata": {},
   "source": [
    "import logging\n",
    "logging.basicConfig(format = '%(asctime)s : %(levelname)s : %(message)s',level = logging.INFO)"
   ]
  },
  {
   "cell_type": "code",
   "execution_count": 17,
   "metadata": {},
   "outputs": [
    {
     "name": "stdout",
     "output_type": "stream",
     "text": [
      "iteration 0\n",
      "iteration 1\n",
      "iteration 2\n",
      "iteration 3\n",
      "iteration 4\n",
      "iteration 5\n",
      "iteration 6\n",
      "iteration 7\n",
      "iteration 8\n",
      "iteration 9\n",
      "Wall time: 6min 2s\n"
     ]
    }
   ],
   "source": [
    "%%time\n",
    "for epoch in range(10):\n",
    "    print('iteration {}'.format(epoch))\n",
    "    model3.train(tag_d3,\n",
    "               total_examples = model3.corpus_count,\n",
    "               epochs = model3.epochs)\n",
    "    model3.alpha -=0.0002 # 학습률을 감소시킨다\n",
    "    model3.min_alpha = model3.alpha"
   ]
  },
  {
   "cell_type": "code",
   "execution_count": 18,
   "metadata": {},
   "outputs": [],
   "source": [
    "model3.save('nav_mod3.model')"
   ]
  },
  {
   "cell_type": "code",
   "execution_count": 20,
   "metadata": {},
   "outputs": [],
   "source": [
    "model3 = Doc2Vec.load('nav_mod3.model')"
   ]
  },
  {
   "cell_type": "code",
   "execution_count": 24,
   "metadata": {},
   "outputs": [
    {
     "name": "stdout",
     "output_type": "stream",
     "text": [
      "iteration 0\n",
      "iteration 1\n",
      "iteration 2\n",
      "iteration 3\n",
      "iteration 4\n",
      "iteration 5\n",
      "iteration 6\n",
      "iteration 7\n",
      "iteration 8\n",
      "iteration 9\n",
      "Wall time: 3.38 s\n"
     ]
    }
   ],
   "source": [
    "%%time\n",
    "for epoch in range(10):\n",
    "    print('iteration {}'.format(epoch))\n",
    "    model1.train(tag_d1,\n",
    "               total_examples = model1.corpus_count,\n",
    "               epochs = model1.epochs)\n",
    "    model1.alpha -=0.0002 # 학습률을 감소시킨다\n",
    "    model1.min_alpha = model1.alpha"
   ]
  },
  {
   "cell_type": "code",
   "execution_count": 25,
   "metadata": {},
   "outputs": [],
   "source": [
    "model1.save('nav_mod1.model')"
   ]
  },
  {
   "cell_type": "code",
   "execution_count": 21,
   "metadata": {},
   "outputs": [],
   "source": [
    "model1 = Doc2Vec.load('nav_mod1.model')"
   ]
  },
  {
   "cell_type": "code",
   "execution_count": 37,
   "metadata": {},
   "outputs": [],
   "source": [
    "dvec1 = list(map(lambda x: model1.infer_vector(x), df.token_review_n))\n",
    "cname = ['dv'+str(i) for i in np.arange(1,51)]\n",
    "dvec1 = pd.DataFrame(dvec1,columns = cname)"
   ]
  },
  {
   "cell_type": "code",
   "execution_count": 38,
   "metadata": {},
   "outputs": [],
   "source": [
    "dvec3 = list(map(lambda x: model3.infer_vector(x), df.token_review_n))\n",
    "cname = ['dv'+str(i) for i in np.arange(1,51)]\n",
    "dvec3 = pd.DataFrame(dvec3,columns = cname)"
   ]
  },
  {
   "cell_type": "code",
   "execution_count": 1,
   "metadata": {},
   "outputs": [],
   "source": [
    "import pandas as pd"
   ]
  },
  {
   "cell_type": "code",
   "execution_count": 40,
   "metadata": {},
   "outputs": [],
   "source": [
    "df = pd.read_pickle('data/dfvec.pkl')"
   ]
  },
  {
   "cell_type": "code",
   "execution_count": 41,
   "metadata": {},
   "outputs": [],
   "source": [
    "df = df.reset_index()\n",
    "dvec1 = dvec1.reset_index()\n",
    "df1 = pd.concat([df,dvec1],axis=1)\n",
    "dvec3 = dvec3.reset_index()\n",
    "df2 = pd.concat([df,dvec3],axis=1)"
   ]
  },
  {
   "cell_type": "code",
   "execution_count": 42,
   "metadata": {},
   "outputs": [],
   "source": [
    "df1['dat'] = pd.to_datetime(df1.date,utc=True).dt.strftime('%Y%m')\n",
    "df2['dat'] = pd.to_datetime(df2.date,utc=True).dt.strftime('%Y%m')"
   ]
  },
  {
   "cell_type": "code",
   "execution_count": 47,
   "metadata": {},
   "outputs": [],
   "source": [
    "df1.drop(['index'],axis=1,inplace=True)\n",
    "df2.drop(['index'],axis=1,inplace=True)"
   ]
  },
  {
   "cell_type": "code",
   "execution_count": 49,
   "metadata": {},
   "outputs": [],
   "source": [
    "df1.to_csv('o:/보낼파일함/dvdf1.csv',index=False)\n",
    "df2.to_csv('o:/보낼파일함/dvdf2.csv',index=False)"
   ]
  },
  {
   "cell_type": "code",
   "execution_count": 31,
   "metadata": {},
   "outputs": [
    {
     "data": {
      "text/html": [
       "<div>\n",
       "<style scoped>\n",
       "    .dataframe tbody tr th:only-of-type {\n",
       "        vertical-align: middle;\n",
       "    }\n",
       "\n",
       "    .dataframe tbody tr th {\n",
       "        vertical-align: top;\n",
       "    }\n",
       "\n",
       "    .dataframe thead th {\n",
       "        text-align: right;\n",
       "    }\n",
       "</style>\n",
       "<table border=\"1\" class=\"dataframe\">\n",
       "  <thead>\n",
       "    <tr style=\"text-align: right;\">\n",
       "      <th></th>\n",
       "      <th>qry</th>\n",
       "      <th>date</th>\n",
       "      <th>title</th>\n",
       "      <th>text</th>\n",
       "      <th>token_review_n</th>\n",
       "      <th>token_review_m</th>\n",
       "      <th>token_review_p</th>\n",
       "      <th>dv1</th>\n",
       "      <th>dv2</th>\n",
       "      <th>dv3</th>\n",
       "      <th>...</th>\n",
       "      <th>dv41</th>\n",
       "      <th>dv42</th>\n",
       "      <th>dv43</th>\n",
       "      <th>dv44</th>\n",
       "      <th>dv45</th>\n",
       "      <th>dv46</th>\n",
       "      <th>dv47</th>\n",
       "      <th>dv48</th>\n",
       "      <th>dv49</th>\n",
       "      <th>dv50</th>\n",
       "    </tr>\n",
       "  </thead>\n",
       "  <tbody>\n",
       "    <tr>\n",
       "      <th>0</th>\n",
       "      <td>가계부채</td>\n",
       "      <td>None</td>\n",
       "      <td>삼성硏 \"올 성장률 4% 하회\"</td>\n",
       "      <td>사스.북핵 악화시 2%대 급락우려\\n\\n\\n\\n물가 3.6%, 경상수지 6.4억달러...</td>\n",
       "      <td>[사스, 북핵, 악화, 시, 급락, 우려, 물가, 경상수지, 흑자, 서울, 연합뉴스...</td>\n",
       "      <td>[사스, ., 북핵, 악화, 시, 2%, 대, 급락, 우려, \\n\\n\\n\\n, 물가...</td>\n",
       "      <td>[사스/Noun, ./Punctuation, 북핵/Noun, 악화/Noun, 시/N...</td>\n",
       "      <td>-0.656647</td>\n",
       "      <td>1.738373</td>\n",
       "      <td>1.577193</td>\n",
       "      <td>...</td>\n",
       "      <td>8.929643</td>\n",
       "      <td>12.444924</td>\n",
       "      <td>-3.907042</td>\n",
       "      <td>7.576111</td>\n",
       "      <td>18.167721</td>\n",
       "      <td>-1.322644</td>\n",
       "      <td>-1.938325</td>\n",
       "      <td>-9.725418</td>\n",
       "      <td>1.500116</td>\n",
       "      <td>0.272918</td>\n",
       "    </tr>\n",
       "    <tr>\n",
       "      <th>1</th>\n",
       "      <td>가계부채</td>\n",
       "      <td>None</td>\n",
       "      <td>“카드금리 인상, 가계 부채상환능력 떨어뜨릴 것”-S&amp;P</td>\n",
       "      <td>[edaily 김병수기자] 국제신용평가회사인 스탠다드앤푸어스(S&amp;P)가 국내신용카드...</td>\n",
       "      <td>[김병수, 기자, 국제, 용평, 회사, 스탠다드, 앤, 어스, 국내, 신용카드, 사...</td>\n",
       "      <td>[[, edaily, 김병수, 기자, ], 국제, 신, 용평, 가, 회사, 인, 스...</td>\n",
       "      <td>[[/Punctuation, edaily/Alpha, 김병수/Noun, 기자/Nou...</td>\n",
       "      <td>2.946259</td>\n",
       "      <td>-0.041665</td>\n",
       "      <td>-0.030653</td>\n",
       "      <td>...</td>\n",
       "      <td>1.512182</td>\n",
       "      <td>1.989920</td>\n",
       "      <td>1.232295</td>\n",
       "      <td>12.321750</td>\n",
       "      <td>-1.523011</td>\n",
       "      <td>-3.988316</td>\n",
       "      <td>-7.563162</td>\n",
       "      <td>1.837524</td>\n",
       "      <td>-6.890585</td>\n",
       "      <td>6.817421</td>\n",
       "    </tr>\n",
       "  </tbody>\n",
       "</table>\n",
       "<p>2 rows × 57 columns</p>\n",
       "</div>"
      ],
      "text/plain": [
       "    qry  date                            title  \\\n",
       "0  가계부채  None                삼성硏 \"올 성장률 4% 하회\"   \n",
       "1  가계부채  None  “카드금리 인상, 가계 부채상환능력 떨어뜨릴 것”-S&P   \n",
       "\n",
       "                                                text  \\\n",
       "0  사스.북핵 악화시 2%대 급락우려\\n\\n\\n\\n물가 3.6%, 경상수지 6.4억달러...   \n",
       "1  [edaily 김병수기자] 국제신용평가회사인 스탠다드앤푸어스(S&P)가 국내신용카드...   \n",
       "\n",
       "                                      token_review_n  \\\n",
       "0  [사스, 북핵, 악화, 시, 급락, 우려, 물가, 경상수지, 흑자, 서울, 연합뉴스...   \n",
       "1  [김병수, 기자, 국제, 용평, 회사, 스탠다드, 앤, 어스, 국내, 신용카드, 사...   \n",
       "\n",
       "                                      token_review_m  \\\n",
       "0  [사스, ., 북핵, 악화, 시, 2%, 대, 급락, 우려, \\n\\n\\n\\n, 물가...   \n",
       "1  [[, edaily, 김병수, 기자, ], 국제, 신, 용평, 가, 회사, 인, 스...   \n",
       "\n",
       "                                      token_review_p       dv1       dv2  \\\n",
       "0  [사스/Noun, ./Punctuation, 북핵/Noun, 악화/Noun, 시/N... -0.656647  1.738373   \n",
       "1  [[/Punctuation, edaily/Alpha, 김병수/Noun, 기자/Nou...  2.946259 -0.041665   \n",
       "\n",
       "        dv3    ...         dv41       dv42      dv43       dv44       dv45  \\\n",
       "0  1.577193    ...     8.929643  12.444924 -3.907042   7.576111  18.167721   \n",
       "1 -0.030653    ...     1.512182   1.989920  1.232295  12.321750  -1.523011   \n",
       "\n",
       "       dv46      dv47      dv48      dv49      dv50  \n",
       "0 -1.322644 -1.938325 -9.725418  1.500116  0.272918  \n",
       "1 -3.988316 -7.563162  1.837524 -6.890585  6.817421  \n",
       "\n",
       "[2 rows x 57 columns]"
      ]
     },
     "execution_count": 31,
     "metadata": {},
     "output_type": "execute_result"
    }
   ],
   "source": [
    "df1.head(2)"
   ]
  },
  {
   "cell_type": "code",
   "execution_count": 32,
   "metadata": {},
   "outputs": [
    {
     "data": {
      "text/html": [
       "<div>\n",
       "<style scoped>\n",
       "    .dataframe tbody tr th:only-of-type {\n",
       "        vertical-align: middle;\n",
       "    }\n",
       "\n",
       "    .dataframe tbody tr th {\n",
       "        vertical-align: top;\n",
       "    }\n",
       "\n",
       "    .dataframe thead th {\n",
       "        text-align: right;\n",
       "    }\n",
       "</style>\n",
       "<table border=\"1\" class=\"dataframe\">\n",
       "  <thead>\n",
       "    <tr style=\"text-align: right;\">\n",
       "      <th></th>\n",
       "      <th>qry</th>\n",
       "      <th>date</th>\n",
       "      <th>title</th>\n",
       "      <th>text</th>\n",
       "      <th>token_review_n</th>\n",
       "      <th>token_review_m</th>\n",
       "      <th>token_review_p</th>\n",
       "      <th>dv1</th>\n",
       "      <th>dv2</th>\n",
       "      <th>dv3</th>\n",
       "      <th>...</th>\n",
       "      <th>dv41</th>\n",
       "      <th>dv42</th>\n",
       "      <th>dv43</th>\n",
       "      <th>dv44</th>\n",
       "      <th>dv45</th>\n",
       "      <th>dv46</th>\n",
       "      <th>dv47</th>\n",
       "      <th>dv48</th>\n",
       "      <th>dv49</th>\n",
       "      <th>dv50</th>\n",
       "    </tr>\n",
       "  </thead>\n",
       "  <tbody>\n",
       "    <tr>\n",
       "      <th>0</th>\n",
       "      <td>가계부채</td>\n",
       "      <td>None</td>\n",
       "      <td>삼성硏 \"올 성장률 4% 하회\"</td>\n",
       "      <td>사스.북핵 악화시 2%대 급락우려\\n\\n\\n\\n물가 3.6%, 경상수지 6.4억달러...</td>\n",
       "      <td>[사스, 북핵, 악화, 시, 급락, 우려, 물가, 경상수지, 흑자, 서울, 연합뉴스...</td>\n",
       "      <td>[사스, ., 북핵, 악화, 시, 2%, 대, 급락, 우려, \\n\\n\\n\\n, 물가...</td>\n",
       "      <td>[사스/Noun, ./Punctuation, 북핵/Noun, 악화/Noun, 시/N...</td>\n",
       "      <td>0.007206</td>\n",
       "      <td>0.000952</td>\n",
       "      <td>0.005801</td>\n",
       "      <td>...</td>\n",
       "      <td>-0.002196</td>\n",
       "      <td>-0.001222</td>\n",
       "      <td>0.002821</td>\n",
       "      <td>0.008817</td>\n",
       "      <td>0.006226</td>\n",
       "      <td>-0.001577</td>\n",
       "      <td>-0.004381</td>\n",
       "      <td>-0.002119</td>\n",
       "      <td>-0.004049</td>\n",
       "      <td>0.002320</td>\n",
       "    </tr>\n",
       "    <tr>\n",
       "      <th>1</th>\n",
       "      <td>가계부채</td>\n",
       "      <td>None</td>\n",
       "      <td>“카드금리 인상, 가계 부채상환능력 떨어뜨릴 것”-S&amp;P</td>\n",
       "      <td>[edaily 김병수기자] 국제신용평가회사인 스탠다드앤푸어스(S&amp;P)가 국내신용카드...</td>\n",
       "      <td>[김병수, 기자, 국제, 용평, 회사, 스탠다드, 앤, 어스, 국내, 신용카드, 사...</td>\n",
       "      <td>[[, edaily, 김병수, 기자, ], 국제, 신, 용평, 가, 회사, 인, 스...</td>\n",
       "      <td>[[/Punctuation, edaily/Alpha, 김병수/Noun, 기자/Nou...</td>\n",
       "      <td>-0.003127</td>\n",
       "      <td>0.004732</td>\n",
       "      <td>-0.006042</td>\n",
       "      <td>...</td>\n",
       "      <td>-0.000315</td>\n",
       "      <td>-0.005099</td>\n",
       "      <td>-0.002981</td>\n",
       "      <td>-0.002251</td>\n",
       "      <td>-0.005061</td>\n",
       "      <td>0.003956</td>\n",
       "      <td>0.003041</td>\n",
       "      <td>0.004305</td>\n",
       "      <td>0.003337</td>\n",
       "      <td>-0.000522</td>\n",
       "    </tr>\n",
       "    <tr>\n",
       "      <th>2</th>\n",
       "      <td>가계부채</td>\n",
       "      <td>None</td>\n",
       "      <td>사스확산…北核 제자리…올 경제성장률 3% 밑돌수도</td>\n",
       "      <td>올 들어 경기 전망이 갈수록 나빠지고 있다.삼성경제연구소, LG경제연구원, 한국경제...</td>\n",
       "      <td>[경기, 전망, 갈수록, 성경제, 연구소, 경제, 연구원, 한국, 경제, 연구원, ...</td>\n",
       "      <td>[올, 들어, 경기, 전망, 이, 갈수록, 나빠지고, 있다, ., 삼, 성경제, 연...</td>\n",
       "      <td>[올/Verb, 들어/Verb, 경기/Noun, 전망/Noun, 이/Josa, 갈수...</td>\n",
       "      <td>0.004966</td>\n",
       "      <td>0.000221</td>\n",
       "      <td>-0.008813</td>\n",
       "      <td>...</td>\n",
       "      <td>0.006075</td>\n",
       "      <td>-0.005129</td>\n",
       "      <td>0.006241</td>\n",
       "      <td>-0.007695</td>\n",
       "      <td>-0.008907</td>\n",
       "      <td>0.008249</td>\n",
       "      <td>-0.003023</td>\n",
       "      <td>0.004449</td>\n",
       "      <td>-0.001156</td>\n",
       "      <td>-0.002568</td>\n",
       "    </tr>\n",
       "    <tr>\n",
       "      <th>3</th>\n",
       "      <td>가계부채</td>\n",
       "      <td>None</td>\n",
       "      <td>한은 게시판에 금리인하 비난글 잇따라</td>\n",
       "      <td>[edaily 안근모기자] 김진표 경제부총리가 추경 뿐 아니라 금리인하도하겠다는 뜻...</td>\n",
       "      <td>[안근, 기자, 김진표, 경제부총리, 추경, 뿐, 금리인하, 뜻, 박승, 한국은행,...</td>\n",
       "      <td>[[, edaily, 안근, 모, 기자, ], 김진표, 경제부총리, 가, 추경, 뿐...</td>\n",
       "      <td>[[/Punctuation, edaily/Alpha, 안근/Noun, 모/Modif...</td>\n",
       "      <td>-0.001384</td>\n",
       "      <td>-0.001126</td>\n",
       "      <td>0.007378</td>\n",
       "      <td>...</td>\n",
       "      <td>0.005450</td>\n",
       "      <td>0.004958</td>\n",
       "      <td>0.009236</td>\n",
       "      <td>-0.008693</td>\n",
       "      <td>-0.000440</td>\n",
       "      <td>0.007187</td>\n",
       "      <td>0.007190</td>\n",
       "      <td>0.007449</td>\n",
       "      <td>0.001470</td>\n",
       "      <td>-0.005480</td>\n",
       "    </tr>\n",
       "    <tr>\n",
       "      <th>4</th>\n",
       "      <td>가계부채</td>\n",
       "      <td>None</td>\n",
       "      <td>5월 증시, 530~630p 박스권내 횡보장세-우리</td>\n",
       "      <td>[edaily 문병언기자] 우리증권은 30일 5월 주식시장은 우선 미국시장이안정되면...</td>\n",
       "      <td>[문병, 기자, 우리, 증권, 주식시장, 우선, 미국, 시장, 안정, 하방경직성, ...</td>\n",
       "      <td>[[, edaily, 문병, 언, 기자, ], 우리, 증권, 은, 30일, 5월, ...</td>\n",
       "      <td>[[/Punctuation, edaily/Alpha, 문병/Noun, 언/Modif...</td>\n",
       "      <td>-0.004463</td>\n",
       "      <td>0.000696</td>\n",
       "      <td>-0.004217</td>\n",
       "      <td>...</td>\n",
       "      <td>0.000201</td>\n",
       "      <td>0.004695</td>\n",
       "      <td>0.004812</td>\n",
       "      <td>-0.005094</td>\n",
       "      <td>0.007094</td>\n",
       "      <td>0.008568</td>\n",
       "      <td>-0.005518</td>\n",
       "      <td>-0.002850</td>\n",
       "      <td>-0.002357</td>\n",
       "      <td>0.005224</td>\n",
       "    </tr>\n",
       "  </tbody>\n",
       "</table>\n",
       "<p>5 rows × 57 columns</p>\n",
       "</div>"
      ],
      "text/plain": [
       "    qry  date                            title  \\\n",
       "0  가계부채  None                삼성硏 \"올 성장률 4% 하회\"   \n",
       "1  가계부채  None  “카드금리 인상, 가계 부채상환능력 떨어뜨릴 것”-S&P   \n",
       "2  가계부채  None      사스확산…北核 제자리…올 경제성장률 3% 밑돌수도   \n",
       "3  가계부채  None             한은 게시판에 금리인하 비난글 잇따라   \n",
       "4  가계부채  None     5월 증시, 530~630p 박스권내 횡보장세-우리   \n",
       "\n",
       "                                                text  \\\n",
       "0  사스.북핵 악화시 2%대 급락우려\\n\\n\\n\\n물가 3.6%, 경상수지 6.4억달러...   \n",
       "1  [edaily 김병수기자] 국제신용평가회사인 스탠다드앤푸어스(S&P)가 국내신용카드...   \n",
       "2  올 들어 경기 전망이 갈수록 나빠지고 있다.삼성경제연구소, LG경제연구원, 한국경제...   \n",
       "3  [edaily 안근모기자] 김진표 경제부총리가 추경 뿐 아니라 금리인하도하겠다는 뜻...   \n",
       "4  [edaily 문병언기자] 우리증권은 30일 5월 주식시장은 우선 미국시장이안정되면...   \n",
       "\n",
       "                                      token_review_n  \\\n",
       "0  [사스, 북핵, 악화, 시, 급락, 우려, 물가, 경상수지, 흑자, 서울, 연합뉴스...   \n",
       "1  [김병수, 기자, 국제, 용평, 회사, 스탠다드, 앤, 어스, 국내, 신용카드, 사...   \n",
       "2  [경기, 전망, 갈수록, 성경제, 연구소, 경제, 연구원, 한국, 경제, 연구원, ...   \n",
       "3  [안근, 기자, 김진표, 경제부총리, 추경, 뿐, 금리인하, 뜻, 박승, 한국은행,...   \n",
       "4  [문병, 기자, 우리, 증권, 주식시장, 우선, 미국, 시장, 안정, 하방경직성, ...   \n",
       "\n",
       "                                      token_review_m  \\\n",
       "0  [사스, ., 북핵, 악화, 시, 2%, 대, 급락, 우려, \\n\\n\\n\\n, 물가...   \n",
       "1  [[, edaily, 김병수, 기자, ], 국제, 신, 용평, 가, 회사, 인, 스...   \n",
       "2  [올, 들어, 경기, 전망, 이, 갈수록, 나빠지고, 있다, ., 삼, 성경제, 연...   \n",
       "3  [[, edaily, 안근, 모, 기자, ], 김진표, 경제부총리, 가, 추경, 뿐...   \n",
       "4  [[, edaily, 문병, 언, 기자, ], 우리, 증권, 은, 30일, 5월, ...   \n",
       "\n",
       "                                      token_review_p       dv1       dv2  \\\n",
       "0  [사스/Noun, ./Punctuation, 북핵/Noun, 악화/Noun, 시/N...  0.007206  0.000952   \n",
       "1  [[/Punctuation, edaily/Alpha, 김병수/Noun, 기자/Nou... -0.003127  0.004732   \n",
       "2  [올/Verb, 들어/Verb, 경기/Noun, 전망/Noun, 이/Josa, 갈수...  0.004966  0.000221   \n",
       "3  [[/Punctuation, edaily/Alpha, 안근/Noun, 모/Modif... -0.001384 -0.001126   \n",
       "4  [[/Punctuation, edaily/Alpha, 문병/Noun, 언/Modif... -0.004463  0.000696   \n",
       "\n",
       "        dv3    ...         dv41      dv42      dv43      dv44      dv45  \\\n",
       "0  0.005801    ...    -0.002196 -0.001222  0.002821  0.008817  0.006226   \n",
       "1 -0.006042    ...    -0.000315 -0.005099 -0.002981 -0.002251 -0.005061   \n",
       "2 -0.008813    ...     0.006075 -0.005129  0.006241 -0.007695 -0.008907   \n",
       "3  0.007378    ...     0.005450  0.004958  0.009236 -0.008693 -0.000440   \n",
       "4 -0.004217    ...     0.000201  0.004695  0.004812 -0.005094  0.007094   \n",
       "\n",
       "       dv46      dv47      dv48      dv49      dv50  \n",
       "0 -0.001577 -0.004381 -0.002119 -0.004049  0.002320  \n",
       "1  0.003956  0.003041  0.004305  0.003337 -0.000522  \n",
       "2  0.008249 -0.003023  0.004449 -0.001156 -0.002568  \n",
       "3  0.007187  0.007190  0.007449  0.001470 -0.005480  \n",
       "4  0.008568 -0.005518 -0.002850 -0.002357  0.005224  \n",
       "\n",
       "[5 rows x 57 columns]"
      ]
     },
     "execution_count": 32,
     "metadata": {},
     "output_type": "execute_result"
    }
   ],
   "source": [
    "df2.head()"
   ]
  },
  {
   "cell_type": "markdown",
   "metadata": {},
   "source": [
    "##### ==**기 타**== #####"
   ]
  },
  {
   "cell_type": "markdown",
   "metadata": {},
   "source": [
    "a.토큰 데이터 탐색"
   ]
  },
  {
   "cell_type": "code",
   "execution_count": 24,
   "metadata": {},
   "outputs": [],
   "source": [
    "import nltk"
   ]
  },
  {
   "cell_type": "code",
   "execution_count": 25,
   "metadata": {},
   "outputs": [],
   "source": [
    "tokens1 = [t for d in df['token_review_n'] for t in d]"
   ]
  },
  {
   "cell_type": "code",
   "execution_count": 26,
   "metadata": {},
   "outputs": [
    {
     "name": "stdout",
     "output_type": "stream",
     "text": [
      "62852\n"
     ]
    }
   ],
   "source": [
    "print(len(tokens))"
   ]
  },
  {
   "cell_type": "code",
   "execution_count": 27,
   "metadata": {},
   "outputs": [
    {
     "name": "stdout",
     "output_type": "stream",
     "text": [
      "2296\n"
     ]
    }
   ],
   "source": [
    "print(len(set(tokens)))"
   ]
  },
  {
   "cell_type": "code",
   "execution_count": 28,
   "metadata": {},
   "outputs": [],
   "source": [
    "text = nltk.Text(tokens, name = 'NMSC')"
   ]
  },
  {
   "cell_type": "code",
   "execution_count": 29,
   "metadata": {},
   "outputs": [
    {
     "name": "stdout",
     "output_type": "stream",
     "text": [
      "62852\n"
     ]
    }
   ],
   "source": [
    "print(len(text.tokens))"
   ]
  },
  {
   "cell_type": "markdown",
   "metadata": {},
   "source": [
    "* 가장 많이 나온 상위 10개 토큰"
   ]
  },
  {
   "cell_type": "code",
   "execution_count": 30,
   "metadata": {},
   "outputs": [
    {
     "name": "stdout",
     "output_type": "stream",
     "text": [
      "[('금융', 1521), ('대출', 1199), ('증가', 1133), ('가계부채', 1068), ('등', 830), ('부채', 817), ('가계', 788), ('것', 611), ('지난해', 504), ('은행', 488)]\n"
     ]
    }
   ],
   "source": [
    "print(text.vocab().most_common(10))"
   ]
  },
  {
   "cell_type": "markdown",
   "metadata": {},
   "source": [
    "* 가장 적게 나온 하위 10개 토큰"
   ]
  },
  {
   "cell_type": "code",
   "execution_count": 33,
   "metadata": {},
   "outputs": [
    {
     "name": "stdout",
     "output_type": "stream",
     "text": [
      "[('확장', 1), ('통산', 1), ('입시', 1), ('구해', 1), ('강', 1), ('적절', 1), ('호황', 1), ('특혜', 1), ('마냥', 1), ('잘못', 1)]\n"
     ]
    }
   ],
   "source": [
    "print(text.vocab().most_common()[:-11:-1])"
   ]
  },
  {
   "cell_type": "markdown",
   "metadata": {},
   "source": [
    "* 그래프 스타일 설정"
   ]
  },
  {
   "cell_type": "code",
   "execution_count": 40,
   "metadata": {},
   "outputs": [],
   "source": [
    "import seaborn as sns\n",
    "import matplotlib.pyplot as plt\n",
    "from matplotlib import font_manager,rc"
   ]
  },
  {
   "cell_type": "code",
   "execution_count": 35,
   "metadata": {},
   "outputs": [],
   "source": [
    "sns.set_style('darkgrid')\n",
    "sns.set_palette('hls')"
   ]
  },
  {
   "cell_type": "code",
   "execution_count": 41,
   "metadata": {},
   "outputs": [],
   "source": [
    "font_fname = 'c:/windows/fonts/NanumGothic-Bold.ttf'\n",
    "font_name = font_manager.FontProperties(fname = font_fname).get_name()\n",
    "rc('font',family=font_name)"
   ]
  },
  {
   "cell_type": "code",
   "execution_count": 42,
   "metadata": {},
   "outputs": [
    {
     "data": {
      "image/png": "[encoded data removed]",
      "text/plain": [
       "<Figure size 1080x432 with 1 Axes>"
      ]
     },
     "metadata": {},
     "output_type": "display_data"
    }
   ],
   "source": [
    "fig = plt.figure(figsize=(15,6))\n",
    "text.plot(20)"
   ]
  },
  {
   "cell_type": "markdown",
   "metadata": {},
   "source": [
    "* 입력한 키워드와 동시에 나온 토큰"
   ]
  },
  {
   "cell_type": "code",
   "execution_count": 44,
   "metadata": {},
   "outputs": [
    {
     "name": "stdout",
     "output_type": "stream",
     "text": [
      "Displaying 25 of 1068 matches:\n",
      "권 대한 고지 의무 추심 및 거래 금지 채무자 대리인 제도 활성화 가계부채 문제 해결 위 금융 소비자 단체 연대 회의 취약 차주 보호 위 입\n",
      "융통화위원회 정기 회의 금융 상황 점검 관련 자료 공개 해당 자료 가계부채 가계 신용 기준 증가 세 년말 대비 둔화 가계 소득 증가 율 추 \n",
      " 대비 둔화 가계 소득 증가 율 추 정치 웃 처분 가능 소득 대비 가계부채 비율 무려 또한 다중 채무자 면서 소득 신용 취약 차주 부채 규모\n",
      " 단축 채무자 회생 및 파산 관 법률 일부 개정 법률 안 처리 뒤 가계부채 문제 해결 위 입법 사실 손 상태 금융 소비자 연대 회의 천문학 \n",
      " 채무자 대해 채무 기조 정책 계속 제시 제한 적용 그 실효 담보 가계부채 증가 율 연 내 목표 가계부채 규모 수준 위 구체 목표 수단 제시\n",
      "계속 제시 제한 적용 그 실효 담보 가계부채 증가 율 연 내 목표 가계부채 규모 수준 위 구체 목표 수단 제시 가계 파탄 소비 여력 회복 관\n",
      "민 풍요 워 진 국민 오히려 살기 더 의견 지배 반증 듯 우리나라 가계부채 늘 지난달 말 은 금융 안정 자료 우리나라 가계부채 현재 년말 증\n",
      " 듯 우리나라 가계부채 늘 지난달 말 은 금융 안정 자료 우리나라 가계부채 현재 년말 증가 증가 이후 가장 수준 둔화 가계 소득 증가 율 웃\n",
      " 부채 규모 년 대비 문재인 정부 적극 추진 두 차례 부동산 대책 가계부채 증가 율 둔화 자평 벼랑 끝 신용 영세 자영 업자 다중 채무자 취\n",
      "팀목 수출 세계 경제 불안 크게 수출 감소 폭 작년 올해 로 점차 가계부채 국가채무 늘 체감 경기 악화 국민총소득 누가 돈 벌 어간 것 의문\n",
      " 이유 권 진안 글로벌 코노믹 기자 연재 김종찬 안보 경제 블로그 가계부채 금융시장 정책 부산물 종속 상황 더 정부 기업 부채 증가 율 가계\n",
      "부채 금융시장 정책 부산물 종속 상황 더 정부 기업 부채 증가 율 가계부채 증가 상황 가계부채 증가 억제 가계부채 가계 소득 앞서 취약 대출\n",
      "부산물 종속 상황 더 정부 기업 부채 증가 율 가계부채 증가 상황 가계부채 증가 억제 가계부채 가계 소득 앞서 취약 대출 비 은행 대출 율 \n",
      " 정부 기업 부채 증가 율 가계부채 증가 상황 가계부채 증가 억제 가계부채 가계 소득 앞서 취약 대출 비 은행 대출 율 추가 대출 억제 회생\n",
      " 대출 억제 회생 상실 국제 금융 협회 글로벌 부채 모니터 글로벌 가계부채 비율 포인트 상승 반면 한국 포인트 상승 세계 위 기록 비 금융 \n",
      "국 지난해 기준 대비 로 동안 포인트 상승 보고서 작년 기준 한국 가계부채 대비 비율 로 글로벌 가계부채 비율 미국 유로존 개국 가계부채 비\n",
      "포인트 상승 보고서 작년 기준 한국 가계부채 대비 비율 로 글로벌 가계부채 비율 미국 유로존 개국 가계부채 비율 각각 포인트 포인트 하락 한\n",
      "국 가계부채 대비 비율 로 글로벌 가계부채 비율 미국 유로존 개국 가계부채 비율 각각 포인트 포인트 하락 한국은행 집계 가계부채 총량 지난해\n",
      "유로존 개국 가계부채 비율 각각 포인트 포인트 하락 한국은행 집계 가계부채 총량 지난해 원 년도 소득 등 취약 계층 대출 자의 부채 규모 계\n",
      " 묶인 상황 대출 액수 지난해 원 증가 정부 재정 투입 상황 대비 가계부채 비율 로 처분 가능 소득 대비 가계부채 비율 지난해 말 로 상승 \n",
      "정부 재정 투입 상황 대비 가계부채 비율 로 처분 가능 소득 대비 가계부채 비율 지난해 말 로 상승 회계 연도 국가 결산 은 작년 국가부채 \n",
      "증가 세이 중앙정부 지방정부 채무 합 국가채무 년 대비 증가 대비 가계부채 상 승률 미국 용평 가사 소비자 신용 파산 위험 경고 돈 금융위기\n",
      " 달러 증가 부채 증가 로 위축 한국 속 신흥 국 시장 전체 대비 가계부채 비율 로 증가 선진국 시장 로 감소 한국 로 증가 기사 제보 저작\n",
      "보 싱글 족 이유 부채 지난해 대전 사회 지표 통계 대전 싱글 족 가계부채 이유 대해 주택 임차 및 구입 비 때문 응답 연령 대별 대가 로 \n",
      " 비 때문 응답 연령 대별 대가 로 가장 비율 세 이상은 싱글 족 가계부채 교육비 및 사교육비 때문 발생 응답 주로 세 미만 로 가장 비율 \n"
     ]
    }
   ],
   "source": [
    "text.concordance('가계부채')"
   ]
  },
  {
   "cell_type": "markdown",
   "metadata": {},
   "source": [
    "연도별로 만들어보자 "
   ]
  },
  {
   "cell_type": "code",
   "execution_count": 48,
   "metadata": {},
   "outputs": [
    {
     "data": {
      "text/plain": [
       "dtype('O')"
      ]
     },
     "execution_count": 48,
     "metadata": {},
     "output_type": "execute_result"
    }
   ],
   "source": [
    "df1.date.dtype"
   ]
  },
  {
   "cell_type": "code",
   "execution_count": 50,
   "metadata": {},
   "outputs": [],
   "source": [
    "df1['date1'] = pd.to_datetime(df1.date, utc=True)"
   ]
  },
  {
   "cell_type": "code",
   "execution_count": 52,
   "metadata": {},
   "outputs": [],
   "source": [
    "df1['mm'] = df1.date1.dt.strftime('%Y%m')"
   ]
  },
  {
   "cell_type": "code",
   "execution_count": 54,
   "metadata": {},
   "outputs": [
    {
     "data": {
      "text/html": [
       "<div>\n",
       "<style scoped>\n",
       "    .dataframe tbody tr th:only-of-type {\n",
       "        vertical-align: middle;\n",
       "    }\n",
       "\n",
       "    .dataframe tbody tr th {\n",
       "        vertical-align: top;\n",
       "    }\n",
       "\n",
       "    .dataframe thead th {\n",
       "        text-align: right;\n",
       "    }\n",
       "</style>\n",
       "<table border=\"1\" class=\"dataframe\">\n",
       "  <thead>\n",
       "    <tr style=\"text-align: right;\">\n",
       "      <th></th>\n",
       "      <th>date</th>\n",
       "      <th>date1</th>\n",
       "      <th>mm</th>\n",
       "    </tr>\n",
       "  </thead>\n",
       "  <tbody>\n",
       "    <tr>\n",
       "      <th>0</th>\n",
       "      <td>None</td>\n",
       "      <td>NaT</td>\n",
       "      <td>NaT</td>\n",
       "    </tr>\n",
       "    <tr>\n",
       "      <th>1</th>\n",
       "      <td>2019-04-10 10:24:50+09:00</td>\n",
       "      <td>2019-04-10 01:24:50+00:00</td>\n",
       "      <td>201904</td>\n",
       "    </tr>\n",
       "    <tr>\n",
       "      <th>2</th>\n",
       "      <td>2019-04-10 10:55:00+09:00</td>\n",
       "      <td>2019-04-10 01:55:00+00:00</td>\n",
       "      <td>201904</td>\n",
       "    </tr>\n",
       "    <tr>\n",
       "      <th>3</th>\n",
       "      <td>2019-04-10 11:12:00+09:00</td>\n",
       "      <td>2019-04-10 02:12:00+00:00</td>\n",
       "      <td>201904</td>\n",
       "    </tr>\n",
       "    <tr>\n",
       "      <th>4</th>\n",
       "      <td>2019-04-07 00:00:00</td>\n",
       "      <td>2019-04-07 00:00:00+00:00</td>\n",
       "      <td>201904</td>\n",
       "    </tr>\n",
       "  </tbody>\n",
       "</table>\n",
       "</div>"
      ],
      "text/plain": [
       "                        date                     date1      mm\n",
       "0                       None                       NaT     NaT\n",
       "1  2019-04-10 10:24:50+09:00 2019-04-10 01:24:50+00:00  201904\n",
       "2  2019-04-10 10:55:00+09:00 2019-04-10 01:55:00+00:00  201904\n",
       "3  2019-04-10 11:12:00+09:00 2019-04-10 02:12:00+00:00  201904\n",
       "4        2019-04-07 00:00:00 2019-04-07 00:00:00+00:00  201904"
      ]
     },
     "execution_count": 54,
     "metadata": {},
     "output_type": "execute_result"
    }
   ],
   "source": [
    "df1[['date','date1','mm']].head()"
   ]
  },
  {
   "cell_type": "code",
   "execution_count": 55,
   "metadata": {},
   "outputs": [
    {
     "data": {
      "text/plain": [
       "NaT       62\n",
       "201903    56\n",
       "201902    36\n",
       "201904    29\n",
       "201901    12\n",
       "Name: mm, dtype: int64"
      ]
     },
     "execution_count": 55,
     "metadata": {},
     "output_type": "execute_result"
    }
   ],
   "source": [
    "df1.mm.value_counts(dropna=False)"
   ]
  },
  {
   "cell_type": "code",
   "execution_count": null,
   "metadata": {},
   "outputs": [],
   "source": []
  }
 ],
 "metadata": {
  "kernelspec": {
   "display_name": "Python 3",
   "language": "python",
   "name": "python3"
  },
  "language_info": {
   "codemirror_mode": {
    "name": "ipython",
    "version": 3
   },
   "file_extension": ".py",
   "mimetype": "text/x-python",
   "name": "python",
   "nbconvert_exporter": "python",
   "pygments_lexer": "ipython3",
   "version": "3.7.0"
  }
 },
 "nbformat": 4,
 "nbformat_minor": 2
}
