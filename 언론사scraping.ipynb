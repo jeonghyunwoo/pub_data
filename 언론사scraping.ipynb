{
 "cells": [
  {
   "cell_type": "code",
   "execution_count": 1,
   "metadata": {},
   "outputs": [],
   "source": [
    "from urllib.parse import quote_plus\n",
    "import pandas as pd\n",
    "import numpy as np\n",
    "import newspaper\n",
    "import time"
   ]
  },
  {
   "cell_type": "code",
   "execution_count": 2,
   "metadata": {},
   "outputs": [],
   "source": [
    "# 검색어\n",
    "qry = \"가계부채\"\n",
    "qryp = quote_plus(qry)"
   ]
  },
  {
   "cell_type": "code",
   "execution_count": 3,
   "metadata": {},
   "outputs": [],
   "source": [
    "# url\n",
    "url0 = \"http://search.chosun.com/search/news.search?query={0}&pageno={1}&orderby=news&naviarraystr=&kind=&cont1=&cont2=&cont5=&categoryname=&categoryd2=&c_scope=paging&sdate=&edate=&premium=\""
   ]
  },
  {
   "cell_type": "code",
   "execution_count": 8,
   "metadata": {},
   "outputs": [
    {
     "data": {
      "text/plain": [
       "'http://search.chosun.com/search/news.search?query=%EA%B0%80%EA%B3%84%EB%B6%80%EC%B1%84&pageno=1&orderby=news&naviarraystr=&kind=&cont1=&cont2=&cont5=&categoryname=&categoryd2=&c_scope=paging&sdate=&edate=&premium='"
      ]
     },
     "execution_count": 8,
     "metadata": {},
     "output_type": "execute_result"
    }
   ],
   "source": [
    "urlp"
   ]
  },
  {
   "cell_type": "markdown",
   "metadata": {},
   "source": [
    "#### Try once!!"
   ]
  },
  {
   "cell_type": "code",
   "execution_count": 9,
   "metadata": {},
   "outputs": [],
   "source": [
    "bld = newspaper.build(urlp)"
   ]
  },
  {
   "cell_type": "code",
   "execution_count": 10,
   "metadata": {},
   "outputs": [],
   "source": [
    "a = bld.articles[0]"
   ]
  },
  {
   "cell_type": "code",
   "execution_count": 12,
   "metadata": {},
   "outputs": [],
   "source": [
    "a.download()\n",
    "a.parse()\n",
    "a.nlp()"
   ]
  },
  {
   "cell_type": "code",
   "execution_count": 13,
   "metadata": {},
   "outputs": [
    {
     "data": {
      "text/plain": [
       "datetime.datetime(2019, 4, 1, 0, 0)"
      ]
     },
     "execution_count": 13,
     "metadata": {},
     "output_type": "execute_result"
    }
   ],
   "source": [
    "a.publish_date"
   ]
  },
  {
   "cell_type": "code",
   "execution_count": 14,
   "metadata": {},
   "outputs": [
    {
     "data": {
      "text/plain": [
       "\"미국을 방문 중인 정경두 국방부 장관이 1일 오전 11시 30분(한국시간 2일 0시30분)에 패트릭 섀너핸 미국 국방부 장관 대행과 회담을 한다.\\n\\n\\n\\n이번 회담은 작년 12월 섀너핸 장관 대행 부임 이후 처음 개최되는 한미 국방장관 간 대면 회담이다.\\n\\n\\n\\n두 장관은 2차 북미정상회담 이후 한반도 안보정세를 평가하고, 북미 비핵화 대화를 견인하기 위한 외교적인 노력을 군사적으로 뒷받침하는 국방당국 차원의 후속 조치를 협의할 예정이다.\\n\\n\\n\\n아울러 키리졸브(KR) 연습을 대체하는 한미 연합 지휘소훈련(CPX)으로 지난달 4~12일 실시된 '19-1 동맹' 연습의 성과를 평가하고, 향후 연합 연습 및 훈련의 방향도 논의한다.\\n\\n\\n\\n두 장관은 또한 전시작전통제권(전작권) 전환 추진 상황과 '9·19 군사합의' 이행 상황 등에 대해서도 논의할 예정이다.\\n\\n\\n\\n오는 8월로 예정된 한미 연합 지휘소훈련('19-2 동맹')과 병행해 실시되는 전작권 전환을 위한 최초작전운용능력(IOC) 검증을 내실 있게 시행하는 문제도 다뤄질 전망이다.\\n\\n\\n\\n앞서 한미는 지난해 10월 제50차 한미안보협의회(SCM)에서 현 한미연합사령부와 유사한 미래 연합사(한국군 대장 사령관) 유지, 주한미군 주둔 및 유엔군사령부 유지, 미국 확장억제 지속 제공 등을 핵심으로 한 '전작권 전환 이후 연합방위지침'에 합의한 바 있다.\\n\\n\\n\\n정 장 관은 한미 국방장관 회담에 앞서 1일 오전 11시(이하 현지시간)에 버지니아주 소재 알링턴 국립묘지를 참배한다.\\n\\n\\n\\n회담 이후 2일에는 코리 가드너 미 상원 외교위원회 동아시아·태평양소위원장과 애덤 스미스 미 하원 군사위원장을 차례로 만나 한미동맹에 대한 미 의회 차원의 지지와 관심을 당부할 예정이다.\\n\\n\\n\\n<저작권자(c) 연합뉴스, 무단 전재-재배포 금지>\\n\\n\\n\\n\\n\\n\\n\\nCopyright ⓒ 조선일보 & Chosun.com\""
      ]
     },
     "execution_count": 14,
     "metadata": {},
     "output_type": "execute_result"
    }
   ],
   "source": [
    "a.text"
   ]
  },
  {
   "cell_type": "code",
   "execution_count": 15,
   "metadata": {},
   "outputs": [
    {
     "data": {
      "text/plain": [
       "['전환',\n",
       " '내일',\n",
       " '연합',\n",
       " '장관은',\n",
       " '새벽',\n",
       " '등',\n",
       " '장관',\n",
       " '평가하고',\n",
       " '이후',\n",
       " '미',\n",
       " '회담연합훈련전작권전환',\n",
       " '韓美국방장관',\n",
       " '차원의',\n",
       " '전작권',\n",
       " '협의',\n",
       " '한미']"
      ]
     },
     "execution_count": 15,
     "metadata": {},
     "output_type": "execute_result"
    }
   ],
   "source": [
    "a.keywords"
   ]
  },
  {
   "cell_type": "markdown",
   "metadata": {},
   "source": [
    "### Batch !!!"
   ]
  },
  {
   "cell_type": "code",
   "execution_count": 16,
   "metadata": {},
   "outputs": [
    {
     "name": "stdout",
     "output_type": "stream",
     "text": [
      "Wall time: 5.66 s\n"
     ]
    }
   ],
   "source": [
    "%%time\n",
    "date = []\n",
    "text = []\n",
    "kwd = []\n",
    "for i in range(2): # page\n",
    "    urlp = url0.format(qryp,i) # pageurl\n",
    "    bld = newspaper.build(urlp)\n",
    "    for j,a in enumerate(bld.articles):\n",
    "        a.download()\n",
    "        a.parse()\n",
    "        a.nlp()\n",
    "        date.append(a.publish_date)\n",
    "        text.append(a.text)\n",
    "        kwd.append(a.keywords)\n",
    "        # for prohibit provention\n",
    "        time.sleep(np.where(j % 2==0,1,0.5))"
   ]
  },
  {
   "cell_type": "code",
   "execution_count": 6,
   "metadata": {},
   "outputs": [],
   "source": [
    "news = pd.DataFrame(dict(date=date,kwd=kwd,text=text))"
   ]
  },
  {
   "cell_type": "code",
   "execution_count": 7,
   "metadata": {},
   "outputs": [
    {
     "data": {
      "text/html": [
       "<div>\n",
       "<style scoped>\n",
       "    .dataframe tbody tr th:only-of-type {\n",
       "        vertical-align: middle;\n",
       "    }\n",
       "\n",
       "    .dataframe tbody tr th {\n",
       "        vertical-align: top;\n",
       "    }\n",
       "\n",
       "    .dataframe thead th {\n",
       "        text-align: right;\n",
       "    }\n",
       "</style>\n",
       "<table border=\"1\" class=\"dataframe\">\n",
       "  <thead>\n",
       "    <tr style=\"text-align: right;\">\n",
       "      <th></th>\n",
       "      <th>date</th>\n",
       "      <th>kwd</th>\n",
       "      <th>text</th>\n",
       "    </tr>\n",
       "  </thead>\n",
       "  <tbody>\n",
       "  </tbody>\n",
       "</table>\n",
       "</div>"
      ],
      "text/plain": [
       "Empty DataFrame\n",
       "Columns: [date, kwd, text]\n",
       "Index: []"
      ]
     },
     "execution_count": 7,
     "metadata": {},
     "output_type": "execute_result"
    }
   ],
   "source": [
    "news"
   ]
  },
  {
   "cell_type": "code",
   "execution_count": null,
   "metadata": {},
   "outputs": [],
   "source": []
  }
 ],
 "metadata": {
  "kernelspec": {
   "display_name": "Python 3",
   "language": "python",
   "name": "python3"
  },
  "language_info": {
   "codemirror_mode": {
    "name": "ipython",
    "version": 3
   },
   "file_extension": ".py",
   "mimetype": "text/x-python",
   "name": "python",
   "nbconvert_exporter": "python",
   "pygments_lexer": "ipython3",
   "version": "3.7.0"
  }
 },
 "nbformat": 4,
 "nbformat_minor": 2
}
