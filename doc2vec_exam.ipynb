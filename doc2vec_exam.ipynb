{
 "cells": [
  {
   "cell_type": "code",
   "execution_count": 1,
   "metadata": {},
   "outputs": [],
   "source": [
    "from gensim.models.doc2vec import Doc2Vec, TaggedDocument"
   ]
  },
  {
   "cell_type": "code",
   "execution_count": 2,
   "metadata": {},
   "outputs": [],
   "source": [
    "from konlpy.tag import Okt"
   ]
  },
  {
   "cell_type": "code",
   "execution_count": 4,
   "metadata": {},
   "outputs": [],
   "source": [
    "from nvsch import *"
   ]
  },
  {
   "cell_type": "code",
   "execution_count": 5,
   "metadata": {},
   "outputs": [
    {
     "name": "stdout",
     "output_type": "stream",
     "text": [
      "가계부채 search done: 00:02:42 elapsed\n"
     ]
    }
   ],
   "source": [
    "df = naver_search_d('가계부채','2008.10.01','2009.03.31',pages=5)"
   ]
  },
  {
   "cell_type": "code",
   "execution_count": 27,
   "metadata": {},
   "outputs": [
    {
     "data": {
      "text/html": [
       "<div>\n",
       "<style scoped>\n",
       "    .dataframe tbody tr th:only-of-type {\n",
       "        vertical-align: middle;\n",
       "    }\n",
       "\n",
       "    .dataframe tbody tr th {\n",
       "        vertical-align: top;\n",
       "    }\n",
       "\n",
       "    .dataframe thead th {\n",
       "        text-align: right;\n",
       "    }\n",
       "</style>\n",
       "<table border=\"1\" class=\"dataframe\">\n",
       "  <thead>\n",
       "    <tr style=\"text-align: right;\">\n",
       "      <th></th>\n",
       "      <th>qry</th>\n",
       "      <th>date</th>\n",
       "      <th>title</th>\n",
       "      <th>text</th>\n",
       "    </tr>\n",
       "  </thead>\n",
       "  <tbody>\n",
       "    <tr>\n",
       "      <th>0</th>\n",
       "      <td>가계부채</td>\n",
       "      <td>None</td>\n",
       "      <td></td>\n",
       "      <td></td>\n",
       "    </tr>\n",
       "    <tr>\n",
       "      <th>1</th>\n",
       "      <td>가계부채</td>\n",
       "      <td>2009-02-24 18:56:09+09:00</td>\n",
       "      <td>가계부채 7.9% ‘고위험’</td>\n",
       "      <td>가처분소득이 생활비·상환액 못미쳐…4년만에 2배\\n\\n상환이 어려운 ‘고위험 가계 ...</td>\n",
       "    </tr>\n",
       "    <tr>\n",
       "      <th>2</th>\n",
       "      <td>가계부채</td>\n",
       "      <td>2009-02-24 14:57:31+09:00</td>\n",
       "      <td>카드사태 이후 `가계부채→소비억제` 경향 뚜렷</td>\n",
       "      <td>[이데일리 박상희기자] 가계부채 문제가 소비를 촉진시키기도 하고 위축시키기도 하지만...</td>\n",
       "    </tr>\n",
       "    <tr>\n",
       "      <th>3</th>\n",
       "      <td>가계부채</td>\n",
       "      <td>2009-02-24 13:05:00+09:00</td>\n",
       "      <td>\"가계부채 688조, 집집마다 빚 4,128만원\"</td>\n",
       "      <td>지난해 우리나라 전체 가계 빚이 전년보다 57조원 이상 늘어난 688조원에 이르고,...</td>\n",
       "    </tr>\n",
       "    <tr>\n",
       "      <th>4</th>\n",
       "      <td>가계부채</td>\n",
       "      <td>None</td>\n",
       "      <td>가계부채 688조원 급증..증가세 둔화</td>\n",
       "      <td>(서울=연합인포맥스) 황병극 기자= 우리나라의 가계부채가 688조원으로 늘었다.\\n...</td>\n",
       "    </tr>\n",
       "  </tbody>\n",
       "</table>\n",
       "</div>"
      ],
      "text/plain": [
       "    qry                       date                        title  \\\n",
       "0  가계부채                       None                                \n",
       "1  가계부채  2009-02-24 18:56:09+09:00              가계부채 7.9% ‘고위험’   \n",
       "2  가계부채  2009-02-24 14:57:31+09:00    카드사태 이후 `가계부채→소비억제` 경향 뚜렷   \n",
       "3  가계부채  2009-02-24 13:05:00+09:00  \"가계부채 688조, 집집마다 빚 4,128만원\"   \n",
       "4  가계부채                       None        가계부채 688조원 급증..증가세 둔화   \n",
       "\n",
       "                                                text  \n",
       "0                                                     \n",
       "1  가처분소득이 생활비·상환액 못미쳐…4년만에 2배\\n\\n상환이 어려운 ‘고위험 가계 ...  \n",
       "2  [이데일리 박상희기자] 가계부채 문제가 소비를 촉진시키기도 하고 위축시키기도 하지만...  \n",
       "3  지난해 우리나라 전체 가계 빚이 전년보다 57조원 이상 늘어난 688조원에 이르고,...  \n",
       "4  (서울=연합인포맥스) 황병극 기자= 우리나라의 가계부채가 688조원으로 늘었다.\\n...  "
      ]
     },
     "execution_count": 27,
     "metadata": {},
     "output_type": "execute_result"
    }
   ],
   "source": [
    "df.head()"
   ]
  },
  {
   "cell_type": "code",
   "execution_count": 33,
   "metadata": {},
   "outputs": [],
   "source": [
    "data = [t.replace('\\n','') for t in df.text if t!='']"
   ]
  },
  {
   "cell_type": "code",
   "execution_count": 34,
   "metadata": {},
   "outputs": [
    {
     "data": {
      "text/plain": [
       "['가처분소득이 생활비·상환액 못미쳐…4년만에 2배상환이 어려운 ‘고위험 가계 부채’가 전체 가계부채의 7.9%에 이르는 것으로 나타났다. 특히 가계부채는 부동산가격이 하락하거나 원금상환이 본격화할 경우 급격히 부실해질 가능성이 높은 것으로 분석됐다.한국은행 금융경제연구원의 김현정 차장은 24일 이런 내용을 담은 ‘한국노동패널자료를 이용한 가계부채 분석’ 보고서를 발표했다.이 보고서를 보면, 부채가 연간 가처분소득의 3배 이상인 고부채 가구의 가계부채 금액 비중은 2003년 27.8%에서 2007년 32.0%로 4.2%포인트 높아졌다. 또 부채가 금융자산의 5배 이상인 가구의 부채 금액 비중은 44.6%에서 54.5%로 9.9%포인트 상승했다. 이에 따라 소득과 금융자산 기준으로 모두 고부채 가구에 해당되는 부채 금액 비중은 2003년 전체 가계부채의 10.9%에서 2007년 21.2%로 크게 상승했다.보고서는 나아가 소득과 금융자산 기준으로 고부채 가구이면서 가처분소득이 생활비와 부채상환액에 미치지 못하는 고부채·적자가구(취약가구)의 고위험 부채가 전체의 7.9%에 이르는 것으로 분석했다. 취약가구의 고위험 가계부채 비율이 2003년의 4%에서 4년 만에 거의 두배로 상승한 셈이다.고위험 부채 비중을 소득 5분위별로 보면, 상위 20%의 5분위 가구가 0.5%에서 3.6%로, 4분위 가구가 0.5%에서 1.8%로 급등했다. 김현정 차장은 “소득 수준이 높은 계층이 부동산 값 상승기에 무리하게 빚을 얻어 부동산을 취득한 결과로 분석된다”고 말했다.보고서는 또 주택관련 대출의 원금분할상환이 본격화할 경우(만기일시상환 대출은 100% 만기연장 전제) 취약가구의 고위험 부채는 7.9%에서 11%로 크게 증가할 것으로 분석했다. 만기일시상환 대출이 95%만 연장돼도 고위험 부채 비중은 7.9%에서 15.7%로 급증할 것으로 예상했다. 부동산가격이 10% 떨어지면 소득과 총자산기준 취약가구의 부채액 비중은 기존의 4.2%에서 5.2%로 올라가는 것으로 분석됐다. 부동산가격이 20% 하락하면 이들 취약가구의 부채액 비중은 6.3%로 더 올라간다.정남기 선임기자',\n",
       " '[이데일리 박상희기자] 가계부채 문제가 소비를 촉진시키기도 하고 위축시키기도 하지만 2003년 카드 사태 이후에는 소비를 억제시키는데 기여한 정도가 더 컸다는 분석이 나왔다.24일 한국은행이 발표한 `한국노동패널자료를 이용한 가계부채 분석`에 따르면 소비에 대한 부채의 총효과는 신용카드 사태 이후 음(-)으로 전환됐으면 그 효과가 점차 확대되고 있는 것으로 나타났다.일반적으로 부채는 당장 쓸 돈이 없는 가계에 유동성을 공급해 소비를 촉진시키는 역할(부, +)을 하는 동시에 원리금 상환부담을 증가시켜 소비를 위축시키는 상반된 효과(음, -)를 가진다.신용카드 사태 이전 각 가계들은 가계빚이 늘어도 미리 확보한 현금으로 소비를 늘렸지만 카드사태를 기점으로 소비에 대한 부채의 기여도가 부(-)를 기록, 가계부채가 증가해도 소비를 줄이는 모습을 보였다.한국은행이 거시총량지표를 이용해 소비함수를 추정한 결과(1991년 1월~2008년 2월) 부채관련 변수 중 부채수준은 소비에 정(+)의 효과를, 부채상환부담은 부(-)의 효과를 미치는 것으로 나타났다.부채수준은 신용카드 사태 기간을 제외하고는 유동성을 공급해 소비를 유발하지만, 부채상환부담은 지속적으로 소비을 제한하는 요인이됐다는 의미다.가구의 소득수준별로 소비에 대한 부채 영향을 살펴보면 5000만원 이상 상위소득계층은 부채관련 변수에 별다른 영향을 받지 않는 것으로 나타났다.그러나 중간소득계층(3500~5000만원)의 경우 부채상환부담이 클 수록 소비를 줄이는 효과가 있었고, 하위소득계층(3500만원 미만)의 경우 부채가 클 수록 소비를 많이 하는 효과가 있었다.금융자산 보유 정도를 보면 금융자산 비중이 평균 이상인 가구의 경우 부채 상환부담 효과는 유의하지 않았지만 금융자산 비중이 낮을 수록 부채상환부담에 따른 소비억제 효과가 커지는 것으로 나타났다.따라서 한국은행은 \"가계부채가 소비위축을 비롯한 거시경제에 큰 부담이 되지 않도록 부동산가격의 경착륙 방지, 가계대출의 원활한 만기 연장, 실질소득 감소 완화를 위한 경기부양 노력 등 다각적인 대책 마련이 필요하다\"고 판단했다.']"
      ]
     },
     "execution_count": 34,
     "metadata": {},
     "output_type": "execute_result"
    }
   ],
   "source": [
    "data[:2]"
   ]
  },
  {
   "cell_type": "code",
   "execution_count": 35,
   "metadata": {},
   "outputs": [],
   "source": [
    "from konlpy.tag import Okt"
   ]
  },
  {
   "cell_type": "code",
   "execution_count": 36,
   "metadata": {},
   "outputs": [],
   "source": [
    "okt = Okt()"
   ]
  },
  {
   "cell_type": "markdown",
   "metadata": {},
   "source": [
    "### tokenize, preprocess for doc2vec"
   ]
  },
  {
   "cell_type": "code",
   "execution_count": 43,
   "metadata": {},
   "outputs": [],
   "source": [
    "tag_d = [TaggedDocument(words = okt.nouns(d), tags = [str(i)]) for i,d in enumerate(data)]"
   ]
  },
  {
   "cell_type": "code",
   "execution_count": 44,
   "metadata": {},
   "outputs": [],
   "source": [
    "model = Doc2Vec(vector_size = 30,\n",
    "               alpah = 0.025,\n",
    "               min_alpha = 0.00025,\n",
    "               min_count = 1,\n",
    "               dm = 1)"
   ]
  },
  {
   "cell_type": "code",
   "execution_count": 45,
   "metadata": {},
   "outputs": [],
   "source": [
    "model.build_vocab(tag_d)"
   ]
  },
  {
   "cell_type": "code",
   "execution_count": 48,
   "metadata": {},
   "outputs": [
    {
     "name": "stdout",
     "output_type": "stream",
     "text": [
      "iteration 0\n",
      "iteration 1\n",
      "iteration 2\n",
      "iteration 3\n",
      "iteration 4\n",
      "iteration 5\n",
      "iteration 6\n",
      "iteration 7\n",
      "iteration 8\n",
      "iteration 9\n",
      "iteration 10\n",
      "iteration 11\n",
      "iteration 12\n",
      "iteration 13\n",
      "iteration 14\n",
      "iteration 15\n",
      "iteration 16\n",
      "iteration 17\n",
      "iteration 18\n",
      "iteration 19\n",
      "iteration 20\n",
      "iteration 21\n",
      "iteration 22\n",
      "iteration 23\n",
      "iteration 24\n",
      "iteration 25\n",
      "iteration 26\n",
      "iteration 27\n",
      "iteration 28\n",
      "iteration 29\n",
      "iteration 30\n",
      "iteration 31\n",
      "iteration 32\n",
      "iteration 33\n",
      "iteration 34\n",
      "iteration 35\n",
      "iteration 36\n",
      "iteration 37\n",
      "iteration 38\n",
      "iteration 39\n",
      "iteration 40\n",
      "iteration 41\n",
      "iteration 42\n",
      "iteration 43\n",
      "iteration 44\n",
      "iteration 45\n",
      "iteration 46\n",
      "iteration 47\n",
      "iteration 48\n",
      "iteration 49\n"
     ]
    }
   ],
   "source": [
    "for epoch in range(50):\n",
    "    print('iteration {}'.format(epoch))\n",
    "    model.train(tag_d,\n",
    "               total_examples = model.corpus_count,\n",
    "               epochs = model.epochs)\n",
    "    model.alpha -+0.0002 # 학습률을 감소시킨다\n",
    "    model.min_alpha = model.alpha"
   ]
  },
  {
   "cell_type": "code",
   "execution_count": 49,
   "metadata": {},
   "outputs": [
    {
     "name": "stdout",
     "output_type": "stream",
     "text": [
      "Model Saved\n"
     ]
    }
   ],
   "source": [
    "model.save('navernews_d2v.model')\n",
    "print('Model Saved')"
   ]
  },
  {
   "cell_type": "code",
   "execution_count": 50,
   "metadata": {},
   "outputs": [],
   "source": [
    "model = Doc2Vec.load('navernews_d2v.model')"
   ]
  },
  {
   "cell_type": "code",
   "execution_count": 59,
   "metadata": {},
   "outputs": [],
   "source": [
    "test_data = okt.nouns(df.text[1])"
   ]
  },
  {
   "cell_type": "code",
   "execution_count": 60,
   "metadata": {},
   "outputs": [
    {
     "data": {
      "text/plain": [
       "array([ 3.516985  ,  1.3747438 ,  2.6107411 ,  1.7823108 ,  0.5687153 ,\n",
       "       -1.7427406 , -1.0353919 ,  0.03441723, -0.9737248 ,  0.65970945,\n",
       "       -1.1045394 ,  1.6414961 , -0.62266064,  1.3903701 ,  2.9252334 ,\n",
       "        1.7754499 ,  0.01653621, -2.9279199 ,  0.6398608 , -2.238054  ,\n",
       "       -1.9412644 ,  0.7910402 , -0.9177384 ,  2.4430516 ,  0.01221206,\n",
       "       -0.05899272,  0.14424524,  0.94564927,  1.051485  ,  2.5321453 ],\n",
       "      dtype=float32)"
      ]
     },
     "execution_count": 60,
     "metadata": {},
     "output_type": "execute_result"
    }
   ],
   "source": [
    "model.infer_vector(test_data)"
   ]
  },
  {
   "cell_type": "code",
   "execution_count": 62,
   "metadata": {},
   "outputs": [],
   "source": [
    "df['d2v'] = list(map(lambda x: model.infer_vector(okt.nouns(x)), df.text))"
   ]
  },
  {
   "cell_type": "code",
   "execution_count": 63,
   "metadata": {},
   "outputs": [
    {
     "data": {
      "text/html": [
       "<div>\n",
       "<style scoped>\n",
       "    .dataframe tbody tr th:only-of-type {\n",
       "        vertical-align: middle;\n",
       "    }\n",
       "\n",
       "    .dataframe tbody tr th {\n",
       "        vertical-align: top;\n",
       "    }\n",
       "\n",
       "    .dataframe thead th {\n",
       "        text-align: right;\n",
       "    }\n",
       "</style>\n",
       "<table border=\"1\" class=\"dataframe\">\n",
       "  <thead>\n",
       "    <tr style=\"text-align: right;\">\n",
       "      <th></th>\n",
       "      <th>qry</th>\n",
       "      <th>date</th>\n",
       "      <th>title</th>\n",
       "      <th>text</th>\n",
       "      <th>d2v</th>\n",
       "    </tr>\n",
       "  </thead>\n",
       "  <tbody>\n",
       "    <tr>\n",
       "      <th>0</th>\n",
       "      <td>가계부채</td>\n",
       "      <td>None</td>\n",
       "      <td></td>\n",
       "      <td></td>\n",
       "      <td>[0.0016271168, 0.007172979, 0.0034254459, 0.00...</td>\n",
       "    </tr>\n",
       "    <tr>\n",
       "      <th>1</th>\n",
       "      <td>가계부채</td>\n",
       "      <td>2009-02-24 18:56:09+09:00</td>\n",
       "      <td>가계부채 7.9% ‘고위험’</td>\n",
       "      <td>가처분소득이 생활비·상환액 못미쳐…4년만에 2배\\n\\n상환이 어려운 ‘고위험 가계 ...</td>\n",
       "      <td>[3.6708407, 0.921605, 2.6858275, 1.6119167, 0....</td>\n",
       "    </tr>\n",
       "    <tr>\n",
       "      <th>2</th>\n",
       "      <td>가계부채</td>\n",
       "      <td>2009-02-24 14:57:31+09:00</td>\n",
       "      <td>카드사태 이후 `가계부채→소비억제` 경향 뚜렷</td>\n",
       "      <td>[이데일리 박상희기자] 가계부채 문제가 소비를 촉진시키기도 하고 위축시키기도 하지만...</td>\n",
       "      <td>[3.3957267, 1.3239952, 2.4094467, 0.8780961, 0...</td>\n",
       "    </tr>\n",
       "    <tr>\n",
       "      <th>3</th>\n",
       "      <td>가계부채</td>\n",
       "      <td>2009-02-24 13:05:00+09:00</td>\n",
       "      <td>\"가계부채 688조, 집집마다 빚 4,128만원\"</td>\n",
       "      <td>지난해 우리나라 전체 가계 빚이 전년보다 57조원 이상 늘어난 688조원에 이르고,...</td>\n",
       "      <td>[2.8427694, 0.6550721, 1.8482131, 0.11461572, ...</td>\n",
       "    </tr>\n",
       "    <tr>\n",
       "      <th>4</th>\n",
       "      <td>가계부채</td>\n",
       "      <td>None</td>\n",
       "      <td>가계부채 688조원 급증..증가세 둔화</td>\n",
       "      <td>(서울=연합인포맥스) 황병극 기자= 우리나라의 가계부채가 688조원으로 늘었다.\\n...</td>\n",
       "      <td>[2.165613, 1.2489336, 1.1468471, -0.49078977, ...</td>\n",
       "    </tr>\n",
       "  </tbody>\n",
       "</table>\n",
       "</div>"
      ],
      "text/plain": [
       "    qry                       date                        title  \\\n",
       "0  가계부채                       None                                \n",
       "1  가계부채  2009-02-24 18:56:09+09:00              가계부채 7.9% ‘고위험’   \n",
       "2  가계부채  2009-02-24 14:57:31+09:00    카드사태 이후 `가계부채→소비억제` 경향 뚜렷   \n",
       "3  가계부채  2009-02-24 13:05:00+09:00  \"가계부채 688조, 집집마다 빚 4,128만원\"   \n",
       "4  가계부채                       None        가계부채 688조원 급증..증가세 둔화   \n",
       "\n",
       "                                                text  \\\n",
       "0                                                      \n",
       "1  가처분소득이 생활비·상환액 못미쳐…4년만에 2배\\n\\n상환이 어려운 ‘고위험 가계 ...   \n",
       "2  [이데일리 박상희기자] 가계부채 문제가 소비를 촉진시키기도 하고 위축시키기도 하지만...   \n",
       "3  지난해 우리나라 전체 가계 빚이 전년보다 57조원 이상 늘어난 688조원에 이르고,...   \n",
       "4  (서울=연합인포맥스) 황병극 기자= 우리나라의 가계부채가 688조원으로 늘었다.\\n...   \n",
       "\n",
       "                                                 d2v  \n",
       "0  [0.0016271168, 0.007172979, 0.0034254459, 0.00...  \n",
       "1  [3.6708407, 0.921605, 2.6858275, 1.6119167, 0....  \n",
       "2  [3.3957267, 1.3239952, 2.4094467, 0.8780961, 0...  \n",
       "3  [2.8427694, 0.6550721, 1.8482131, 0.11461572, ...  \n",
       "4  [2.165613, 1.2489336, 1.1468471, -0.49078977, ...  "
      ]
     },
     "execution_count": 63,
     "metadata": {},
     "output_type": "execute_result"
    }
   ],
   "source": [
    "df.head()"
   ]
  },
  {
   "cell_type": "code",
   "execution_count": 66,
   "metadata": {},
   "outputs": [],
   "source": [
    "from pprint import pprint"
   ]
  },
  {
   "cell_type": "code",
   "execution_count": 68,
   "metadata": {},
   "outputs": [
    {
     "name": "stdout",
     "output_type": "stream",
     "text": [
      "[('외환위기', 0.6015111207962036),\n",
      " ('양호', 0.5200044512748718),\n",
      " ('부채', 0.48058533668518066),\n",
      " ('피크', 0.47153520584106445),\n",
      " ('나', 0.44602853059768677),\n",
      " ('대여', 0.4381904602050781),\n",
      " ('수준', 0.434063196182251),\n",
      " ('역시', 0.4262021780014038),\n",
      " ('도울', 0.40096670389175415),\n",
      " ('이어진', 0.3940693736076355)]\n"
     ]
    }
   ],
   "source": [
    "pprint(model.wv.most_similar('가계부채'))"
   ]
  },
  {
   "cell_type": "code",
   "execution_count": 70,
   "metadata": {},
   "outputs": [
    {
     "name": "stdout",
     "output_type": "stream",
     "text": [
      "[('양호', 0.5190854668617249),\n",
      " ('상반기', 0.4997493028640747),\n",
      " ('상회', 0.4703458547592163),\n",
      " ('최태선', 0.46324676275253296),\n",
      " ('혜택', 0.44018566608428955),\n",
      " ('중요성', 0.43409040570259094),\n",
      " ('나', 0.4318382143974304),\n",
      " ('경제위기', 0.43046435713768005),\n",
      " ('애널', 0.42565712332725525),\n",
      " ('기회', 0.4119589030742645)]\n"
     ]
    }
   ],
   "source": [
    "pprint(model.wv.most_similar(positive=['가계부채','외환위기'],negative=['위기']))"
   ]
  },
  {
   "cell_type": "code",
   "execution_count": null,
   "metadata": {},
   "outputs": [],
   "source": [
    "# pos tag로 시도해보자 \n",
    "positive=['여자/Noun', '왕/Noun'], negative=['남자/Noun']"
   ]
  },
  {
   "cell_type": "code",
   "execution_count": 6,
   "metadata": {},
   "outputs": [],
   "source": [
    "from nltk.tokenize import word_tokenize"
   ]
  },
  {
   "cell_type": "code",
   "execution_count": 7,
   "metadata": {},
   "outputs": [],
   "source": [
    "import gensim"
   ]
  },
  {
   "cell_type": "code",
   "execution_count": 8,
   "metadata": {},
   "outputs": [
    {
     "data": {
      "text/plain": [
       "'3.7.1'"
      ]
     },
     "execution_count": 8,
     "metadata": {},
     "output_type": "execute_result"
    }
   ],
   "source": [
    "gensim.__version__"
   ]
  },
  {
   "cell_type": "code",
   "execution_count": 9,
   "metadata": {},
   "outputs": [],
   "source": [
    "data = [\"I love machine learning. Its awesome.\",\n",
    "        \"I love coding in python\",\n",
    "        \"I love building chatbots\",\n",
    "        \"they chat amagingly well\"]"
   ]
  },
  {
   "cell_type": "code",
   "execution_count": 10,
   "metadata": {},
   "outputs": [],
   "source": [
    "tagged_data = [TaggedDocument(words = word_tokenize(_d.lower()),tags=[str(i)]) for i, _d in enumerate(data)]"
   ]
  },
  {
   "cell_type": "code",
   "execution_count": 11,
   "metadata": {},
   "outputs": [
    {
     "data": {
      "text/plain": [
       "[TaggedDocument(words=['i', 'love', 'machine', 'learning', '.', 'its', 'awesome', '.'], tags=['0']),\n",
       " TaggedDocument(words=['i', 'love', 'coding', 'in', 'python'], tags=['1']),\n",
       " TaggedDocument(words=['i', 'love', 'building', 'chatbots'], tags=['2']),\n",
       " TaggedDocument(words=['they', 'chat', 'amagingly', 'well'], tags=['3'])]"
      ]
     },
     "execution_count": 11,
     "metadata": {},
     "output_type": "execute_result"
    }
   ],
   "source": [
    "tagged_data"
   ]
  },
  {
   "cell_type": "code",
   "execution_count": 13,
   "metadata": {},
   "outputs": [],
   "source": [
    "model = Doc2Vec(vector_size = 20,\n",
    "               alpha = 0.025,\n",
    "               min_alpha = 0.00025,\n",
    "               min_count = 1,\n",
    "               dm = 1)"
   ]
  },
  {
   "cell_type": "code",
   "execution_count": 14,
   "metadata": {},
   "outputs": [],
   "source": [
    "model.build_vocab(tagged_data)"
   ]
  },
  {
   "cell_type": "code",
   "execution_count": 16,
   "metadata": {},
   "outputs": [
    {
     "name": "stdout",
     "output_type": "stream",
     "text": [
      "iteration 0\n",
      "iteration 1\n"
     ]
    },
    {
     "name": "stderr",
     "output_type": "stream",
     "text": [
      "C:\\Users\\jeong\\Anaconda3\\lib\\site-packages\\ipykernel_launcher.py:5: DeprecationWarning: Call to deprecated `iter` (Attribute will be removed in 4.0.0, use self.epochs instead).\n",
      "  \"\"\"\n"
     ]
    },
    {
     "name": "stdout",
     "output_type": "stream",
     "text": [
      "iteration 2\n",
      "iteration 3\n",
      "iteration 4\n",
      "iteration 5\n",
      "iteration 6\n",
      "iteration 7\n",
      "iteration 8\n",
      "iteration 9\n",
      "iteration 10\n",
      "iteration 11\n",
      "iteration 12\n",
      "iteration 13\n",
      "iteration 14\n",
      "iteration 15\n",
      "iteration 16\n",
      "iteration 17\n",
      "iteration 18\n",
      "iteration 19\n",
      "iteration 20\n",
      "iteration 21\n",
      "iteration 22\n",
      "iteration 23\n",
      "iteration 24\n",
      "iteration 25\n",
      "iteration 26\n",
      "iteration 27\n",
      "iteration 28\n",
      "iteration 29\n",
      "iteration 30\n",
      "iteration 31\n",
      "iteration 32\n",
      "iteration 33\n",
      "iteration 34\n",
      "iteration 35\n",
      "iteration 36\n",
      "iteration 37\n",
      "iteration 38\n",
      "iteration 39\n",
      "iteration 40\n",
      "iteration 41\n",
      "iteration 42\n",
      "iteration 43\n",
      "iteration 44\n",
      "iteration 45\n",
      "iteration 46\n",
      "iteration 47\n",
      "iteration 48\n",
      "iteration 49\n",
      "iteration 50\n",
      "iteration 51\n",
      "iteration 52\n",
      "iteration 53\n",
      "iteration 54\n",
      "iteration 55\n",
      "iteration 56\n",
      "iteration 57\n",
      "iteration 58\n",
      "iteration 59\n",
      "iteration 60\n",
      "iteration 61\n",
      "iteration 62\n",
      "iteration 63\n",
      "iteration 64\n",
      "iteration 65\n",
      "iteration 66\n",
      "iteration 67\n",
      "iteration 68\n",
      "iteration 69\n",
      "iteration 70\n",
      "iteration 71\n",
      "iteration 72\n",
      "iteration 73\n",
      "iteration 74\n",
      "iteration 75\n",
      "iteration 76\n",
      "iteration 77\n",
      "iteration 78\n",
      "iteration 79\n",
      "iteration 80\n",
      "iteration 81\n",
      "iteration 82\n",
      "iteration 83\n",
      "iteration 84\n",
      "iteration 85\n",
      "iteration 86\n",
      "iteration 87\n",
      "iteration 88\n",
      "iteration 89\n",
      "iteration 90\n",
      "iteration 91\n",
      "iteration 92\n",
      "iteration 93\n",
      "iteration 94\n",
      "iteration 95\n",
      "iteration 96\n",
      "iteration 97\n",
      "iteration 98\n",
      "iteration 99\n"
     ]
    }
   ],
   "source": [
    "for epoch in range(100):\n",
    "    print('iteration {}'.format(epoch))\n",
    "    model.train(tagged_data,\n",
    "               total_examples = model.corpus_count,\n",
    "               epochs = model.iter)\n",
    "    # decrease learning rate\n",
    "    model.alpha -=0.0002\n",
    "    # fix the learning rate, no decay\n",
    "    model.min_alpha = model.alpha"
   ]
  },
  {
   "cell_type": "code",
   "execution_count": 17,
   "metadata": {},
   "outputs": [
    {
     "name": "stdout",
     "output_type": "stream",
     "text": [
      "Model Saved\n"
     ]
    }
   ],
   "source": [
    "model.save('d2v.model')\n",
    "print('Model Saved')"
   ]
  },
  {
   "cell_type": "code",
   "execution_count": 18,
   "metadata": {},
   "outputs": [
    {
     "data": {
      "text/plain": [
       "'C:\\\\Users\\\\jeong\\\\proj\\\\social_media'"
      ]
     },
     "execution_count": 18,
     "metadata": {},
     "output_type": "execute_result"
    }
   ],
   "source": [
    "pwd"
   ]
  },
  {
   "cell_type": "code",
   "execution_count": 19,
   "metadata": {},
   "outputs": [],
   "source": [
    "model = Doc2Vec.load('d2v.model')"
   ]
  },
  {
   "cell_type": "code",
   "execution_count": 20,
   "metadata": {},
   "outputs": [],
   "source": [
    "# to find the vector of a document which is not in training data"
   ]
  },
  {
   "cell_type": "code",
   "execution_count": 21,
   "metadata": {},
   "outputs": [],
   "source": [
    "test_data = word_tokenize('I love chatbot'.lower())"
   ]
  },
  {
   "cell_type": "code",
   "execution_count": 22,
   "metadata": {},
   "outputs": [
    {
     "data": {
      "text/plain": [
       "['i', 'love', 'chatbot']"
      ]
     },
     "execution_count": 22,
     "metadata": {},
     "output_type": "execute_result"
    }
   ],
   "source": [
    "test_data"
   ]
  },
  {
   "cell_type": "code",
   "execution_count": 23,
   "metadata": {},
   "outputs": [],
   "source": [
    "v1 = model.infer_vector(test_data)"
   ]
  },
  {
   "cell_type": "code",
   "execution_count": 24,
   "metadata": {},
   "outputs": [
    {
     "name": "stdout",
     "output_type": "stream",
     "text": [
      "v1_infer [-0.02032828 -0.0130036   0.01705799  0.02366476 -0.00577881 -0.00064531\n",
      " -0.01541601  0.01294726  0.00240653  0.00892984  0.01639733  0.00277231\n",
      " -0.00257604 -0.00455914 -0.01691392  0.00450838  0.01318038 -0.00015004\n",
      "  0.02034541  0.00903424]\n"
     ]
    }
   ],
   "source": [
    "print('v1_infer',v1)"
   ]
  },
  {
   "cell_type": "code",
   "execution_count": 25,
   "metadata": {},
   "outputs": [],
   "source": [
    "# to find most similar doc using tags\n",
    "similar_doc = model.docvecs.most_similar('1')"
   ]
  },
  {
   "cell_type": "code",
   "execution_count": 26,
   "metadata": {},
   "outputs": [
    {
     "name": "stdout",
     "output_type": "stream",
     "text": [
      "[('0', 0.9924418926239014), ('2', 0.9902169704437256), ('3', 0.9878475069999695)]\n"
     ]
    }
   ],
   "source": [
    "print(similar_doc)"
   ]
  },
  {
   "cell_type": "code",
   "execution_count": null,
   "metadata": {},
   "outputs": [],
   "source": []
  }
 ],
 "metadata": {
  "kernelspec": {
   "display_name": "Python 3",
   "language": "python",
   "name": "python3"
  },
  "language_info": {
   "codemirror_mode": {
    "name": "ipython",
    "version": 3
   },
   "file_extension": ".py",
   "mimetype": "text/x-python",
   "name": "python",
   "nbconvert_exporter": "python",
   "pygments_lexer": "ipython3",
   "version": "3.7.0"
  }
 },
 "nbformat": 4,
 "nbformat_minor": 2
}
