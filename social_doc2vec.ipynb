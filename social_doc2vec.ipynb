{
 "cells": [
  {
   "cell_type": "markdown",
   "metadata": {},
   "source": [
    "$H0:$ 기사를 수치화 하면 가계부실선행지수와 유의한 회귀분석할 수 있다  \n",
    "&nbsp;&nbsp; $y = f(x)$  \n",
    "&nbsp;&nbsp; $x$ : 월별기사 doc2vec  \n",
    "&nbsp;&nbsp; $y$ : 가계부실선행지수 1표준편차 초과여부"
   ]
  },
  {
   "cell_type": "code",
   "execution_count": 1,
   "metadata": {},
   "outputs": [],
   "source": [
    "from konlpy.tag import Okt\n",
    "okt = Okt()"
   ]
  },
  {
   "cell_type": "code",
   "execution_count": 2,
   "metadata": {},
   "outputs": [],
   "source": [
    "from gensim.models.doc2vec import Doc2Vec, TaggedDocument"
   ]
  },
  {
   "cell_type": "code",
   "execution_count": 3,
   "metadata": {},
   "outputs": [],
   "source": [
    "from navsch import *"
   ]
  },
  {
   "cell_type": "markdown",
   "metadata": {},
   "source": [
    "naver_search : 기사검색 후 결과를 data frame으로 산출  \n",
    "naver_search_d : 기간별 기사검색 후 결과를 data frame으로 산출"
   ]
  },
  {
   "cell_type": "markdown",
   "metadata": {},
   "source": [
    "#### 1.기사를 검색한다  \n",
    "&nbsp;&nbsp;- 2002년 1월~2019년 3월 월별"
   ]
  },
  {
   "cell_type": "code",
   "execution_count": 44,
   "metadata": {},
   "outputs": [],
   "source": [
    "b_rng = pd.date_range('2002-01-01','2019-04-01',freq='MS').strftime('%Y.%m.%d').tolist()[:-1]\n",
    "e_rng = pd.date_range('2002-01-01','2019-04-01',freq='M').strftime('%Y.%m.%d').tolist()"
   ]
  },
  {
   "cell_type": "code",
   "execution_count": null,
   "metadata": {},
   "outputs": [],
   "source": [
    "%%time\n",
    "dfs = []\n",
    "for beg, end in zip(b_rng,e_rng):\n",
    "    s = time.time()\n",
    "    dfs.append(naver_search_d('가계부채',beg,end,pages=1))\n",
    "    e = time.time() - s\n",
    "    print('{}~{} done, {} elapsed'.format(beg,end,time.strftime('%H:%M:%S',time.gmtime(e))))\n",
    "newsdf = pd.concat(dfs,axis=0)    \n",
    "# Wall time: 1h 12min 22s"
   ]
  },
  {
   "cell_type": "code",
   "execution_count": 52,
   "metadata": {},
   "outputs": [],
   "source": [
    "newsdf.to_pickle('data/newsdf_03_19.pkl')"
   ]
  },
  {
   "cell_type": "code",
   "execution_count": 2,
   "metadata": {},
   "outputs": [],
   "source": [
    "import gc"
   ]
  },
  {
   "cell_type": "code",
   "execution_count": 3,
   "metadata": {},
   "outputs": [
    {
     "data": {
      "text/plain": [
       "0"
      ]
     },
     "execution_count": 3,
     "metadata": {},
     "output_type": "execute_result"
    }
   ],
   "source": [
    "gc.collect()"
   ]
  },
  {
   "cell_type": "code",
   "execution_count": 4,
   "metadata": {},
   "outputs": [],
   "source": [
    "newsdf = pd.read_pickle('data/newsdf_03_19.pkl')"
   ]
  },
  {
   "cell_type": "code",
   "execution_count": 6,
   "metadata": {},
   "outputs": [
    {
     "data": {
      "text/plain": [
       "(2019, 5)"
      ]
     },
     "execution_count": 6,
     "metadata": {},
     "output_type": "execute_result"
    }
   ],
   "source": [
    "newsdf.shape"
   ]
  },
  {
   "cell_type": "markdown",
   "metadata": {},
   "source": [
    "#### 2.기사를 월별로 합친다"
   ]
  },
  {
   "cell_type": "code",
   "execution_count": 6,
   "metadata": {},
   "outputs": [
    {
     "data": {
      "text/html": [
       "<div>\n",
       "<style scoped>\n",
       "    .dataframe tbody tr th:only-of-type {\n",
       "        vertical-align: middle;\n",
       "    }\n",
       "\n",
       "    .dataframe tbody tr th {\n",
       "        vertical-align: top;\n",
       "    }\n",
       "\n",
       "    .dataframe thead th {\n",
       "        text-align: right;\n",
       "    }\n",
       "</style>\n",
       "<table border=\"1\" class=\"dataframe\">\n",
       "  <thead>\n",
       "    <tr style=\"text-align: right;\">\n",
       "      <th></th>\n",
       "      <th>ym</th>\n",
       "      <th>qry</th>\n",
       "      <th>date</th>\n",
       "      <th>title</th>\n",
       "      <th>text</th>\n",
       "    </tr>\n",
       "  </thead>\n",
       "  <tbody>\n",
       "    <tr>\n",
       "      <th>0</th>\n",
       "      <td>200201</td>\n",
       "      <td>가계부채</td>\n",
       "      <td>None</td>\n",
       "      <td>\"가계부채 과도한 증가는 `금융불안' 초래\"&lt;금융연&gt;</td>\n",
       "      <td>`신용카드 부실이 도화선'(서울=연합뉴스) 한승호기자 = 가계부채의 과도한 증가는 ...</td>\n",
       "    </tr>\n",
       "    <tr>\n",
       "      <th>1</th>\n",
       "      <td>200201</td>\n",
       "      <td>가계부채</td>\n",
       "      <td>None</td>\n",
       "      <td>금융연구원, 31일 가계부채 세미나 개최</td>\n",
       "      <td>머니투데이\\n\\n[머니투데이] 한국금융연구원(KIF)은 오는 31일 오후 2시 은행...</td>\n",
       "    </tr>\n",
       "    <tr>\n",
       "      <th>2</th>\n",
       "      <td>200201</td>\n",
       "      <td>가계부채</td>\n",
       "      <td>None</td>\n",
       "      <td>선진국 가계.기업 모두 빚더미</td>\n",
       "      <td>= '절약국가 일본' 옛말 가계 부채 세계최고 =\\n\\n\\n\\n미국은 물론 영국, ...</td>\n",
       "    </tr>\n",
       "  </tbody>\n",
       "</table>\n",
       "</div>"
      ],
      "text/plain": [
       "       ym   qry  date                          title  \\\n",
       "0  200201  가계부채  None  \"가계부채 과도한 증가는 `금융불안' 초래\"<금융연>   \n",
       "1  200201  가계부채  None         금융연구원, 31일 가계부채 세미나 개최   \n",
       "2  200201  가계부채  None               선진국 가계.기업 모두 빚더미   \n",
       "\n",
       "                                                text  \n",
       "0  `신용카드 부실이 도화선'(서울=연합뉴스) 한승호기자 = 가계부채의 과도한 증가는 ...  \n",
       "1  머니투데이\\n\\n[머니투데이] 한국금융연구원(KIF)은 오는 31일 오후 2시 은행...  \n",
       "2  = '절약국가 일본' 옛말 가계 부채 세계최고 =\\n\\n\\n\\n미국은 물론 영국, ...  "
      ]
     },
     "execution_count": 6,
     "metadata": {},
     "output_type": "execute_result"
    }
   ],
   "source": [
    "newsdf.head(3)"
   ]
  },
  {
   "cell_type": "code",
   "execution_count": 7,
   "metadata": {},
   "outputs": [],
   "source": [
    "title = newsdf.groupby(['ym','qry'])['title'].apply(lambda x: x.sum())"
   ]
  },
  {
   "cell_type": "code",
   "execution_count": 8,
   "metadata": {},
   "outputs": [],
   "source": [
    "text = newsdf.groupby(['ym','qry'])['text'].apply(lambda x: x.sum())"
   ]
  },
  {
   "cell_type": "code",
   "execution_count": 15,
   "metadata": {},
   "outputs": [],
   "source": [
    "ndf = pd.concat([title,text],axis=1).reset_index()"
   ]
  },
  {
   "cell_type": "code",
   "execution_count": 16,
   "metadata": {},
   "outputs": [
    {
     "data": {
      "text/html": [
       "<div>\n",
       "<style scoped>\n",
       "    .dataframe tbody tr th:only-of-type {\n",
       "        vertical-align: middle;\n",
       "    }\n",
       "\n",
       "    .dataframe tbody tr th {\n",
       "        vertical-align: top;\n",
       "    }\n",
       "\n",
       "    .dataframe thead th {\n",
       "        text-align: right;\n",
       "    }\n",
       "</style>\n",
       "<table border=\"1\" class=\"dataframe\">\n",
       "  <thead>\n",
       "    <tr style=\"text-align: right;\">\n",
       "      <th></th>\n",
       "      <th>ym</th>\n",
       "      <th>qry</th>\n",
       "      <th>title</th>\n",
       "      <th>text</th>\n",
       "    </tr>\n",
       "  </thead>\n",
       "  <tbody>\n",
       "    <tr>\n",
       "      <th>0</th>\n",
       "      <td>200201</td>\n",
       "      <td>가계부채</td>\n",
       "      <td>\"가계부채 과도한 증가는 `금융불안' 초래\"&lt;금융연&gt;금융연구원, 31일 가계부채 세...</td>\n",
       "      <td>`신용카드 부실이 도화선'(서울=연합뉴스) 한승호기자 = 가계부채의 과도한 증가는 ...</td>\n",
       "    </tr>\n",
       "    <tr>\n",
       "      <th>1</th>\n",
       "      <td>200202</td>\n",
       "      <td>가계부채</td>\n",
       "      <td>가계부채 335조 ‘사상 최고’…4년만에 배 가까이 증가\"가계부채 우려는 과장......</td>\n",
       "      <td>지난해 말 현재 가계부채가 330조원을 넘어 사상 최고를 기록했다.이에따라 가구당 ...</td>\n",
       "    </tr>\n",
       "    <tr>\n",
       "      <th>2</th>\n",
       "      <td>200203</td>\n",
       "      <td>가계부채</td>\n",
       "      <td>가계부채증가 우려할 만한 수준인가?가계부채 위험수위윤 재경차관 \"가계부채 증가속도 ...</td>\n",
       "      <td>1. 송인호 기자, 최근 가계부채증가 속도에 대한 우려의 목소리가 높습니다...외국...</td>\n",
       "    </tr>\n",
       "    <tr>\n",
       "      <th>3</th>\n",
       "      <td>200204</td>\n",
       "      <td>가계부채</td>\n",
       "      <td>가계부채 GDP의 64% 달해…KDI\"과다한 가계부채 주의 필요\"&lt;전경련 원로.자문...</td>\n",
       "      <td>가계부문 금융부채가 국내총생산(GDP)에서 차지하는 비중이 지난해 64.8%를 기록...</td>\n",
       "    </tr>\n",
       "    <tr>\n",
       "      <th>4</th>\n",
       "      <td>200205</td>\n",
       "      <td>가계부채</td>\n",
       "      <td>산업은행, 올 경제성장률 6.2%로 상향 전망\"한국 월드컵 선전하면 증시 상승\"-F...</td>\n",
       "      <td>미경제 둔화, 환율하락 등 경제불안요인 상존(서울=연합뉴스) 한승호기자 = 산업은행...</td>\n",
       "    </tr>\n",
       "  </tbody>\n",
       "</table>\n",
       "</div>"
      ],
      "text/plain": [
       "       ym   qry                                              title  \\\n",
       "0  200201  가계부채  \"가계부채 과도한 증가는 `금융불안' 초래\"<금융연>금융연구원, 31일 가계부채 세...   \n",
       "1  200202  가계부채  가계부채 335조 ‘사상 최고’…4년만에 배 가까이 증가\"가계부채 우려는 과장......   \n",
       "2  200203  가계부채  가계부채증가 우려할 만한 수준인가?가계부채 위험수위윤 재경차관 \"가계부채 증가속도 ...   \n",
       "3  200204  가계부채  가계부채 GDP의 64% 달해…KDI\"과다한 가계부채 주의 필요\"<전경련 원로.자문...   \n",
       "4  200205  가계부채  산업은행, 올 경제성장률 6.2%로 상향 전망\"한국 월드컵 선전하면 증시 상승\"-F...   \n",
       "\n",
       "                                                text  \n",
       "0  `신용카드 부실이 도화선'(서울=연합뉴스) 한승호기자 = 가계부채의 과도한 증가는 ...  \n",
       "1  지난해 말 현재 가계부채가 330조원을 넘어 사상 최고를 기록했다.이에따라 가구당 ...  \n",
       "2  1. 송인호 기자, 최근 가계부채증가 속도에 대한 우려의 목소리가 높습니다...외국...  \n",
       "3  가계부문 금융부채가 국내총생산(GDP)에서 차지하는 비중이 지난해 64.8%를 기록...  \n",
       "4  미경제 둔화, 환율하락 등 경제불안요인 상존(서울=연합뉴스) 한승호기자 = 산업은행...  "
      ]
     },
     "execution_count": 16,
     "metadata": {},
     "output_type": "execute_result"
    }
   ],
   "source": [
    "ndf.head()"
   ]
  },
  {
   "cell_type": "code",
   "execution_count": 17,
   "metadata": {},
   "outputs": [],
   "source": [
    "ndf.to_pickle('data/ndf.pkl')"
   ]
  },
  {
   "cell_type": "code",
   "execution_count": 18,
   "metadata": {},
   "outputs": [],
   "source": [
    "del newsdf"
   ]
  },
  {
   "cell_type": "markdown",
   "metadata": {},
   "source": [
    "#### 3.월별 기사를 tokenize 한다"
   ]
  },
  {
   "cell_type": "markdown",
   "metadata": {},
   "source": [
    "TaggedDocument에서 tag가 documentID이며  \n",
    "documentID가 같은 단어들은 비슷하게 벡터라이즈된다  \n",
    "&nbsp;&nbsp;- 따라서 doc2vec은 tag로 구분되는 모든 기사들을 모아서 한번만 모델링하면 된다 "
   ]
  },
  {
   "cell_type": "code",
   "execution_count": 9,
   "metadata": {},
   "outputs": [],
   "source": [
    "ndf = pd.read_pickle('data/ndf.pkl')"
   ]
  },
  {
   "cell_type": "code",
   "execution_count": 10,
   "metadata": {},
   "outputs": [
    {
     "data": {
      "text/html": [
       "<div>\n",
       "<style scoped>\n",
       "    .dataframe tbody tr th:only-of-type {\n",
       "        vertical-align: middle;\n",
       "    }\n",
       "\n",
       "    .dataframe tbody tr th {\n",
       "        vertical-align: top;\n",
       "    }\n",
       "\n",
       "    .dataframe thead th {\n",
       "        text-align: right;\n",
       "    }\n",
       "</style>\n",
       "<table border=\"1\" class=\"dataframe\">\n",
       "  <thead>\n",
       "    <tr style=\"text-align: right;\">\n",
       "      <th></th>\n",
       "      <th>ym</th>\n",
       "      <th>qry</th>\n",
       "      <th>title</th>\n",
       "      <th>text</th>\n",
       "    </tr>\n",
       "  </thead>\n",
       "  <tbody>\n",
       "    <tr>\n",
       "      <th>0</th>\n",
       "      <td>200201</td>\n",
       "      <td>가계부채</td>\n",
       "      <td>\"가계부채 과도한 증가는 `금융불안' 초래\"&lt;금융연&gt;금융연구원, 31일 가계부채 세...</td>\n",
       "      <td>`신용카드 부실이 도화선'(서울=연합뉴스) 한승호기자 = 가계부채의 과도한 증가는 ...</td>\n",
       "    </tr>\n",
       "    <tr>\n",
       "      <th>1</th>\n",
       "      <td>200202</td>\n",
       "      <td>가계부채</td>\n",
       "      <td>가계부채 335조 ‘사상 최고’…4년만에 배 가까이 증가\"가계부채 우려는 과장......</td>\n",
       "      <td>지난해 말 현재 가계부채가 330조원을 넘어 사상 최고를 기록했다.이에따라 가구당 ...</td>\n",
       "    </tr>\n",
       "    <tr>\n",
       "      <th>2</th>\n",
       "      <td>200203</td>\n",
       "      <td>가계부채</td>\n",
       "      <td>가계부채증가 우려할 만한 수준인가?가계부채 위험수위윤 재경차관 \"가계부채 증가속도 ...</td>\n",
       "      <td>1. 송인호 기자, 최근 가계부채증가 속도에 대한 우려의 목소리가 높습니다...외국...</td>\n",
       "    </tr>\n",
       "  </tbody>\n",
       "</table>\n",
       "</div>"
      ],
      "text/plain": [
       "       ym   qry                                              title  \\\n",
       "0  200201  가계부채  \"가계부채 과도한 증가는 `금융불안' 초래\"<금융연>금융연구원, 31일 가계부채 세...   \n",
       "1  200202  가계부채  가계부채 335조 ‘사상 최고’…4년만에 배 가까이 증가\"가계부채 우려는 과장......   \n",
       "2  200203  가계부채  가계부채증가 우려할 만한 수준인가?가계부채 위험수위윤 재경차관 \"가계부채 증가속도 ...   \n",
       "\n",
       "                                                text  \n",
       "0  `신용카드 부실이 도화선'(서울=연합뉴스) 한승호기자 = 가계부채의 과도한 증가는 ...  \n",
       "1  지난해 말 현재 가계부채가 330조원을 넘어 사상 최고를 기록했다.이에따라 가구당 ...  \n",
       "2  1. 송인호 기자, 최근 가계부채증가 속도에 대한 우려의 목소리가 높습니다...외국...  "
      ]
     },
     "execution_count": 10,
     "metadata": {},
     "output_type": "execute_result"
    }
   ],
   "source": [
    "ndf.head(3)"
   ]
  },
  {
   "cell_type": "markdown",
   "metadata": {},
   "source": [
    "tok_p: Adjective, Adverb, Noun 인것만 꺼낸다"
   ]
  },
  {
   "cell_type": "code",
   "execution_count": 11,
   "metadata": {},
   "outputs": [],
   "source": [
    "pos_list = ['Adjective','Adverb','Noun']\n",
    "tok_p = lambda doc: ['/'.join(t) for t in okt.pos(doc) if t[1] in pos_list] # okt.pos(doc): (사스, Noun), 이거 사스/Noun"
   ]
  },
  {
   "cell_type": "code",
   "execution_count": 15,
   "metadata": {},
   "outputs": [
    {
     "name": "stdout",
     "output_type": "stream",
     "text": [
      "title tokenize complete, 00:00:15 elapsed\n",
      "text tokenize complete, 00:06:07 elapsed\n"
     ]
    }
   ],
   "source": [
    "s = time.time()\n",
    "ndf['tok_tit'] = ndf.title.apply(tok_p)\n",
    "e = time.time()-s\n",
    "print('title tokenize complete, {} elapsed'.format(time.strftime('%H:%M:%S',time.gmtime(e))))\n",
    "ndf['tok_txt'] = ndf.text.apply(tok_p)\n",
    "e = time.time()-s\n",
    "ndf.to_pickle('data/ndf_tok.pkl')\n",
    "print('text tokenize complete, {} elapsed'.format(time.strftime('%H:%M:%S',time.gmtime(e))))"
   ]
  },
  {
   "cell_type": "markdown",
   "metadata": {},
   "source": [
    " "
   ]
  },
  {
   "cell_type": "markdown",
   "metadata": {},
   "source": [
    "**★불용어로 간주할 품사(조사 등)를 골라내기 위한 탐색작업 -- 시작**"
   ]
  },
  {
   "cell_type": "code",
   "execution_count": 12,
   "metadata": {},
   "outputs": [],
   "source": [
    "tt = ndf.tok_tit.sum()"
   ]
  },
  {
   "cell_type": "code",
   "execution_count": 39,
   "metadata": {},
   "outputs": [],
   "source": [
    "m = []\n",
    "p = []\n",
    "for t in tt:\n",
    "    m.append(t.split('/')[0])\n",
    "    p.append(t.split('/')[1])"
   ]
  },
  {
   "cell_type": "code",
   "execution_count": 40,
   "metadata": {},
   "outputs": [],
   "source": [
    "mp = pd.DataFrame({'pos':p,'morph':m})"
   ]
  },
  {
   "cell_type": "code",
   "execution_count": 41,
   "metadata": {},
   "outputs": [
    {
     "data": {
      "text/html": [
       "<div>\n",
       "<style scoped>\n",
       "    .dataframe tbody tr th:only-of-type {\n",
       "        vertical-align: middle;\n",
       "    }\n",
       "\n",
       "    .dataframe tbody tr th {\n",
       "        vertical-align: top;\n",
       "    }\n",
       "\n",
       "    .dataframe thead th {\n",
       "        text-align: right;\n",
       "    }\n",
       "</style>\n",
       "<table border=\"1\" class=\"dataframe\">\n",
       "  <thead>\n",
       "    <tr style=\"text-align: right;\">\n",
       "      <th></th>\n",
       "      <th>pos</th>\n",
       "      <th>morph</th>\n",
       "    </tr>\n",
       "  </thead>\n",
       "  <tbody>\n",
       "    <tr>\n",
       "      <th>0</th>\n",
       "      <td>Punctuation</td>\n",
       "      <td>\"</td>\n",
       "    </tr>\n",
       "    <tr>\n",
       "      <th>1</th>\n",
       "      <td>Noun</td>\n",
       "      <td>가계부채</td>\n",
       "    </tr>\n",
       "    <tr>\n",
       "      <th>2</th>\n",
       "      <td>Noun</td>\n",
       "      <td>과도</td>\n",
       "    </tr>\n",
       "    <tr>\n",
       "      <th>3</th>\n",
       "      <td>Josa</td>\n",
       "      <td>한</td>\n",
       "    </tr>\n",
       "    <tr>\n",
       "      <th>4</th>\n",
       "      <td>Noun</td>\n",
       "      <td>증가</td>\n",
       "    </tr>\n",
       "  </tbody>\n",
       "</table>\n",
       "</div>"
      ],
      "text/plain": [
       "           pos morph\n",
       "0  Punctuation     \"\n",
       "1         Noun  가계부채\n",
       "2         Noun    과도\n",
       "3         Josa     한\n",
       "4         Noun    증가"
      ]
     },
     "execution_count": 41,
     "metadata": {},
     "output_type": "execute_result"
    }
   ],
   "source": [
    "mp.head()"
   ]
  },
  {
   "cell_type": "code",
   "execution_count": 31,
   "metadata": {},
   "outputs": [],
   "source": [
    "pos = set([t.split('/')[1] for t in tt])\n",
    "pos = list(pos)"
   ]
  },
  {
   "cell_type": "code",
   "execution_count": 33,
   "metadata": {},
   "outputs": [],
   "source": [
    "del pos[1]"
   ]
  },
  {
   "cell_type": "code",
   "execution_count": 35,
   "metadata": {},
   "outputs": [],
   "source": [
    "del pos[4]"
   ]
  },
  {
   "cell_type": "code",
   "execution_count": 36,
   "metadata": {},
   "outputs": [
    {
     "data": {
      "text/plain": [
       "['VerbPrefix',\n",
       " 'Verb',\n",
       " 'Josa',\n",
       " 'Number',\n",
       " 'URL',\n",
       " 'Adverb',\n",
       " 'Punctuation',\n",
       " 'Modifier',\n",
       " 'Adjective',\n",
       " 'Conjunction',\n",
       " 'Exclamation',\n",
       " 'Eomi',\n",
       " 'Determiner',\n",
       " 'Foreign',\n",
       " 'Suffix',\n",
       " 'Noun',\n",
       " 'Alpha']"
      ]
     },
     "execution_count": 36,
     "metadata": {},
     "output_type": "execute_result"
    }
   ],
   "source": [
    "pos"
   ]
  },
  {
   "cell_type": "code",
   "execution_count": 48,
   "metadata": {},
   "outputs": [
    {
     "data": {
      "text/plain": [
       "Index(['pos', 'morph'], dtype='object')"
      ]
     },
     "execution_count": 48,
     "metadata": {},
     "output_type": "execute_result"
    }
   ],
   "source": [
    "mp.columns"
   ]
  },
  {
   "cell_type": "code",
   "execution_count": 61,
   "metadata": {},
   "outputs": [
    {
     "data": {
      "text/plain": [
       "False"
      ]
     },
     "execution_count": 61,
     "metadata": {},
     "output_type": "execute_result"
    }
   ],
   "source": [
    "1!=1"
   ]
  },
  {
   "cell_type": "code",
   "execution_count": 60,
   "metadata": {},
   "outputs": [
    {
     "data": {
      "text/html": [
       "<div>\n",
       "<style scoped>\n",
       "    .dataframe tbody tr th:only-of-type {\n",
       "        vertical-align: middle;\n",
       "    }\n",
       "\n",
       "    .dataframe tbody tr th {\n",
       "        vertical-align: top;\n",
       "    }\n",
       "\n",
       "    .dataframe thead th {\n",
       "        text-align: right;\n",
       "    }\n",
       "</style>\n",
       "<table border=\"1\" class=\"dataframe\">\n",
       "  <thead>\n",
       "    <tr style=\"text-align: right;\">\n",
       "      <th></th>\n",
       "      <th></th>\n",
       "      <th>pos</th>\n",
       "      <th>morph</th>\n",
       "    </tr>\n",
       "    <tr>\n",
       "      <th>pos</th>\n",
       "      <th></th>\n",
       "      <th></th>\n",
       "      <th></th>\n",
       "    </tr>\n",
       "  </thead>\n",
       "  <tbody>\n",
       "    <tr>\n",
       "      <th></th>\n",
       "      <th>9082</th>\n",
       "      <td></td>\n",
       "      <td></td>\n",
       "    </tr>\n",
       "    <tr>\n",
       "      <th>4분</th>\n",
       "      <th>4402</th>\n",
       "      <td>4분</td>\n",
       "      <td>2</td>\n",
       "    </tr>\n",
       "    <tr>\n",
       "      <th>Adjective</th>\n",
       "      <th>18872</th>\n",
       "      <td>Adjective</td>\n",
       "      <td>성한</td>\n",
       "    </tr>\n",
       "    <tr>\n",
       "      <th>Adverb</th>\n",
       "      <th>6830</th>\n",
       "      <td>Adverb</td>\n",
       "      <td>함께</td>\n",
       "    </tr>\n",
       "    <tr>\n",
       "      <th>Alpha</th>\n",
       "      <th>427</th>\n",
       "      <td>Alpha</td>\n",
       "      <td>FT</td>\n",
       "    </tr>\n",
       "    <tr>\n",
       "      <th>Conjunction</th>\n",
       "      <th>16478</th>\n",
       "      <td>Conjunction</td>\n",
       "      <td>그리고</td>\n",
       "    </tr>\n",
       "    <tr>\n",
       "      <th>Determiner</th>\n",
       "      <th>13942</th>\n",
       "      <td>Determiner</td>\n",
       "      <td>한</td>\n",
       "    </tr>\n",
       "    <tr>\n",
       "      <th>Eomi</th>\n",
       "      <th>6604</th>\n",
       "      <td>Eomi</td>\n",
       "      <td>는다</td>\n",
       "    </tr>\n",
       "    <tr>\n",
       "      <th>Exclamation</th>\n",
       "      <th>5294</th>\n",
       "      <td>Exclamation</td>\n",
       "      <td>어휴</td>\n",
       "    </tr>\n",
       "    <tr>\n",
       "      <th>Foreign</th>\n",
       "      <th>3741</th>\n",
       "      <td>Foreign</td>\n",
       "      <td>”</td>\n",
       "    </tr>\n",
       "    <tr>\n",
       "      <th>Josa</th>\n",
       "      <th>16543</th>\n",
       "      <td>Josa</td>\n",
       "      <td>로</td>\n",
       "    </tr>\n",
       "    <tr>\n",
       "      <th>Modifier</th>\n",
       "      <th>16299</th>\n",
       "      <td>Modifier</td>\n",
       "      <td>둬</td>\n",
       "    </tr>\n",
       "    <tr>\n",
       "      <th>Noun</th>\n",
       "      <th>15475</th>\n",
       "      <td>Noun</td>\n",
       "      <td>비율</td>\n",
       "    </tr>\n",
       "    <tr>\n",
       "      <th>Number</th>\n",
       "      <th>2404</th>\n",
       "      <td>Number</td>\n",
       "      <td>3.4분</td>\n",
       "    </tr>\n",
       "    <tr>\n",
       "      <th>Punctuation</th>\n",
       "      <th>8592</th>\n",
       "      <td>Punctuation</td>\n",
       "      <td>]</td>\n",
       "    </tr>\n",
       "    <tr>\n",
       "      <th>Suffix</th>\n",
       "      <th>1852</th>\n",
       "      <td>Suffix</td>\n",
       "      <td>당</td>\n",
       "    </tr>\n",
       "    <tr>\n",
       "      <th>URL</th>\n",
       "      <th>13967</th>\n",
       "      <td>URL</td>\n",
       "      <td>상tf.co.kr</td>\n",
       "    </tr>\n",
       "    <tr>\n",
       "      <th>Verb</th>\n",
       "      <th>6745</th>\n",
       "      <td>Verb</td>\n",
       "      <td>올릴까</td>\n",
       "    </tr>\n",
       "    <tr>\n",
       "      <th>VerbPrefix</th>\n",
       "      <th>17120</th>\n",
       "      <td>VerbPrefix</td>\n",
       "      <td>엇</td>\n",
       "    </tr>\n",
       "  </tbody>\n",
       "</table>\n",
       "</div>"
      ],
      "text/plain": [
       "                           pos      morph\n",
       "pos                                      \n",
       "            9082                         \n",
       "4분          4402            4분          2\n",
       "Adjective   18872    Adjective         성한\n",
       "Adverb      6830        Adverb         함께\n",
       "Alpha       427          Alpha         FT\n",
       "Conjunction 16478  Conjunction        그리고\n",
       "Determiner  13942   Determiner          한\n",
       "Eomi        6604          Eomi         는다\n",
       "Exclamation 5294   Exclamation         어휴\n",
       "Foreign     3741       Foreign          ”\n",
       "Josa        16543         Josa          로\n",
       "Modifier    16299     Modifier          둬\n",
       "Noun        15475         Noun         비율\n",
       "Number      2404        Number       3.4분\n",
       "Punctuation 8592   Punctuation          ]\n",
       "Suffix      1852        Suffix          당\n",
       "URL         13967          URL  상tf.co.kr\n",
       "Verb        6745          Verb        올릴까\n",
       "VerbPrefix  17120   VerbPrefix          엇"
      ]
     },
     "execution_count": 60,
     "metadata": {},
     "output_type": "execute_result"
    }
   ],
   "source": [
    "mp.groupby('pos').apply(lambda x: x.sample(1))\n",
    "# Adjective, Adverb, Noun 형용사,부사,명사만 가지고 토크나이즈 한다 ==> 위쪽 코드 중 tok_p 수정 "
   ]
  },
  {
   "cell_type": "markdown",
   "metadata": {},
   "source": [
    "**☆불용어로 간주할 품사(조사 등)를 골라내기 위한 탐색작업 -- 끝**"
   ]
  },
  {
   "cell_type": "markdown",
   "metadata": {},
   "source": [
    " "
   ]
  },
  {
   "cell_type": "markdown",
   "metadata": {},
   "source": [
    "#### 4.월별 기사를 doc2vec 한다"
   ]
  },
  {
   "cell_type": "code",
   "execution_count": 4,
   "metadata": {},
   "outputs": [],
   "source": [
    "ndf = pd.read_pickle('data/ndf_tok.pkl')"
   ]
  },
  {
   "cell_type": "code",
   "execution_count": 5,
   "metadata": {},
   "outputs": [
    {
     "data": {
      "text/html": [
       "<div>\n",
       "<style scoped>\n",
       "    .dataframe tbody tr th:only-of-type {\n",
       "        vertical-align: middle;\n",
       "    }\n",
       "\n",
       "    .dataframe tbody tr th {\n",
       "        vertical-align: top;\n",
       "    }\n",
       "\n",
       "    .dataframe thead th {\n",
       "        text-align: right;\n",
       "    }\n",
       "</style>\n",
       "<table border=\"1\" class=\"dataframe\">\n",
       "  <thead>\n",
       "    <tr style=\"text-align: right;\">\n",
       "      <th></th>\n",
       "      <th>ym</th>\n",
       "      <th>qry</th>\n",
       "      <th>title</th>\n",
       "      <th>text</th>\n",
       "      <th>tok_tit</th>\n",
       "      <th>tok_txt</th>\n",
       "    </tr>\n",
       "  </thead>\n",
       "  <tbody>\n",
       "    <tr>\n",
       "      <th>0</th>\n",
       "      <td>200201</td>\n",
       "      <td>가계부채</td>\n",
       "      <td>\"가계부채 과도한 증가는 `금융불안' 초래\"&lt;금융연&gt;금융연구원, 31일 가계부채 세...</td>\n",
       "      <td>`신용카드 부실이 도화선'(서울=연합뉴스) 한승호기자 = 가계부채의 과도한 증가는 ...</td>\n",
       "      <td>[가계부채/Noun, 과도/Noun, 증가/Noun, 금융/Noun, 불안/Noun...</td>\n",
       "      <td>[신용카드/Noun, 부실/Noun, 도화선/Noun, 서울/Noun, 연합뉴스/N...</td>\n",
       "    </tr>\n",
       "  </tbody>\n",
       "</table>\n",
       "</div>"
      ],
      "text/plain": [
       "       ym   qry                                              title  \\\n",
       "0  200201  가계부채  \"가계부채 과도한 증가는 `금융불안' 초래\"<금융연>금융연구원, 31일 가계부채 세...   \n",
       "\n",
       "                                                text  \\\n",
       "0  `신용카드 부실이 도화선'(서울=연합뉴스) 한승호기자 = 가계부채의 과도한 증가는 ...   \n",
       "\n",
       "                                             tok_tit  \\\n",
       "0  [가계부채/Noun, 과도/Noun, 증가/Noun, 금융/Noun, 불안/Noun...   \n",
       "\n",
       "                                             tok_txt  \n",
       "0  [신용카드/Noun, 부실/Noun, 도화선/Noun, 서울/Noun, 연합뉴스/N...  "
      ]
     },
     "execution_count": 5,
     "metadata": {},
     "output_type": "execute_result"
    }
   ],
   "source": [
    "ndf.head(1)"
   ]
  },
  {
   "cell_type": "markdown",
   "metadata": {},
   "source": [
    "doc2vec용으로 가공(TaggedDocument)  \n",
    "&nbsp;TaggedDocument에서 tags는 words그룹의 식별자 역할을 한다  \n",
    "&nbsp;$example:$ TaggedDocuments(words=['had','bankruptcy','year'],tags=['Credit Report'])"
   ]
  },
  {
   "cell_type": "markdown",
   "metadata": {},
   "source": [
    "token들은 tag(documentID)인 ym으로 구분되므로 모델피팅은 한번만 한다"
   ]
  },
  {
   "cell_type": "code",
   "execution_count": 16,
   "metadata": {},
   "outputs": [],
   "source": [
    "tagdoc = lambda txt, ym: [TaggedDocument(words=txt,tags=[ym])]"
   ]
  },
  {
   "cell_type": "code",
   "execution_count": 17,
   "metadata": {},
   "outputs": [],
   "source": [
    "ndf['tag_tit'] = ndf.apply(lambda x: tagdoc(x.tok_tit,x.ym),axis=1)"
   ]
  },
  {
   "cell_type": "code",
   "execution_count": 18,
   "metadata": {},
   "outputs": [],
   "source": [
    "ndf['tag_txt'] = ndf.apply(lambda x: tagdoc(x.tok_txt,x.ym),axis=1)"
   ]
  },
  {
   "cell_type": "code",
   "execution_count": 42,
   "metadata": {},
   "outputs": [],
   "source": [
    "tag_tit = [t for x in ndf.tag_tit for t in x] # for를 한번만 써주면 더블 네스티드 리스트가 되어 오류남"
   ]
  },
  {
   "cell_type": "markdown",
   "metadata": {},
   "source": [
    "doc2vec에 token load"
   ]
  },
  {
   "cell_type": "markdown",
   "metadata": {},
   "source": [
    "$word2vec$: CBOW ==> $doc2vec$: **DM(Distributed Memory)** dm=1  \n",
    "$word2vec$: Skip-Gram ==> $doc2vec$: **DBOW(Distributed Bag of Words)** dm=0"
   ]
  },
  {
   "cell_type": "markdown",
   "metadata": {},
   "source": [
    "#### 4.1 토큰 벡터화 (word embedding)"
   ]
  },
  {
   "cell_type": "code",
   "execution_count": 25,
   "metadata": {},
   "outputs": [
    {
     "data": {
      "text/plain": [
       "4"
      ]
     },
     "execution_count": 25,
     "metadata": {},
     "output_type": "execute_result"
    }
   ],
   "source": [
    "import multiprocessing\n",
    "cores = multiprocessing.cpu_count()\n",
    "cores"
   ]
  },
  {
   "cell_type": "code",
   "execution_count": 26,
   "metadata": {},
   "outputs": [],
   "source": [
    "from tqdm import tqdm\n",
    "tqdm.pandas(desc=\"progress-bar\")"
   ]
  },
  {
   "cell_type": "code",
   "execution_count": 50,
   "metadata": {},
   "outputs": [],
   "source": [
    "# doc2vec 인스턴스 생성(dm=0; dbow ~ skip-gram이랑 비슷한거)\n",
    "max_epochs = 30\n",
    "vec_size = 10\n",
    "alpha = 0.025\n",
    "\n",
    "model_dbow = Doc2Vec(dm=0,\n",
    "                     vector_size=vec_size,\n",
    "                     alpha=alpha, \n",
    "                     min_alpha=0.00025,\n",
    "                     min_count=1,\n",
    "                     workers=cores)"
   ]
  },
  {
   "cell_type": "code",
   "execution_count": 51,
   "metadata": {},
   "outputs": [],
   "source": [
    "model_dbow.build_vocab(tag_tit)"
   ]
  },
  {
   "cell_type": "code",
   "execution_count": 52,
   "metadata": {},
   "outputs": [],
   "source": [
    "from sklearn import utils"
   ]
  },
  {
   "cell_type": "code",
   "execution_count": 107,
   "metadata": {},
   "outputs": [
    {
     "name": "stderr",
     "output_type": "stream",
     "text": [
      "100%|████████████████████████████████████| 207/207 [00:00<00:00, 207015.00it/s]\n",
      "100%|████████████████████████████████████| 207/207 [00:00<00:00, 207015.00it/s]\n",
      "100%|████████████████████████████████████████████████| 207/207 [00:00<?, ?it/s]\n",
      "100%|████████████████████████████████████████████████| 207/207 [00:00<?, ?it/s]\n",
      "100%|████████████████████████████████████| 207/207 [00:00<00:00, 206965.66it/s]\n",
      "100%|████████████████████████████████████████████████| 207/207 [00:00<?, ?it/s]\n",
      "100%|████████████████████████████████████| 207/207 [00:00<00:00, 207015.00it/s]\n",
      "100%|████████████████████████████████████████████████| 207/207 [00:00<?, ?it/s]\n",
      "100%|████████████████████████████████████████████████| 207/207 [00:00<?, ?it/s]\n",
      "100%|████████████████████████████████████| 207/207 [00:00<00:00, 207015.00it/s]\n",
      "100%|████████████████████████████████████| 207/207 [00:00<00:00, 207015.00it/s]\n",
      "100%|████████████████████████████████████████████████| 207/207 [00:00<?, ?it/s]\n",
      "100%|████████████████████████████████████| 207/207 [00:00<00:00, 207015.00it/s]\n",
      "100%|████████████████████████████████████| 207/207 [00:00<00:00, 207015.00it/s]\n",
      "100%|████████████████████████████████████████████████| 207/207 [00:00<?, ?it/s]\n",
      "100%|████████████████████████████████████████████████| 207/207 [00:00<?, ?it/s]\n",
      "100%|████████████████████████████████████| 207/207 [00:00<00:00, 206965.66it/s]\n",
      "100%|████████████████████████████████████| 207/207 [00:00<00:00, 207015.00it/s]\n",
      "100%|████████████████████████████████████████████████| 207/207 [00:00<?, ?it/s]\n",
      "100%|████████████████████████████████████| 207/207 [00:00<00:00, 206965.66it/s]\n",
      "100%|████████████████████████████████████| 207/207 [00:00<00:00, 206965.66it/s]\n",
      "100%|████████████████████████████████████████████████| 207/207 [00:00<?, ?it/s]\n",
      "100%|████████████████████████████████████████████████| 207/207 [00:00<?, ?it/s]\n",
      "100%|████████████████████████████████████| 207/207 [00:00<00:00, 207015.00it/s]\n",
      "100%|████████████████████████████████████| 207/207 [00:00<00:00, 207015.00it/s]\n",
      "100%|████████████████████████████████████████████████| 207/207 [00:00<?, ?it/s]\n",
      "100%|████████████████████████████████████████████████| 207/207 [00:00<?, ?it/s]\n",
      "100%|████████████████████████████████████████████████| 207/207 [00:00<?, ?it/s]\n",
      "100%|████████████████████████████████████| 207/207 [00:00<00:00, 207015.00it/s]\n",
      "100%|████████████████████████████████████| 207/207 [00:00<00:00, 207015.00it/s]\n"
     ]
    },
    {
     "name": "stdout",
     "output_type": "stream",
     "text": [
      "Wall time: 869 ms\n"
     ]
    }
   ],
   "source": [
    "%%time\n",
    "for epoch in range(30):\n",
    "    model_dbow.train(utils.shuffle([x for tt in tqdm(ndf.tag_tit) for x in tt]),\n",
    "                    total_examples=model_dbow.corpus_count,\n",
    "                    epochs=1)\n",
    "    model_dbow.alpha -= 0.002\n",
    "    model_dbow.min_alpha = model_dbow.alpha"
   ]
  },
  {
   "cell_type": "code",
   "execution_count": 108,
   "metadata": {},
   "outputs": [
    {
     "data": {
      "text/plain": [
       "array([-2.4025385 ,  1.869682  ,  2.88652   , -1.1291269 ,  1.1922616 ,\n",
       "        0.73427105, -0.5711016 ,  0.68292105, -1.3383337 , -1.2065998 ],\n",
       "      dtype=float32)"
      ]
     },
     "execution_count": 108,
     "metadata": {},
     "output_type": "execute_result"
    }
   ],
   "source": [
    "model_dbow.infer_vector(ndf.tok_tit[0])"
   ]
  },
  {
   "cell_type": "code",
   "execution_count": 109,
   "metadata": {},
   "outputs": [],
   "source": [
    "dvec = list(map(lambda x: model_dbow.infer_vector(x), ndf.tok_tit))\n",
    "cname = ['dv'+str(i) for i in np.arange(1,vec_size+1)]\n",
    "dvec = pd.DataFrame(dvec,columns = cname)"
   ]
  },
  {
   "cell_type": "code",
   "execution_count": 110,
   "metadata": {},
   "outputs": [],
   "source": [
    "ndf_tit_vec = pd.concat([ndf,dvec],axis=1)\n",
    "ndf_tit_vec.to_pickle('data/ndf_tit_vec.pkl') \n",
    "# R에서 reticulate, pd = import('pandas'), df = pd.read_pickle('data/ndf_tit_vec.pkl')=>df는 R data frame됨"
   ]
  },
  {
   "cell_type": "code",
   "execution_count": 111,
   "metadata": {},
   "outputs": [
    {
     "name": "stderr",
     "output_type": "stream",
     "text": [
      "100%|████████████████████████████████████| 207/207 [00:00<00:00, 207015.00it/s]\n",
      "100%|████████████████████████████████████████████████| 207/207 [00:00<?, ?it/s]\n",
      "100%|████████████████████████████████████| 207/207 [00:00<00:00, 206965.66it/s]\n",
      "100%|████████████████████████████████████| 207/207 [00:00<00:00, 206965.66it/s]\n",
      "100%|████████████████████████████████████| 207/207 [00:00<00:00, 207015.00it/s]\n",
      "100%|████████████████████████████████████| 207/207 [00:00<00:00, 207015.00it/s]\n",
      "100%|████████████████████████████████████| 207/207 [00:00<00:00, 206965.66it/s]\n",
      "100%|████████████████████████████████████| 207/207 [00:00<00:00, 207015.00it/s]\n",
      "100%|████████████████████████████████████| 207/207 [00:00<00:00, 206965.66it/s]\n",
      "100%|████████████████████████████████████████████████| 207/207 [00:00<?, ?it/s]\n",
      "100%|████████████████████████████████████| 207/207 [00:00<00:00, 207015.00it/s]\n",
      "100%|████████████████████████████████████████████████| 207/207 [00:00<?, ?it/s]\n",
      "100%|████████████████████████████████████| 207/207 [00:00<00:00, 207015.00it/s]\n",
      "100%|████████████████████████████████████████████████| 207/207 [00:00<?, ?it/s]\n",
      "100%|████████████████████████████████████████████████| 207/207 [00:00<?, ?it/s]\n",
      "100%|████████████████████████████████████████████████| 207/207 [00:00<?, ?it/s]\n",
      "100%|████████████████████████████████████████████████| 207/207 [00:00<?, ?it/s]\n",
      "100%|████████████████████████████████████████████████| 207/207 [00:00<?, ?it/s]\n",
      "100%|████████████████████████████████████████████████| 207/207 [00:00<?, ?it/s]\n",
      "100%|████████████████████████████████████████████████| 207/207 [00:00<?, ?it/s]\n",
      "100%|████████████████████████████████████████████████| 207/207 [00:00<?, ?it/s]\n",
      "100%|████████████████████████████████████| 207/207 [00:00<00:00, 207015.00it/s]\n",
      "100%|████████████████████████████████████| 207/207 [00:00<00:00, 206965.66it/s]\n",
      "100%|████████████████████████████████████| 207/207 [00:00<00:00, 206965.66it/s]\n",
      "100%|████████████████████████████████████████████████| 207/207 [00:00<?, ?it/s]\n",
      "100%|████████████████████████████████████████████████| 207/207 [00:00<?, ?it/s]\n",
      "100%|████████████████████████████████████████████████| 207/207 [00:00<?, ?it/s]\n",
      "100%|████████████████████████████████████| 207/207 [00:00<00:00, 207015.00it/s]\n",
      "100%|████████████████████████████████████████████████| 207/207 [00:00<?, ?it/s]\n",
      "100%|████████████████████████████████████████████████| 207/207 [00:00<?, ?it/s]\n"
     ]
    },
    {
     "name": "stdout",
     "output_type": "stream",
     "text": [
      "Wall time: 1min 25s\n"
     ]
    }
   ],
   "source": [
    "%%time\n",
    "# text(기사본문) 벡터화\n",
    "tag_txt = [t for x in ndf.tag_txt for t in x]\n",
    "# 토큰업로드\n",
    "max_epochs = 30\n",
    "vec_size = 10\n",
    "alpha = 0.025\n",
    "\n",
    "model_dbow_txt = Doc2Vec(dm=0,\n",
    "                     vector_size=vec_size,\n",
    "                     alpha=alpha, \n",
    "                     min_alpha=0.00025,\n",
    "                     min_count=1,\n",
    "                     workers=cores)\n",
    "model_dbow_txt.build_vocab(tag_txt)\n",
    "# 모델피팅\n",
    "for epoch in range(30):\n",
    "    model_dbow_txt.train(utils.shuffle([x for tt in tqdm(ndf.tag_txt) for x in tt]),\n",
    "                    total_examples=model_dbow_txt.corpus_count,\n",
    "                    epochs=10)\n",
    "    model_dbow_txt.alpha -= 0.002\n",
    "    model_dbow_txt.min_alpha = model_dbow_txt.alpha\n",
    "# 벡터라이징\n",
    "dvec1 = list(map(lambda x: model_dbow.infer_vector(x), ndf.tok_txt))\n",
    "cname = ['dx'+str(i) for i in np.arange(1,vec_size+1)]\n",
    "dvec1 = pd.DataFrame(dvec1,columns = cname)\n",
    "# Wall time: 1min 25s"
   ]
  },
  {
   "cell_type": "code",
   "execution_count": 112,
   "metadata": {},
   "outputs": [],
   "source": [
    "ndf_txt_vec = pd.concat([ndf,dvec1],axis=1)\n",
    "ndf_txt_vec.to_pickle('data/ndf_txt_vec.pkl') \n",
    "# R에서 reticulate, pd = import('pandas'), df = pd.read_pickle('data/ndf_tit_vec.pkl')=>df는 R data frame됨"
   ]
  },
  {
   "cell_type": "code",
   "execution_count": 113,
   "metadata": {},
   "outputs": [
    {
     "data": {
      "text/html": [
       "<div>\n",
       "<style scoped>\n",
       "    .dataframe tbody tr th:only-of-type {\n",
       "        vertical-align: middle;\n",
       "    }\n",
       "\n",
       "    .dataframe tbody tr th {\n",
       "        vertical-align: top;\n",
       "    }\n",
       "\n",
       "    .dataframe thead th {\n",
       "        text-align: right;\n",
       "    }\n",
       "</style>\n",
       "<table border=\"1\" class=\"dataframe\">\n",
       "  <thead>\n",
       "    <tr style=\"text-align: right;\">\n",
       "      <th></th>\n",
       "      <th>ym</th>\n",
       "      <th>qry</th>\n",
       "      <th>title</th>\n",
       "      <th>text</th>\n",
       "      <th>tok_tit</th>\n",
       "      <th>tok_txt</th>\n",
       "      <th>tag_tit</th>\n",
       "      <th>tag_txt</th>\n",
       "      <th>dx1</th>\n",
       "      <th>dx2</th>\n",
       "      <th>dx3</th>\n",
       "      <th>dx4</th>\n",
       "      <th>dx5</th>\n",
       "      <th>dx6</th>\n",
       "      <th>dx7</th>\n",
       "      <th>dx8</th>\n",
       "      <th>dx9</th>\n",
       "      <th>dx10</th>\n",
       "    </tr>\n",
       "  </thead>\n",
       "  <tbody>\n",
       "    <tr>\n",
       "      <th>0</th>\n",
       "      <td>200201</td>\n",
       "      <td>가계부채</td>\n",
       "      <td>\"가계부채 과도한 증가는 `금융불안' 초래\"&lt;금융연&gt;금융연구원, 31일 가계부채 세...</td>\n",
       "      <td>`신용카드 부실이 도화선'(서울=연합뉴스) 한승호기자 = 가계부채의 과도한 증가는 ...</td>\n",
       "      <td>[가계부채/Noun, 과도/Noun, 증가/Noun, 금융/Noun, 불안/Noun...</td>\n",
       "      <td>[신용카드/Noun, 부실/Noun, 도화선/Noun, 서울/Noun, 연합뉴스/N...</td>\n",
       "      <td>[([가계부채/Noun, 과도/Noun, 증가/Noun, 금융/Noun, 불안/No...</td>\n",
       "      <td>[([신용카드/Noun, 부실/Noun, 도화선/Noun, 서울/Noun, 연합뉴스...</td>\n",
       "      <td>2.395438</td>\n",
       "      <td>-1.922362</td>\n",
       "      <td>-2.885324</td>\n",
       "      <td>1.168038</td>\n",
       "      <td>-1.166602</td>\n",
       "      <td>-0.759743</td>\n",
       "      <td>0.640993</td>\n",
       "      <td>-0.718837</td>\n",
       "      <td>1.314534</td>\n",
       "      <td>1.184489</td>\n",
       "    </tr>\n",
       "  </tbody>\n",
       "</table>\n",
       "</div>"
      ],
      "text/plain": [
       "       ym   qry                                              title  \\\n",
       "0  200201  가계부채  \"가계부채 과도한 증가는 `금융불안' 초래\"<금융연>금융연구원, 31일 가계부채 세...   \n",
       "\n",
       "                                                text  \\\n",
       "0  `신용카드 부실이 도화선'(서울=연합뉴스) 한승호기자 = 가계부채의 과도한 증가는 ...   \n",
       "\n",
       "                                             tok_tit  \\\n",
       "0  [가계부채/Noun, 과도/Noun, 증가/Noun, 금융/Noun, 불안/Noun...   \n",
       "\n",
       "                                             tok_txt  \\\n",
       "0  [신용카드/Noun, 부실/Noun, 도화선/Noun, 서울/Noun, 연합뉴스/N...   \n",
       "\n",
       "                                             tag_tit  \\\n",
       "0  [([가계부채/Noun, 과도/Noun, 증가/Noun, 금융/Noun, 불안/No...   \n",
       "\n",
       "                                             tag_txt       dx1       dx2  \\\n",
       "0  [([신용카드/Noun, 부실/Noun, 도화선/Noun, 서울/Noun, 연합뉴스...  2.395438 -1.922362   \n",
       "\n",
       "        dx3       dx4       dx5       dx6       dx7       dx8       dx9  \\\n",
       "0 -2.885324  1.168038 -1.166602 -0.759743  0.640993 -0.718837  1.314534   \n",
       "\n",
       "       dx10  \n",
       "0  1.184489  "
      ]
     },
     "execution_count": 113,
     "metadata": {},
     "output_type": "execute_result"
    }
   ],
   "source": [
    "ndf_txt_vec.head(1)"
   ]
  },
  {
   "cell_type": "code",
   "execution_count": 114,
   "metadata": {},
   "outputs": [
    {
     "data": {
      "text/html": [
       "<div>\n",
       "<style scoped>\n",
       "    .dataframe tbody tr th:only-of-type {\n",
       "        vertical-align: middle;\n",
       "    }\n",
       "\n",
       "    .dataframe tbody tr th {\n",
       "        vertical-align: top;\n",
       "    }\n",
       "\n",
       "    .dataframe thead th {\n",
       "        text-align: right;\n",
       "    }\n",
       "</style>\n",
       "<table border=\"1\" class=\"dataframe\">\n",
       "  <thead>\n",
       "    <tr style=\"text-align: right;\">\n",
       "      <th></th>\n",
       "      <th>ym</th>\n",
       "      <th>qry</th>\n",
       "      <th>title</th>\n",
       "      <th>text</th>\n",
       "      <th>tok_tit</th>\n",
       "      <th>tok_txt</th>\n",
       "      <th>tag_tit</th>\n",
       "      <th>tag_txt</th>\n",
       "      <th>dv1</th>\n",
       "      <th>dv2</th>\n",
       "      <th>dv3</th>\n",
       "      <th>dv4</th>\n",
       "      <th>dv5</th>\n",
       "      <th>dv6</th>\n",
       "      <th>dv7</th>\n",
       "      <th>dv8</th>\n",
       "      <th>dv9</th>\n",
       "      <th>dv10</th>\n",
       "    </tr>\n",
       "  </thead>\n",
       "  <tbody>\n",
       "    <tr>\n",
       "      <th>0</th>\n",
       "      <td>200201</td>\n",
       "      <td>가계부채</td>\n",
       "      <td>\"가계부채 과도한 증가는 `금융불안' 초래\"&lt;금융연&gt;금융연구원, 31일 가계부채 세...</td>\n",
       "      <td>`신용카드 부실이 도화선'(서울=연합뉴스) 한승호기자 = 가계부채의 과도한 증가는 ...</td>\n",
       "      <td>[가계부채/Noun, 과도/Noun, 증가/Noun, 금융/Noun, 불안/Noun...</td>\n",
       "      <td>[신용카드/Noun, 부실/Noun, 도화선/Noun, 서울/Noun, 연합뉴스/N...</td>\n",
       "      <td>[([가계부채/Noun, 과도/Noun, 증가/Noun, 금융/Noun, 불안/No...</td>\n",
       "      <td>[([신용카드/Noun, 부실/Noun, 도화선/Noun, 서울/Noun, 연합뉴스...</td>\n",
       "      <td>-2.40795</td>\n",
       "      <td>1.875965</td>\n",
       "      <td>2.892519</td>\n",
       "      <td>-1.133063</td>\n",
       "      <td>1.196998</td>\n",
       "      <td>0.741866</td>\n",
       "      <td>-0.567771</td>\n",
       "      <td>0.68658</td>\n",
       "      <td>-1.33762</td>\n",
       "      <td>-1.208902</td>\n",
       "    </tr>\n",
       "  </tbody>\n",
       "</table>\n",
       "</div>"
      ],
      "text/plain": [
       "       ym   qry                                              title  \\\n",
       "0  200201  가계부채  \"가계부채 과도한 증가는 `금융불안' 초래\"<금융연>금융연구원, 31일 가계부채 세...   \n",
       "\n",
       "                                                text  \\\n",
       "0  `신용카드 부실이 도화선'(서울=연합뉴스) 한승호기자 = 가계부채의 과도한 증가는 ...   \n",
       "\n",
       "                                             tok_tit  \\\n",
       "0  [가계부채/Noun, 과도/Noun, 증가/Noun, 금융/Noun, 불안/Noun...   \n",
       "\n",
       "                                             tok_txt  \\\n",
       "0  [신용카드/Noun, 부실/Noun, 도화선/Noun, 서울/Noun, 연합뉴스/N...   \n",
       "\n",
       "                                             tag_tit  \\\n",
       "0  [([가계부채/Noun, 과도/Noun, 증가/Noun, 금융/Noun, 불안/No...   \n",
       "\n",
       "                                             tag_txt      dv1       dv2  \\\n",
       "0  [([신용카드/Noun, 부실/Noun, 도화선/Noun, 서울/Noun, 연합뉴스... -2.40795  1.875965   \n",
       "\n",
       "        dv3       dv4       dv5       dv6       dv7      dv8      dv9  \\\n",
       "0  2.892519 -1.133063  1.196998  0.741866 -0.567771  0.68658 -1.33762   \n",
       "\n",
       "       dv10  \n",
       "0 -1.208902  "
      ]
     },
     "execution_count": 114,
     "metadata": {},
     "output_type": "execute_result"
    }
   ],
   "source": [
    "ndf_tit_vec.head(1)"
   ]
  },
  {
   "cell_type": "code",
   "execution_count": 135,
   "metadata": {},
   "outputs": [],
   "source": [
    "bsi = pd.read_pickle('data/busil_idx.pkl')"
   ]
  },
  {
   "cell_type": "code",
   "execution_count": 137,
   "metadata": {},
   "outputs": [],
   "source": [
    "bsi.ym = bsi.ym.astype(str)\n",
    "bsi.set_index('ym',inplace=True)"
   ]
  },
  {
   "cell_type": "code",
   "execution_count": 138,
   "metadata": {},
   "outputs": [
    {
     "data": {
      "text/html": [
       "<div>\n",
       "<style scoped>\n",
       "    .dataframe tbody tr th:only-of-type {\n",
       "        vertical-align: middle;\n",
       "    }\n",
       "\n",
       "    .dataframe tbody tr th {\n",
       "        vertical-align: top;\n",
       "    }\n",
       "\n",
       "    .dataframe thead th {\n",
       "        text-align: right;\n",
       "    }\n",
       "</style>\n",
       "<table border=\"1\" class=\"dataframe\">\n",
       "  <thead>\n",
       "    <tr style=\"text-align: right;\">\n",
       "      <th></th>\n",
       "      <th>cycle</th>\n",
       "      <th>tcycle</th>\n",
       "      <th>가계소득지표</th>\n",
       "      <th>가계소비지표</th>\n",
       "      <th>차입수준지표</th>\n",
       "    </tr>\n",
       "    <tr>\n",
       "      <th>ym</th>\n",
       "      <th></th>\n",
       "      <th></th>\n",
       "      <th></th>\n",
       "      <th></th>\n",
       "      <th></th>\n",
       "    </tr>\n",
       "  </thead>\n",
       "  <tbody>\n",
       "    <tr>\n",
       "      <th>201207</th>\n",
       "      <td>104.4</td>\n",
       "      <td>103.2</td>\n",
       "      <td>0.109</td>\n",
       "      <td>0.448</td>\n",
       "      <td>0.321</td>\n",
       "    </tr>\n",
       "  </tbody>\n",
       "</table>\n",
       "</div>"
      ],
      "text/plain": [
       "        cycle  tcycle  가계소득지표  가계소비지표  차입수준지표\n",
       "ym                                           \n",
       "201207  104.4   103.2   0.109   0.448   0.321"
      ]
     },
     "execution_count": 138,
     "metadata": {},
     "output_type": "execute_result"
    }
   ],
   "source": [
    "bsi.head(1)"
   ]
  },
  {
   "cell_type": "code",
   "execution_count": 139,
   "metadata": {},
   "outputs": [],
   "source": [
    "a = ndf_tit_vec.set_index('ym')\n",
    "ndf_tit_vec1 = a.merge(bsi,how='left',left_index=True,right_index=True)"
   ]
  },
  {
   "cell_type": "code",
   "execution_count": 140,
   "metadata": {},
   "outputs": [],
   "source": [
    "a = ndf_txt_vec.set_index('ym')\n",
    "ndf_txt_vec1 = a.merge(bsi,how='left',left_index=True,right_index=True)"
   ]
  },
  {
   "cell_type": "code",
   "execution_count": 141,
   "metadata": {},
   "outputs": [],
   "source": [
    "ndf_tit_vec1.to_pickle('data/ndf_tit_vec1.pkl')\n",
    "ndf_txt_vec1.to_pickle('data/ndf_txt_vec1.pkl')"
   ]
  },
  {
   "cell_type": "markdown",
   "metadata": {},
   "source": [
    "#### 가계부실선행지수"
   ]
  },
  {
   "cell_type": "code",
   "execution_count": 127,
   "metadata": {},
   "outputs": [],
   "source": [
    "busil_idx = pd.read_clipboard(sep='\\t')"
   ]
  },
  {
   "cell_type": "code",
   "execution_count": 130,
   "metadata": {},
   "outputs": [
    {
     "data": {
      "text/html": [
       "<div>\n",
       "<style scoped>\n",
       "    .dataframe tbody tr th:only-of-type {\n",
       "        vertical-align: middle;\n",
       "    }\n",
       "\n",
       "    .dataframe tbody tr th {\n",
       "        vertical-align: top;\n",
       "    }\n",
       "\n",
       "    .dataframe thead th {\n",
       "        text-align: right;\n",
       "    }\n",
       "</style>\n",
       "<table border=\"1\" class=\"dataframe\">\n",
       "  <thead>\n",
       "    <tr style=\"text-align: right;\">\n",
       "      <th></th>\n",
       "      <th>ym</th>\n",
       "      <th>cycle</th>\n",
       "      <th>tcycle</th>\n",
       "      <th>가계소득지표</th>\n",
       "      <th>가계소비지표</th>\n",
       "      <th>차입수준지표</th>\n",
       "    </tr>\n",
       "  </thead>\n",
       "  <tbody>\n",
       "    <tr>\n",
       "      <th>0</th>\n",
       "      <td>201207</td>\n",
       "      <td>104.4</td>\n",
       "      <td>103.2</td>\n",
       "      <td>0.109</td>\n",
       "      <td>0.448</td>\n",
       "      <td>0.321</td>\n",
       "    </tr>\n",
       "    <tr>\n",
       "      <th>1</th>\n",
       "      <td>201208</td>\n",
       "      <td>104.4</td>\n",
       "      <td>103.2</td>\n",
       "      <td>0.121</td>\n",
       "      <td>0.387</td>\n",
       "      <td>0.367</td>\n",
       "    </tr>\n",
       "    <tr>\n",
       "      <th>2</th>\n",
       "      <td>201209</td>\n",
       "      <td>104.4</td>\n",
       "      <td>103.2</td>\n",
       "      <td>0.137</td>\n",
       "      <td>0.327</td>\n",
       "      <td>0.407</td>\n",
       "    </tr>\n",
       "    <tr>\n",
       "      <th>3</th>\n",
       "      <td>201210</td>\n",
       "      <td>104.3</td>\n",
       "      <td>103.1</td>\n",
       "      <td>0.157</td>\n",
       "      <td>0.262</td>\n",
       "      <td>0.441</td>\n",
       "    </tr>\n",
       "    <tr>\n",
       "      <th>4</th>\n",
       "      <td>201211</td>\n",
       "      <td>104.2</td>\n",
       "      <td>103.0</td>\n",
       "      <td>0.175</td>\n",
       "      <td>0.200</td>\n",
       "      <td>0.467</td>\n",
       "    </tr>\n",
       "  </tbody>\n",
       "</table>\n",
       "</div>"
      ],
      "text/plain": [
       "       ym  cycle  tcycle  가계소득지표  가계소비지표  차입수준지표\n",
       "0  201207  104.4   103.2   0.109   0.448   0.321\n",
       "1  201208  104.4   103.2   0.121   0.387   0.367\n",
       "2  201209  104.4   103.2   0.137   0.327   0.407\n",
       "3  201210  104.3   103.1   0.157   0.262   0.441\n",
       "4  201211  104.2   103.0   0.175   0.200   0.467"
      ]
     },
     "execution_count": 130,
     "metadata": {},
     "output_type": "execute_result"
    }
   ],
   "source": [
    "busil_idx.head()"
   ]
  },
  {
   "cell_type": "code",
   "execution_count": 131,
   "metadata": {},
   "outputs": [],
   "source": [
    "busil_idx.to_pickle('data/busil_idx.pkl')"
   ]
  },
  {
   "cell_type": "code",
   "execution_count": 132,
   "metadata": {},
   "outputs": [],
   "source": [
    "bs = busil_idx.copy()"
   ]
  },
  {
   "cell_type": "code",
   "execution_count": 133,
   "metadata": {},
   "outputs": [],
   "source": [
    "bs['date'] = pd.to_datetime(bs.ym, format='%Y%m')"
   ]
  },
  {
   "cell_type": "code",
   "execution_count": 134,
   "metadata": {},
   "outputs": [
    {
     "data": {
      "text/html": [
       "<div>\n",
       "<style scoped>\n",
       "    .dataframe tbody tr th:only-of-type {\n",
       "        vertical-align: middle;\n",
       "    }\n",
       "\n",
       "    .dataframe tbody tr th {\n",
       "        vertical-align: top;\n",
       "    }\n",
       "\n",
       "    .dataframe thead th {\n",
       "        text-align: right;\n",
       "    }\n",
       "</style>\n",
       "<table border=\"1\" class=\"dataframe\">\n",
       "  <thead>\n",
       "    <tr style=\"text-align: right;\">\n",
       "      <th></th>\n",
       "      <th>ym</th>\n",
       "      <th>cycle</th>\n",
       "      <th>tcycle</th>\n",
       "      <th>가계소득지표</th>\n",
       "      <th>가계소비지표</th>\n",
       "      <th>차입수준지표</th>\n",
       "      <th>date</th>\n",
       "    </tr>\n",
       "  </thead>\n",
       "  <tbody>\n",
       "    <tr>\n",
       "      <th>0</th>\n",
       "      <td>201207</td>\n",
       "      <td>104.4</td>\n",
       "      <td>103.2</td>\n",
       "      <td>0.109</td>\n",
       "      <td>0.448</td>\n",
       "      <td>0.321</td>\n",
       "      <td>2012-07-01</td>\n",
       "    </tr>\n",
       "    <tr>\n",
       "      <th>1</th>\n",
       "      <td>201208</td>\n",
       "      <td>104.4</td>\n",
       "      <td>103.2</td>\n",
       "      <td>0.121</td>\n",
       "      <td>0.387</td>\n",
       "      <td>0.367</td>\n",
       "      <td>2012-08-01</td>\n",
       "    </tr>\n",
       "    <tr>\n",
       "      <th>2</th>\n",
       "      <td>201209</td>\n",
       "      <td>104.4</td>\n",
       "      <td>103.2</td>\n",
       "      <td>0.137</td>\n",
       "      <td>0.327</td>\n",
       "      <td>0.407</td>\n",
       "      <td>2012-09-01</td>\n",
       "    </tr>\n",
       "    <tr>\n",
       "      <th>3</th>\n",
       "      <td>201210</td>\n",
       "      <td>104.3</td>\n",
       "      <td>103.1</td>\n",
       "      <td>0.157</td>\n",
       "      <td>0.262</td>\n",
       "      <td>0.441</td>\n",
       "      <td>2012-10-01</td>\n",
       "    </tr>\n",
       "    <tr>\n",
       "      <th>4</th>\n",
       "      <td>201211</td>\n",
       "      <td>104.2</td>\n",
       "      <td>103.0</td>\n",
       "      <td>0.175</td>\n",
       "      <td>0.200</td>\n",
       "      <td>0.467</td>\n",
       "      <td>2012-11-01</td>\n",
       "    </tr>\n",
       "  </tbody>\n",
       "</table>\n",
       "</div>"
      ],
      "text/plain": [
       "       ym  cycle  tcycle  가계소득지표  가계소비지표  차입수준지표       date\n",
       "0  201207  104.4   103.2   0.109   0.448   0.321 2012-07-01\n",
       "1  201208  104.4   103.2   0.121   0.387   0.367 2012-08-01\n",
       "2  201209  104.4   103.2   0.137   0.327   0.407 2012-09-01\n",
       "3  201210  104.3   103.1   0.157   0.262   0.441 2012-10-01\n",
       "4  201211  104.2   103.0   0.175   0.200   0.467 2012-11-01"
      ]
     },
     "execution_count": 134,
     "metadata": {},
     "output_type": "execute_result"
    }
   ],
   "source": [
    "bs.head()"
   ]
  },
  {
   "cell_type": "code",
   "execution_count": 137,
   "metadata": {},
   "outputs": [],
   "source": [
    "import matplotlib.pyplot as plt"
   ]
  },
  {
   "cell_type": "code",
   "execution_count": 147,
   "metadata": {},
   "outputs": [],
   "source": [
    "plt.rcParams['font.family'] = 'NanumGothic'"
   ]
  },
  {
   "cell_type": "code",
   "execution_count": null,
   "metadata": {},
   "outputs": [],
   "source": [
    "plt."
   ]
  },
  {
   "cell_type": "code",
   "execution_count": 156,
   "metadata": {},
   "outputs": [
    {
     "data": {
      "image/png": "[encoded data removed]",
      "text/plain": [
       "<Figure size 720x360 with 2 Axes>"
      ]
     },
     "metadata": {
      "needs_background": "light"
     },
     "output_type": "display_data"
    }
   ],
   "source": [
    "plt.figure(figsize=(10,5))\n",
    "plt.subplot(211)\n",
    "plt.plot_date('date','tcycle',fmt='--',data=bs,color='firebrick')\n",
    "plt.title('추세+사이클')\n",
    "ax = plt.gca()\n",
    "ax.spines['top'].set_visible(False)\n",
    "ax.spines['right'].set_visible(False)\n",
    "plt.subplot(212)\n",
    "plt.plot_date('date','cycle',fmt='-',data=bs)\n",
    "plt.title('사이클')\n",
    "ax = plt.gca()\n",
    "ax.spines['top'].set_visible(False)\n",
    "ax.spines['right'].set_visible(False)\n",
    "plt.tight_layout()"
   ]
  },
  {
   "cell_type": "markdown",
   "metadata": {},
   "source": [
    "사이클 또는 추세+사이클이 얼마 이상일 때 tag를 1로 줘서 모델링 해보자"
   ]
  },
  {
   "cell_type": "markdown",
   "metadata": {},
   "source": [
    "#### 5.월별기사와 가계부실선행지수를 합친다"
   ]
  },
  {
   "cell_type": "code",
   "execution_count": null,
   "metadata": {},
   "outputs": [],
   "source": []
  }
 ],
 "metadata": {
  "kernelspec": {
   "display_name": "Python 3",
   "language": "python",
   "name": "python3"
  },
  "language_info": {
   "codemirror_mode": {
    "name": "ipython",
    "version": 3
   },
   "file_extension": ".py",
   "mimetype": "text/x-python",
   "name": "python",
   "nbconvert_exporter": "python",
   "pygments_lexer": "ipython3",
   "version": "3.7.0"
  }
 },
 "nbformat": 4,
 "nbformat_minor": 2
}
