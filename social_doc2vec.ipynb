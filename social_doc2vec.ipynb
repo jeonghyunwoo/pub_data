{
 "cells": [
  {
   "cell_type": "markdown",
   "metadata": {},
   "source": [
    "$H0:$ 기사를 수치화 하면 가계부실선행지수와 유의한 회귀분석할 수 있다  \n",
    "&nbsp;&nbsp; $y = f(x)$  \n",
    "&nbsp;&nbsp; $x$ : 월별기사 doc2vec  \n",
    "&nbsp;&nbsp; $y$ : 가계부실선행지수 1표준편차 초과여부"
   ]
  },
  {
   "cell_type": "code",
   "execution_count": 1,
   "metadata": {},
   "outputs": [],
   "source": [
    "from konlpy.tag import Okt\n",
    "okt = Okt()"
   ]
  },
  {
   "cell_type": "code",
   "execution_count": 2,
   "metadata": {},
   "outputs": [],
   "source": [
    "from gensim.models.doc2vec import Doc2Vec, TaggedDocument"
   ]
  },
  {
   "cell_type": "code",
   "execution_count": 3,
   "metadata": {},
   "outputs": [],
   "source": [
    "from navsch import *"
   ]
  },
  {
   "cell_type": "markdown",
   "metadata": {},
   "source": [
    "naver_search : 기사검색 후 결과를 data frame으로 산출  \n",
    "naver_search_d : 기간별 기사검색 후 결과를 data frame으로 산출"
   ]
  },
  {
   "cell_type": "markdown",
   "metadata": {},
   "source": [
    "#### 1.기사를 검색한다  \n",
    "&nbsp;&nbsp;- 2002년 1월~2019년 3월 월별"
   ]
  },
  {
   "cell_type": "code",
   "execution_count": 44,
   "metadata": {},
   "outputs": [],
   "source": [
    "b_rng = pd.date_range('2002-01-01','2019-04-01',freq='MS').strftime('%Y.%m.%d').tolist()[:-1]\n",
    "e_rng = pd.date_range('2002-01-01','2019-04-01',freq='M').strftime('%Y.%m.%d').tolist()"
   ]
  },
  {
   "cell_type": "code",
   "execution_count": 51,
   "metadata": {},
   "outputs": [
    {
     "name": "stdout",
     "output_type": "stream",
     "text": [
      "가계부채 2002 search done, 00:00:18 elapsed\n",
      "2002.01.01~2002.01.31 done, 00:00:18 elapsed\n",
      "가계부채 2002 search done, 00:00:23 elapsed\n",
      "2002.02.01~2002.02.28 done, 00:00:23 elapsed\n",
      "가계부채 2002 search done, 00:00:18 elapsed\n",
      "2002.03.01~2002.03.31 done, 00:00:18 elapsed\n",
      "가계부채 2002 search done, 00:00:18 elapsed\n",
      "2002.04.01~2002.04.30 done, 00:00:18 elapsed\n",
      "가계부채 2002 search done, 00:00:19 elapsed\n",
      "2002.05.01~2002.05.31 done, 00:00:19 elapsed\n",
      "가계부채 2002 search done, 00:00:20 elapsed\n",
      "2002.06.01~2002.06.30 done, 00:00:20 elapsed\n",
      "가계부채 2002 search done, 00:00:20 elapsed\n",
      "2002.07.01~2002.07.31 done, 00:00:20 elapsed\n",
      "가계부채 2002 search done, 00:00:19 elapsed\n",
      "2002.08.01~2002.08.31 done, 00:00:19 elapsed\n",
      "가계부채 2002 search done, 00:00:20 elapsed\n",
      "2002.09.01~2002.09.30 done, 00:00:20 elapsed\n",
      "가계부채 2002 search done, 00:00:22 elapsed\n",
      "2002.10.01~2002.10.31 done, 00:00:22 elapsed\n",
      "가계부채 2002 search done, 00:00:21 elapsed\n",
      "2002.11.01~2002.11.30 done, 00:00:21 elapsed\n",
      "가계부채 2002 search done, 00:00:20 elapsed\n",
      "2002.12.01~2002.12.31 done, 00:00:20 elapsed\n",
      "가계부채 2003 search done, 00:00:20 elapsed\n",
      "2003.01.01~2003.01.31 done, 00:00:20 elapsed\n",
      "가계부채 2003 search done, 00:00:18 elapsed\n",
      "2003.02.01~2003.02.28 done, 00:00:18 elapsed\n",
      "가계부채 2003 search done, 00:00:20 elapsed\n",
      "2003.03.01~2003.03.31 done, 00:00:20 elapsed\n",
      "가계부채 2003 search done, 00:00:15 elapsed\n",
      "2003.04.01~2003.04.30 done, 00:00:15 elapsed\n",
      "가계부채 2003 search done, 00:00:18 elapsed\n",
      "2003.05.01~2003.05.31 done, 00:00:18 elapsed\n",
      "가계부채 2003 search done, 00:00:20 elapsed\n",
      "2003.06.01~2003.06.30 done, 00:00:20 elapsed\n",
      "가계부채 2003 search done, 00:00:21 elapsed\n",
      "2003.07.01~2003.07.31 done, 00:00:21 elapsed\n",
      "가계부채 2003 search done, 00:00:20 elapsed\n",
      "2003.08.01~2003.08.31 done, 00:00:20 elapsed\n",
      "가계부채 2003 search done, 00:00:20 elapsed\n",
      "2003.09.01~2003.09.30 done, 00:00:20 elapsed\n",
      "가계부채 2003 search done, 00:00:20 elapsed\n",
      "2003.10.01~2003.10.31 done, 00:00:20 elapsed\n",
      "가계부채 2003 search done, 00:00:19 elapsed\n",
      "2003.11.01~2003.11.30 done, 00:00:19 elapsed\n",
      "가계부채 2003 search done, 00:00:19 elapsed\n",
      "2003.12.01~2003.12.31 done, 00:00:19 elapsed\n",
      "가계부채 2004 search done, 00:00:17 elapsed\n",
      "2004.01.01~2004.01.31 done, 00:00:17 elapsed\n",
      "가계부채 2004 search done, 00:00:19 elapsed\n",
      "2004.02.01~2004.02.29 done, 00:00:19 elapsed\n",
      "가계부채 2004 search done, 00:00:21 elapsed\n",
      "2004.03.01~2004.03.31 done, 00:00:21 elapsed\n",
      "가계부채 2004 search done, 00:00:18 elapsed\n",
      "2004.04.01~2004.04.30 done, 00:00:18 elapsed\n",
      "가계부채 2004 search done, 00:00:19 elapsed\n",
      "2004.05.01~2004.05.31 done, 00:00:19 elapsed\n",
      "가계부채 2004 search done, 00:00:20 elapsed\n",
      "2004.06.01~2004.06.30 done, 00:00:20 elapsed\n",
      "가계부채 2004 search done, 00:00:18 elapsed\n",
      "2004.07.01~2004.07.31 done, 00:00:18 elapsed\n",
      "가계부채 2004 search done, 00:00:20 elapsed\n",
      "2004.08.01~2004.08.31 done, 00:00:20 elapsed\n",
      "가계부채 2004 search done, 00:00:17 elapsed\n",
      "2004.09.01~2004.09.30 done, 00:00:17 elapsed\n",
      "가계부채 2004 search done, 00:00:21 elapsed\n",
      "2004.10.01~2004.10.31 done, 00:00:21 elapsed\n",
      "가계부채 2004 search done, 00:00:20 elapsed\n",
      "2004.11.01~2004.11.30 done, 00:00:20 elapsed\n",
      "가계부채 2004 search done, 00:00:20 elapsed\n",
      "2004.12.01~2004.12.31 done, 00:00:20 elapsed\n",
      "가계부채 2005 search done, 00:00:17 elapsed\n",
      "2005.01.01~2005.01.31 done, 00:00:17 elapsed\n",
      "가계부채 2005 search done, 00:00:17 elapsed\n",
      "2005.02.01~2005.02.28 done, 00:00:17 elapsed\n",
      "가계부채 2005 search done, 00:00:19 elapsed\n",
      "2005.03.01~2005.03.31 done, 00:00:19 elapsed\n",
      "가계부채 2005 search done, 00:00:19 elapsed\n",
      "2005.04.01~2005.04.30 done, 00:00:19 elapsed\n",
      "가계부채 2005 search done, 00:00:20 elapsed\n",
      "2005.05.01~2005.05.31 done, 00:00:20 elapsed\n",
      "가계부채 2005 search done, 00:00:19 elapsed\n",
      "2005.06.01~2005.06.30 done, 00:00:19 elapsed\n",
      "가계부채 2005 search done, 00:00:22 elapsed\n",
      "2005.07.01~2005.07.31 done, 00:00:22 elapsed\n",
      "가계부채 2005 search done, 00:00:20 elapsed\n",
      "2005.08.01~2005.08.31 done, 00:00:20 elapsed\n",
      "가계부채 2005 search done, 00:00:17 elapsed\n",
      "2005.09.01~2005.09.30 done, 00:00:17 elapsed\n",
      "가계부채 2005 search done, 00:00:20 elapsed\n",
      "2005.10.01~2005.10.31 done, 00:00:20 elapsed\n",
      "가계부채 2005 search done, 00:00:17 elapsed\n",
      "2005.11.01~2005.11.30 done, 00:00:17 elapsed\n",
      "가계부채 2005 search done, 00:00:22 elapsed\n",
      "2005.12.01~2005.12.31 done, 00:00:22 elapsed\n",
      "가계부채 2006 search done, 00:00:20 elapsed\n",
      "2006.01.01~2006.01.31 done, 00:00:20 elapsed\n",
      "가계부채 2006 search done, 00:00:23 elapsed\n",
      "2006.02.01~2006.02.28 done, 00:00:23 elapsed\n",
      "가계부채 2006 search done, 00:00:22 elapsed\n",
      "2006.03.01~2006.03.31 done, 00:00:23 elapsed\n",
      "가계부채 2006 search done, 00:00:21 elapsed\n",
      "2006.04.01~2006.04.30 done, 00:00:21 elapsed\n",
      "가계부채 2006 search done, 00:00:18 elapsed\n",
      "2006.05.01~2006.05.31 done, 00:00:18 elapsed\n",
      "가계부채 2006 search done, 00:00:21 elapsed\n",
      "2006.06.01~2006.06.30 done, 00:00:21 elapsed\n",
      "가계부채 2006 search done, 00:00:19 elapsed\n",
      "2006.07.01~2006.07.31 done, 00:00:19 elapsed\n",
      "가계부채 2006 search done, 00:00:20 elapsed\n",
      "2006.08.01~2006.08.31 done, 00:00:20 elapsed\n",
      "가계부채 2006 search done, 00:00:19 elapsed\n",
      "2006.09.01~2006.09.30 done, 00:00:19 elapsed\n",
      "가계부채 2006 search done, 00:00:18 elapsed\n",
      "2006.10.01~2006.10.31 done, 00:00:18 elapsed\n",
      "가계부채 2006 search done, 00:00:21 elapsed\n",
      "2006.11.01~2006.11.30 done, 00:00:21 elapsed\n",
      "가계부채 2006 search done, 00:00:20 elapsed\n",
      "2006.12.01~2006.12.31 done, 00:00:20 elapsed\n",
      "가계부채 2007 search done, 00:00:20 elapsed\n",
      "2007.01.01~2007.01.31 done, 00:00:20 elapsed\n",
      "가계부채 2007 search done, 00:00:22 elapsed\n",
      "2007.02.01~2007.02.28 done, 00:00:22 elapsed\n",
      "가계부채 2007 search done, 00:00:19 elapsed\n",
      "2007.03.01~2007.03.31 done, 00:00:20 elapsed\n",
      "가계부채 2007 search done, 00:00:19 elapsed\n",
      "2007.04.01~2007.04.30 done, 00:00:19 elapsed\n",
      "가계부채 2007 search done, 00:00:22 elapsed\n",
      "2007.05.01~2007.05.31 done, 00:00:22 elapsed\n",
      "가계부채 2007 search done, 00:00:17 elapsed\n",
      "2007.06.01~2007.06.30 done, 00:00:17 elapsed\n",
      "가계부채 2007 search done, 00:00:20 elapsed\n",
      "2007.07.01~2007.07.31 done, 00:00:20 elapsed\n",
      "가계부채 2007 search done, 00:00:20 elapsed\n",
      "2007.08.01~2007.08.31 done, 00:00:20 elapsed\n",
      "가계부채 2007 search done, 00:00:17 elapsed\n",
      "2007.09.01~2007.09.30 done, 00:00:17 elapsed\n",
      "가계부채 2007 search done, 00:00:18 elapsed\n",
      "2007.10.01~2007.10.31 done, 00:00:18 elapsed\n",
      "가계부채 2007 search done, 00:00:16 elapsed\n",
      "2007.11.01~2007.11.30 done, 00:00:16 elapsed\n",
      "가계부채 2007 search done, 00:00:20 elapsed\n",
      "2007.12.01~2007.12.31 done, 00:00:20 elapsed\n",
      "가계부채 2008 search done, 00:00:19 elapsed\n",
      "2008.01.01~2008.01.31 done, 00:00:19 elapsed\n",
      "가계부채 2008 search done, 00:00:17 elapsed\n",
      "2008.02.01~2008.02.29 done, 00:00:17 elapsed\n",
      "가계부채 2008 search done, 00:00:18 elapsed\n",
      "2008.03.01~2008.03.31 done, 00:00:18 elapsed\n",
      "가계부채 2008 search done, 00:00:22 elapsed\n",
      "2008.04.01~2008.04.30 done, 00:00:22 elapsed\n",
      "가계부채 2008 search done, 00:00:20 elapsed\n",
      "2008.05.01~2008.05.31 done, 00:00:20 elapsed\n",
      "가계부채 2008 search done, 00:00:20 elapsed\n",
      "2008.06.01~2008.06.30 done, 00:00:20 elapsed\n",
      "가계부채 2008 search done, 00:00:19 elapsed\n",
      "2008.07.01~2008.07.31 done, 00:00:19 elapsed\n",
      "가계부채 2008 search done, 00:00:19 elapsed\n",
      "2008.08.01~2008.08.31 done, 00:00:19 elapsed\n",
      "가계부채 2008 search done, 00:00:17 elapsed\n",
      "2008.09.01~2008.09.30 done, 00:00:17 elapsed\n",
      "가계부채 2008 search done, 00:00:16 elapsed\n",
      "2008.10.01~2008.10.31 done, 00:00:16 elapsed\n",
      "가계부채 2008 search done, 00:00:21 elapsed\n",
      "2008.11.01~2008.11.30 done, 00:00:21 elapsed\n",
      "가계부채 2008 search done, 00:00:23 elapsed\n",
      "2008.12.01~2008.12.31 done, 00:00:23 elapsed\n",
      "가계부채 2009 search done, 00:00:20 elapsed\n",
      "2009.01.01~2009.01.31 done, 00:00:20 elapsed\n",
      "가계부채 2009 search done, 00:00:18 elapsed\n",
      "2009.02.01~2009.02.28 done, 00:00:18 elapsed\n",
      "가계부채 2009 search done, 00:00:18 elapsed\n",
      "2009.03.01~2009.03.31 done, 00:00:18 elapsed\n",
      "가계부채 2009 search done, 00:00:19 elapsed\n",
      "2009.04.01~2009.04.30 done, 00:00:19 elapsed\n",
      "가계부채 2009 search done, 00:00:19 elapsed\n",
      "2009.05.01~2009.05.31 done, 00:00:19 elapsed\n",
      "가계부채 2009 search done, 00:00:21 elapsed\n",
      "2009.06.01~2009.06.30 done, 00:00:21 elapsed\n",
      "가계부채 2009 search done, 00:00:20 elapsed\n",
      "2009.07.01~2009.07.31 done, 00:00:20 elapsed\n",
      "가계부채 2009 search done, 00:00:34 elapsed\n",
      "2009.08.01~2009.08.31 done, 00:00:34 elapsed\n",
      "가계부채 2009 search done, 00:00:33 elapsed\n",
      "2009.09.01~2009.09.30 done, 00:00:33 elapsed\n",
      "가계부채 2009 search done, 00:00:22 elapsed\n",
      "2009.10.01~2009.10.31 done, 00:00:22 elapsed\n",
      "가계부채 2009 search done, 00:00:28 elapsed\n",
      "2009.11.01~2009.11.30 done, 00:00:28 elapsed\n",
      "가계부채 2009 search done, 00:00:24 elapsed\n",
      "2009.12.01~2009.12.31 done, 00:00:24 elapsed\n",
      "가계부채 2010 search done, 00:00:24 elapsed\n",
      "2010.01.01~2010.01.31 done, 00:00:24 elapsed\n",
      "가계부채 2010 search done, 00:00:23 elapsed\n",
      "2010.02.01~2010.02.28 done, 00:00:23 elapsed\n",
      "가계부채 2010 search done, 00:00:20 elapsed\n",
      "2010.03.01~2010.03.31 done, 00:00:20 elapsed\n",
      "가계부채 2010 search done, 00:00:20 elapsed\n",
      "2010.04.01~2010.04.30 done, 00:00:20 elapsed\n",
      "가계부채 2010 search done, 00:00:18 elapsed\n",
      "2010.05.01~2010.05.31 done, 00:00:18 elapsed\n",
      "가계부채 2010 search done, 00:00:24 elapsed\n",
      "2010.06.01~2010.06.30 done, 00:00:24 elapsed\n",
      "가계부채 2010 search done, 00:00:19 elapsed\n",
      "2010.07.01~2010.07.31 done, 00:00:19 elapsed\n",
      "가계부채 2010 search done, 00:00:20 elapsed\n",
      "2010.08.01~2010.08.31 done, 00:00:20 elapsed\n",
      "가계부채 2010 search done, 00:00:17 elapsed\n",
      "2010.09.01~2010.09.30 done, 00:00:17 elapsed\n",
      "가계부채 2010 search done, 00:00:21 elapsed\n",
      "2010.10.01~2010.10.31 done, 00:00:21 elapsed\n",
      "가계부채 2010 search done, 00:00:25 elapsed\n",
      "2010.11.01~2010.11.30 done, 00:00:25 elapsed\n",
      "가계부채 2010 search done, 00:00:17 elapsed\n",
      "2010.12.01~2010.12.31 done, 00:00:17 elapsed\n",
      "가계부채 2011 search done, 00:00:19 elapsed\n",
      "2011.01.01~2011.01.31 done, 00:00:19 elapsed\n",
      "가계부채 2011 search done, 00:00:18 elapsed\n",
      "2011.02.01~2011.02.28 done, 00:00:18 elapsed\n",
      "가계부채 2011 search done, 00:00:22 elapsed\n",
      "2011.03.01~2011.03.31 done, 00:00:22 elapsed\n",
      "가계부채 2011 search done, 00:00:20 elapsed\n",
      "2011.04.01~2011.04.30 done, 00:00:20 elapsed\n",
      "가계부채 2011 search done, 00:00:19 elapsed\n",
      "2011.05.01~2011.05.31 done, 00:00:19 elapsed\n",
      "가계부채 2011 search done, 00:00:17 elapsed\n",
      "2011.06.01~2011.06.30 done, 00:00:17 elapsed\n",
      "가계부채 2011 search done, 00:00:18 elapsed\n",
      "2011.07.01~2011.07.31 done, 00:00:18 elapsed\n",
      "가계부채 2011 search done, 00:00:26 elapsed\n",
      "2011.08.01~2011.08.31 done, 00:00:26 elapsed\n",
      "가계부채 2011 search done, 00:00:19 elapsed\n",
      "2011.09.01~2011.09.30 done, 00:00:19 elapsed\n",
      "가계부채 2011 search done, 00:00:26 elapsed\n",
      "2011.10.01~2011.10.31 done, 00:00:26 elapsed\n",
      "가계부채 2011 search done, 00:00:20 elapsed\n",
      "2011.11.01~2011.11.30 done, 00:00:20 elapsed\n",
      "가계부채 2011 search done, 00:00:17 elapsed\n",
      "2011.12.01~2011.12.31 done, 00:00:17 elapsed\n",
      "가계부채 2012 search done, 00:00:20 elapsed\n",
      "2012.01.01~2012.01.31 done, 00:00:20 elapsed\n",
      "가계부채 2012 search done, 00:00:17 elapsed\n",
      "2012.02.01~2012.02.29 done, 00:00:17 elapsed\n",
      "가계부채 2012 search done, 00:00:20 elapsed\n",
      "2012.03.01~2012.03.31 done, 00:00:20 elapsed\n",
      "가계부채 2012 search done, 00:00:18 elapsed\n",
      "2012.04.01~2012.04.30 done, 00:00:18 elapsed\n",
      "가계부채 2012 search done, 00:00:22 elapsed\n",
      "2012.05.01~2012.05.31 done, 00:00:22 elapsed\n",
      "가계부채 2012 search done, 00:00:20 elapsed\n",
      "2012.06.01~2012.06.30 done, 00:00:20 elapsed\n",
      "가계부채 2012 search done, 00:00:18 elapsed\n",
      "2012.07.01~2012.07.31 done, 00:00:18 elapsed\n",
      "가계부채 2012 search done, 00:00:20 elapsed\n",
      "2012.08.01~2012.08.31 done, 00:00:20 elapsed\n",
      "가계부채 2012 search done, 00:00:23 elapsed\n",
      "2012.09.01~2012.09.30 done, 00:00:23 elapsed\n",
      "가계부채 2012 search done, 00:00:27 elapsed\n",
      "2012.10.01~2012.10.31 done, 00:00:27 elapsed\n",
      "가계부채 2012 search done, 00:00:19 elapsed\n",
      "2012.11.01~2012.11.30 done, 00:00:19 elapsed\n",
      "가계부채 2012 search done, 00:00:22 elapsed\n",
      "2012.12.01~2012.12.31 done, 00:00:22 elapsed\n",
      "가계부채 2013 search done, 00:00:20 elapsed\n",
      "2013.01.01~2013.01.31 done, 00:00:20 elapsed\n",
      "가계부채 2013 search done, 00:00:21 elapsed\n",
      "2013.02.01~2013.02.28 done, 00:00:21 elapsed\n",
      "가계부채 2013 search done, 00:00:24 elapsed\n",
      "2013.03.01~2013.03.31 done, 00:00:24 elapsed\n",
      "가계부채 2013 search done, 00:00:19 elapsed\n",
      "2013.04.01~2013.04.30 done, 00:00:19 elapsed\n",
      "가계부채 2013 search done, 00:00:24 elapsed\n",
      "2013.05.01~2013.05.31 done, 00:00:24 elapsed\n",
      "가계부채 2013 search done, 00:00:20 elapsed\n",
      "2013.06.01~2013.06.30 done, 00:00:20 elapsed\n",
      "가계부채 2013 search done, 00:00:17 elapsed\n",
      "2013.07.01~2013.07.31 done, 00:00:17 elapsed\n",
      "가계부채 2013 search done, 00:00:20 elapsed\n",
      "2013.08.01~2013.08.31 done, 00:00:20 elapsed\n",
      "가계부채 2013 search done, 00:00:16 elapsed\n",
      "2013.09.01~2013.09.30 done, 00:00:16 elapsed\n",
      "가계부채 2013 search done, 00:00:22 elapsed\n",
      "2013.10.01~2013.10.31 done, 00:00:22 elapsed\n",
      "가계부채 2013 search done, 00:00:19 elapsed\n",
      "2013.11.01~2013.11.30 done, 00:00:19 elapsed\n",
      "가계부채 2013 search done, 00:00:19 elapsed\n",
      "2013.12.01~2013.12.31 done, 00:00:19 elapsed\n",
      "가계부채 2014 search done, 00:00:22 elapsed\n",
      "2014.01.01~2014.01.31 done, 00:00:22 elapsed\n",
      "가계부채 2014 search done, 00:00:21 elapsed\n",
      "2014.02.01~2014.02.28 done, 00:00:21 elapsed\n",
      "가계부채 2014 search done, 00:00:20 elapsed\n",
      "2014.03.01~2014.03.31 done, 00:00:20 elapsed\n",
      "가계부채 2014 search done, 00:00:15 elapsed\n",
      "2014.04.01~2014.04.30 done, 00:00:15 elapsed\n",
      "가계부채 2014 search done, 00:00:22 elapsed\n",
      "2014.05.01~2014.05.31 done, 00:00:22 elapsed\n",
      "가계부채 2014 search done, 00:00:22 elapsed\n",
      "2014.06.01~2014.06.30 done, 00:00:22 elapsed\n",
      "가계부채 2014 search done, 00:00:17 elapsed\n",
      "2014.07.01~2014.07.31 done, 00:00:17 elapsed\n",
      "가계부채 2014 search done, 00:00:17 elapsed\n",
      "2014.08.01~2014.08.31 done, 00:00:17 elapsed\n",
      "가계부채 2014 search done, 00:00:23 elapsed\n",
      "2014.09.01~2014.09.30 done, 00:00:23 elapsed\n",
      "가계부채 2014 search done, 00:00:18 elapsed\n",
      "2014.10.01~2014.10.31 done, 00:00:18 elapsed\n",
      "가계부채 2014 search done, 00:00:24 elapsed\n",
      "2014.11.01~2014.11.30 done, 00:00:24 elapsed\n",
      "가계부채 2014 search done, 00:00:22 elapsed\n",
      "2014.12.01~2014.12.31 done, 00:00:22 elapsed\n",
      "가계부채 2015 search done, 00:00:18 elapsed\n",
      "2015.01.01~2015.01.31 done, 00:00:18 elapsed\n",
      "가계부채 2015 search done, 00:00:21 elapsed\n",
      "2015.02.01~2015.02.28 done, 00:00:21 elapsed\n",
      "가계부채 2015 search done, 00:00:22 elapsed\n",
      "2015.03.01~2015.03.31 done, 00:00:22 elapsed\n",
      "가계부채 2015 search done, 00:00:18 elapsed\n",
      "2015.04.01~2015.04.30 done, 00:00:18 elapsed\n",
      "가계부채 2015 search done, 00:00:19 elapsed\n",
      "2015.05.01~2015.05.31 done, 00:00:19 elapsed\n",
      "가계부채 2015 search done, 00:00:18 elapsed\n",
      "2015.06.01~2015.06.30 done, 00:00:18 elapsed\n",
      "가계부채 2015 search done, 00:00:19 elapsed\n",
      "2015.07.01~2015.07.31 done, 00:00:19 elapsed\n",
      "가계부채 2015 search done, 00:00:20 elapsed\n",
      "2015.08.01~2015.08.31 done, 00:00:20 elapsed\n",
      "가계부채 2015 search done, 00:00:19 elapsed\n",
      "2015.09.01~2015.09.30 done, 00:00:19 elapsed\n",
      "가계부채 2015 search done, 00:00:20 elapsed\n",
      "2015.10.01~2015.10.31 done, 00:00:20 elapsed\n",
      "가계부채 2015 search done, 00:00:21 elapsed\n",
      "2015.11.01~2015.11.30 done, 00:00:21 elapsed\n",
      "가계부채 2015 search done, 00:00:21 elapsed\n",
      "2015.12.01~2015.12.31 done, 00:00:21 elapsed\n",
      "가계부채 2016 search done, 00:00:22 elapsed\n",
      "2016.01.01~2016.01.31 done, 00:00:22 elapsed\n",
      "가계부채 2016 search done, 00:00:20 elapsed\n",
      "2016.02.01~2016.02.29 done, 00:00:20 elapsed\n",
      "가계부채 2016 search done, 00:00:19 elapsed\n",
      "2016.03.01~2016.03.31 done, 00:00:19 elapsed\n",
      "가계부채 2016 search done, 00:00:18 elapsed\n",
      "2016.04.01~2016.04.30 done, 00:00:18 elapsed\n",
      "가계부채 2016 search done, 00:00:26 elapsed\n",
      "2016.05.01~2016.05.31 done, 00:00:26 elapsed\n",
      "가계부채 2016 search done, 00:00:20 elapsed\n",
      "2016.06.01~2016.06.30 done, 00:00:20 elapsed\n",
      "가계부채 2016 search done, 00:00:22 elapsed\n",
      "2016.07.01~2016.07.31 done, 00:00:22 elapsed\n",
      "가계부채 2016 search done, 00:00:19 elapsed\n",
      "2016.08.01~2016.08.31 done, 00:00:19 elapsed\n",
      "가계부채 2016 search done, 00:00:18 elapsed\n",
      "2016.09.01~2016.09.30 done, 00:00:18 elapsed\n",
      "가계부채 2016 search done, 00:00:22 elapsed\n",
      "2016.10.01~2016.10.31 done, 00:00:22 elapsed\n",
      "가계부채 2016 search done, 00:00:19 elapsed\n",
      "2016.11.01~2016.11.30 done, 00:00:19 elapsed\n",
      "가계부채 2016 search done, 00:00:17 elapsed\n",
      "2016.12.01~2016.12.31 done, 00:00:17 elapsed\n",
      "가계부채 2017 search done, 00:00:19 elapsed\n",
      "2017.01.01~2017.01.31 done, 00:00:19 elapsed\n",
      "가계부채 2017 search done, 00:00:20 elapsed\n",
      "2017.02.01~2017.02.28 done, 00:00:20 elapsed\n",
      "가계부채 2017 search done, 00:00:22 elapsed\n",
      "2017.03.01~2017.03.31 done, 00:00:22 elapsed\n",
      "가계부채 2017 search done, 00:00:18 elapsed\n",
      "2017.04.01~2017.04.30 done, 00:00:18 elapsed\n",
      "가계부채 2017 search done, 00:00:24 elapsed\n",
      "2017.05.01~2017.05.31 done, 00:00:24 elapsed\n",
      "가계부채 2017 search done, 00:00:26 elapsed\n",
      "2017.06.01~2017.06.30 done, 00:00:26 elapsed\n",
      "가계부채 2017 search done, 00:00:16 elapsed\n",
      "2017.07.01~2017.07.31 done, 00:00:16 elapsed\n",
      "가계부채 2017 search done, 00:00:21 elapsed\n",
      "2017.08.01~2017.08.31 done, 00:00:21 elapsed\n",
      "가계부채 2017 search done, 00:00:20 elapsed\n",
      "2017.09.01~2017.09.30 done, 00:00:20 elapsed\n",
      "가계부채 2017 search done, 00:00:22 elapsed\n",
      "2017.10.01~2017.10.31 done, 00:00:22 elapsed\n",
      "가계부채 2017 search done, 00:00:20 elapsed\n",
      "2017.11.01~2017.11.30 done, 00:00:20 elapsed\n",
      "가계부채 2017 search done, 00:00:20 elapsed\n",
      "2017.12.01~2017.12.31 done, 00:00:20 elapsed\n",
      "가계부채 2018 search done, 00:00:18 elapsed\n",
      "2018.01.01~2018.01.31 done, 00:00:18 elapsed\n",
      "가계부채 2018 search done, 00:00:21 elapsed\n",
      "2018.02.01~2018.02.28 done, 00:00:21 elapsed\n",
      "가계부채 2018 search done, 00:00:20 elapsed\n",
      "2018.03.01~2018.03.31 done, 00:00:20 elapsed\n",
      "가계부채 2018 search done, 00:00:19 elapsed\n",
      "2018.04.01~2018.04.30 done, 00:00:19 elapsed\n",
      "가계부채 2018 search done, 00:00:16 elapsed\n",
      "2018.05.01~2018.05.31 done, 00:00:16 elapsed\n",
      "가계부채 2018 search done, 00:00:21 elapsed\n",
      "2018.06.01~2018.06.30 done, 00:00:21 elapsed\n",
      "가계부채 2018 search done, 00:00:21 elapsed\n",
      "2018.07.01~2018.07.31 done, 00:00:21 elapsed\n",
      "가계부채 2018 search done, 00:00:20 elapsed\n",
      "2018.08.01~2018.08.31 done, 00:00:20 elapsed\n",
      "가계부채 2018 search done, 00:00:42 elapsed\n",
      "2018.09.01~2018.09.30 done, 00:00:42 elapsed\n",
      "가계부채 2018 search done, 00:00:23 elapsed\n",
      "2018.10.01~2018.10.31 done, 00:00:23 elapsed\n",
      "가계부채 2018 search done, 00:00:17 elapsed\n",
      "2018.11.01~2018.11.30 done, 00:00:17 elapsed\n",
      "가계부채 2018 search done, 00:00:20 elapsed\n",
      "2018.12.01~2018.12.31 done, 00:00:20 elapsed\n",
      "가계부채 2019 search done, 00:00:22 elapsed\n",
      "2019.01.01~2019.01.31 done, 00:00:22 elapsed\n",
      "가계부채 2019 search done, 00:00:19 elapsed\n",
      "2019.02.01~2019.02.28 done, 00:00:19 elapsed\n",
      "가계부채 2019 search done, 00:00:22 elapsed\n",
      "2019.03.01~2019.03.31 done, 00:00:22 elapsed\n",
      "Wall time: 1h 11min 20s\n"
     ]
    }
   ],
   "source": [
    "%%time\n",
    "dfs = []\n",
    "for beg, end in zip(b_rng,e_rng):\n",
    "    s = time.time()\n",
    "    dfs.append(naver_search_d('가계부채',beg,end,pages=1))\n",
    "    e = time.time() - s\n",
    "    print('{}~{} done, {} elapsed'.format(beg,end,time.strftime('%H:%M:%S',time.gmtime(e))))\n",
    "newsdf = pd.concat(dfs,axis=0)    \n",
    "# Wall time: 1h 12min 22s"
   ]
  },
  {
   "cell_type": "code",
   "execution_count": 52,
   "metadata": {},
   "outputs": [],
   "source": [
    "newsdf.to_pickle('data/newsdf_03_19.pkl')"
   ]
  },
  {
   "cell_type": "code",
   "execution_count": 2,
   "metadata": {},
   "outputs": [],
   "source": [
    "import gc"
   ]
  },
  {
   "cell_type": "code",
   "execution_count": 3,
   "metadata": {},
   "outputs": [
    {
     "data": {
      "text/plain": [
       "0"
      ]
     },
     "execution_count": 3,
     "metadata": {},
     "output_type": "execute_result"
    }
   ],
   "source": [
    "gc.collect()"
   ]
  },
  {
   "cell_type": "code",
   "execution_count": 4,
   "metadata": {},
   "outputs": [],
   "source": [
    "newsdf = pd.read_pickle('data/newsdf_03_19.pkl')"
   ]
  },
  {
   "cell_type": "code",
   "execution_count": 6,
   "metadata": {},
   "outputs": [
    {
     "data": {
      "text/plain": [
       "(2019, 5)"
      ]
     },
     "execution_count": 6,
     "metadata": {},
     "output_type": "execute_result"
    }
   ],
   "source": [
    "newsdf.shape"
   ]
  },
  {
   "cell_type": "markdown",
   "metadata": {},
   "source": [
    "#### 2.기사를 월별로 합친다"
   ]
  },
  {
   "cell_type": "code",
   "execution_count": 6,
   "metadata": {},
   "outputs": [
    {
     "data": {
      "text/html": [
       "<div>\n",
       "<style scoped>\n",
       "    .dataframe tbody tr th:only-of-type {\n",
       "        vertical-align: middle;\n",
       "    }\n",
       "\n",
       "    .dataframe tbody tr th {\n",
       "        vertical-align: top;\n",
       "    }\n",
       "\n",
       "    .dataframe thead th {\n",
       "        text-align: right;\n",
       "    }\n",
       "</style>\n",
       "<table border=\"1\" class=\"dataframe\">\n",
       "  <thead>\n",
       "    <tr style=\"text-align: right;\">\n",
       "      <th></th>\n",
       "      <th>ym</th>\n",
       "      <th>qry</th>\n",
       "      <th>date</th>\n",
       "      <th>title</th>\n",
       "      <th>text</th>\n",
       "    </tr>\n",
       "  </thead>\n",
       "  <tbody>\n",
       "    <tr>\n",
       "      <th>0</th>\n",
       "      <td>200201</td>\n",
       "      <td>가계부채</td>\n",
       "      <td>None</td>\n",
       "      <td>\"가계부채 과도한 증가는 `금융불안' 초래\"&lt;금융연&gt;</td>\n",
       "      <td>`신용카드 부실이 도화선'(서울=연합뉴스) 한승호기자 = 가계부채의 과도한 증가는 ...</td>\n",
       "    </tr>\n",
       "    <tr>\n",
       "      <th>1</th>\n",
       "      <td>200201</td>\n",
       "      <td>가계부채</td>\n",
       "      <td>None</td>\n",
       "      <td>금융연구원, 31일 가계부채 세미나 개최</td>\n",
       "      <td>머니투데이\\n\\n[머니투데이] 한국금융연구원(KIF)은 오는 31일 오후 2시 은행...</td>\n",
       "    </tr>\n",
       "    <tr>\n",
       "      <th>2</th>\n",
       "      <td>200201</td>\n",
       "      <td>가계부채</td>\n",
       "      <td>None</td>\n",
       "      <td>선진국 가계.기업 모두 빚더미</td>\n",
       "      <td>= '절약국가 일본' 옛말 가계 부채 세계최고 =\\n\\n\\n\\n미국은 물론 영국, ...</td>\n",
       "    </tr>\n",
       "  </tbody>\n",
       "</table>\n",
       "</div>"
      ],
      "text/plain": [
       "       ym   qry  date                          title  \\\n",
       "0  200201  가계부채  None  \"가계부채 과도한 증가는 `금융불안' 초래\"<금융연>   \n",
       "1  200201  가계부채  None         금융연구원, 31일 가계부채 세미나 개최   \n",
       "2  200201  가계부채  None               선진국 가계.기업 모두 빚더미   \n",
       "\n",
       "                                                text  \n",
       "0  `신용카드 부실이 도화선'(서울=연합뉴스) 한승호기자 = 가계부채의 과도한 증가는 ...  \n",
       "1  머니투데이\\n\\n[머니투데이] 한국금융연구원(KIF)은 오는 31일 오후 2시 은행...  \n",
       "2  = '절약국가 일본' 옛말 가계 부채 세계최고 =\\n\\n\\n\\n미국은 물론 영국, ...  "
      ]
     },
     "execution_count": 6,
     "metadata": {},
     "output_type": "execute_result"
    }
   ],
   "source": [
    "newsdf.head(3)"
   ]
  },
  {
   "cell_type": "code",
   "execution_count": 7,
   "metadata": {},
   "outputs": [],
   "source": [
    "title = newsdf.groupby(['ym','qry'])['title'].apply(lambda x: x.sum())"
   ]
  },
  {
   "cell_type": "code",
   "execution_count": 8,
   "metadata": {},
   "outputs": [],
   "source": [
    "text = newsdf.groupby(['ym','qry'])['text'].apply(lambda x: x.sum())"
   ]
  },
  {
   "cell_type": "code",
   "execution_count": 15,
   "metadata": {},
   "outputs": [],
   "source": [
    "ndf = pd.concat([title,text],axis=1).reset_index()"
   ]
  },
  {
   "cell_type": "code",
   "execution_count": 16,
   "metadata": {},
   "outputs": [
    {
     "data": {
      "text/html": [
       "<div>\n",
       "<style scoped>\n",
       "    .dataframe tbody tr th:only-of-type {\n",
       "        vertical-align: middle;\n",
       "    }\n",
       "\n",
       "    .dataframe tbody tr th {\n",
       "        vertical-align: top;\n",
       "    }\n",
       "\n",
       "    .dataframe thead th {\n",
       "        text-align: right;\n",
       "    }\n",
       "</style>\n",
       "<table border=\"1\" class=\"dataframe\">\n",
       "  <thead>\n",
       "    <tr style=\"text-align: right;\">\n",
       "      <th></th>\n",
       "      <th>ym</th>\n",
       "      <th>qry</th>\n",
       "      <th>title</th>\n",
       "      <th>text</th>\n",
       "    </tr>\n",
       "  </thead>\n",
       "  <tbody>\n",
       "    <tr>\n",
       "      <th>0</th>\n",
       "      <td>200201</td>\n",
       "      <td>가계부채</td>\n",
       "      <td>\"가계부채 과도한 증가는 `금융불안' 초래\"&lt;금융연&gt;금융연구원, 31일 가계부채 세...</td>\n",
       "      <td>`신용카드 부실이 도화선'(서울=연합뉴스) 한승호기자 = 가계부채의 과도한 증가는 ...</td>\n",
       "    </tr>\n",
       "    <tr>\n",
       "      <th>1</th>\n",
       "      <td>200202</td>\n",
       "      <td>가계부채</td>\n",
       "      <td>가계부채 335조 ‘사상 최고’…4년만에 배 가까이 증가\"가계부채 우려는 과장......</td>\n",
       "      <td>지난해 말 현재 가계부채가 330조원을 넘어 사상 최고를 기록했다.이에따라 가구당 ...</td>\n",
       "    </tr>\n",
       "    <tr>\n",
       "      <th>2</th>\n",
       "      <td>200203</td>\n",
       "      <td>가계부채</td>\n",
       "      <td>가계부채증가 우려할 만한 수준인가?가계부채 위험수위윤 재경차관 \"가계부채 증가속도 ...</td>\n",
       "      <td>1. 송인호 기자, 최근 가계부채증가 속도에 대한 우려의 목소리가 높습니다...외국...</td>\n",
       "    </tr>\n",
       "    <tr>\n",
       "      <th>3</th>\n",
       "      <td>200204</td>\n",
       "      <td>가계부채</td>\n",
       "      <td>가계부채 GDP의 64% 달해…KDI\"과다한 가계부채 주의 필요\"&lt;전경련 원로.자문...</td>\n",
       "      <td>가계부문 금융부채가 국내총생산(GDP)에서 차지하는 비중이 지난해 64.8%를 기록...</td>\n",
       "    </tr>\n",
       "    <tr>\n",
       "      <th>4</th>\n",
       "      <td>200205</td>\n",
       "      <td>가계부채</td>\n",
       "      <td>산업은행, 올 경제성장률 6.2%로 상향 전망\"한국 월드컵 선전하면 증시 상승\"-F...</td>\n",
       "      <td>미경제 둔화, 환율하락 등 경제불안요인 상존(서울=연합뉴스) 한승호기자 = 산업은행...</td>\n",
       "    </tr>\n",
       "  </tbody>\n",
       "</table>\n",
       "</div>"
      ],
      "text/plain": [
       "       ym   qry                                              title  \\\n",
       "0  200201  가계부채  \"가계부채 과도한 증가는 `금융불안' 초래\"<금융연>금융연구원, 31일 가계부채 세...   \n",
       "1  200202  가계부채  가계부채 335조 ‘사상 최고’…4년만에 배 가까이 증가\"가계부채 우려는 과장......   \n",
       "2  200203  가계부채  가계부채증가 우려할 만한 수준인가?가계부채 위험수위윤 재경차관 \"가계부채 증가속도 ...   \n",
       "3  200204  가계부채  가계부채 GDP의 64% 달해…KDI\"과다한 가계부채 주의 필요\"<전경련 원로.자문...   \n",
       "4  200205  가계부채  산업은행, 올 경제성장률 6.2%로 상향 전망\"한국 월드컵 선전하면 증시 상승\"-F...   \n",
       "\n",
       "                                                text  \n",
       "0  `신용카드 부실이 도화선'(서울=연합뉴스) 한승호기자 = 가계부채의 과도한 증가는 ...  \n",
       "1  지난해 말 현재 가계부채가 330조원을 넘어 사상 최고를 기록했다.이에따라 가구당 ...  \n",
       "2  1. 송인호 기자, 최근 가계부채증가 속도에 대한 우려의 목소리가 높습니다...외국...  \n",
       "3  가계부문 금융부채가 국내총생산(GDP)에서 차지하는 비중이 지난해 64.8%를 기록...  \n",
       "4  미경제 둔화, 환율하락 등 경제불안요인 상존(서울=연합뉴스) 한승호기자 = 산업은행...  "
      ]
     },
     "execution_count": 16,
     "metadata": {},
     "output_type": "execute_result"
    }
   ],
   "source": [
    "ndf.head()"
   ]
  },
  {
   "cell_type": "code",
   "execution_count": 17,
   "metadata": {},
   "outputs": [],
   "source": [
    "ndf.to_pickle('data/ndf.pkl')"
   ]
  },
  {
   "cell_type": "code",
   "execution_count": 18,
   "metadata": {},
   "outputs": [],
   "source": [
    "del newsdf"
   ]
  },
  {
   "cell_type": "markdown",
   "metadata": {},
   "source": [
    "#### 3.월별 기사를 tokenize 한다"
   ]
  },
  {
   "cell_type": "code",
   "execution_count": 4,
   "metadata": {},
   "outputs": [],
   "source": [
    "ndf = pd.read_pickle('data/ndf.pkl')"
   ]
  },
  {
   "cell_type": "code",
   "execution_count": 5,
   "metadata": {},
   "outputs": [
    {
     "data": {
      "text/html": [
       "<div>\n",
       "<style scoped>\n",
       "    .dataframe tbody tr th:only-of-type {\n",
       "        vertical-align: middle;\n",
       "    }\n",
       "\n",
       "    .dataframe tbody tr th {\n",
       "        vertical-align: top;\n",
       "    }\n",
       "\n",
       "    .dataframe thead th {\n",
       "        text-align: right;\n",
       "    }\n",
       "</style>\n",
       "<table border=\"1\" class=\"dataframe\">\n",
       "  <thead>\n",
       "    <tr style=\"text-align: right;\">\n",
       "      <th></th>\n",
       "      <th>ym</th>\n",
       "      <th>qry</th>\n",
       "      <th>title</th>\n",
       "      <th>text</th>\n",
       "    </tr>\n",
       "  </thead>\n",
       "  <tbody>\n",
       "    <tr>\n",
       "      <th>0</th>\n",
       "      <td>200201</td>\n",
       "      <td>가계부채</td>\n",
       "      <td>\"가계부채 과도한 증가는 `금융불안' 초래\"&lt;금융연&gt;금융연구원, 31일 가계부채 세...</td>\n",
       "      <td>`신용카드 부실이 도화선'(서울=연합뉴스) 한승호기자 = 가계부채의 과도한 증가는 ...</td>\n",
       "    </tr>\n",
       "    <tr>\n",
       "      <th>1</th>\n",
       "      <td>200202</td>\n",
       "      <td>가계부채</td>\n",
       "      <td>가계부채 335조 ‘사상 최고’…4년만에 배 가까이 증가\"가계부채 우려는 과장......</td>\n",
       "      <td>지난해 말 현재 가계부채가 330조원을 넘어 사상 최고를 기록했다.이에따라 가구당 ...</td>\n",
       "    </tr>\n",
       "    <tr>\n",
       "      <th>2</th>\n",
       "      <td>200203</td>\n",
       "      <td>가계부채</td>\n",
       "      <td>가계부채증가 우려할 만한 수준인가?가계부채 위험수위윤 재경차관 \"가계부채 증가속도 ...</td>\n",
       "      <td>1. 송인호 기자, 최근 가계부채증가 속도에 대한 우려의 목소리가 높습니다...외국...</td>\n",
       "    </tr>\n",
       "  </tbody>\n",
       "</table>\n",
       "</div>"
      ],
      "text/plain": [
       "       ym   qry                                              title  \\\n",
       "0  200201  가계부채  \"가계부채 과도한 증가는 `금융불안' 초래\"<금융연>금융연구원, 31일 가계부채 세...   \n",
       "1  200202  가계부채  가계부채 335조 ‘사상 최고’…4년만에 배 가까이 증가\"가계부채 우려는 과장......   \n",
       "2  200203  가계부채  가계부채증가 우려할 만한 수준인가?가계부채 위험수위윤 재경차관 \"가계부채 증가속도 ...   \n",
       "\n",
       "                                                text  \n",
       "0  `신용카드 부실이 도화선'(서울=연합뉴스) 한승호기자 = 가계부채의 과도한 증가는 ...  \n",
       "1  지난해 말 현재 가계부채가 330조원을 넘어 사상 최고를 기록했다.이에따라 가구당 ...  \n",
       "2  1. 송인호 기자, 최근 가계부채증가 속도에 대한 우려의 목소리가 높습니다...외국...  "
      ]
     },
     "execution_count": 5,
     "metadata": {},
     "output_type": "execute_result"
    }
   ],
   "source": [
    "ndf.head(3)"
   ]
  },
  {
   "cell_type": "markdown",
   "metadata": {},
   "source": [
    "tok_p: Adjective, Adverb, Noun 인것만 꺼낸다"
   ]
  },
  {
   "cell_type": "code",
   "execution_count": 62,
   "metadata": {},
   "outputs": [],
   "source": [
    "pos_list = ['Adjective','Adverb','Noun']\n",
    "tok_p = lambda doc: ['/'.join(t) for t in okt.pos(doc) if t[1] in pos_list] # okt.pos(doc): (사스, Noun), 이거 사스/Noun"
   ]
  },
  {
   "cell_type": "code",
   "execution_count": 77,
   "metadata": {},
   "outputs": [
    {
     "name": "stdout",
     "output_type": "stream",
     "text": [
      "title tokenize complete, 00:00:05 elapsed\n",
      "text tokenize complete, 00:06:09 elapsed\n"
     ]
    }
   ],
   "source": [
    "s = time.time()\n",
    "ndf['tok_tit'] = ndf.title.apply(tok_p)\n",
    "e = time.time()-s\n",
    "print('title tokenize complete, {} elapsed'.format(time.strftime('%H:%M:%S',time.gmtime(e))))\n",
    "ndf['tok_txt'] = ndf.text.apply(tok_p)\n",
    "e = time.time()-s\n",
    "print('text tokenize complete, {} elapsed'.format(time.strftime('%H:%M:%S',time.gmtime(e))))"
   ]
  },
  {
   "cell_type": "code",
   "execution_count": 78,
   "metadata": {},
   "outputs": [],
   "source": [
    "ndf.to_pickle('data/ndf_tok.pkl')"
   ]
  },
  {
   "cell_type": "code",
   "execution_count": 8,
   "metadata": {},
   "outputs": [
    {
     "data": {
      "text/html": [
       "<div>\n",
       "<style scoped>\n",
       "    .dataframe tbody tr th:only-of-type {\n",
       "        vertical-align: middle;\n",
       "    }\n",
       "\n",
       "    .dataframe tbody tr th {\n",
       "        vertical-align: top;\n",
       "    }\n",
       "\n",
       "    .dataframe thead th {\n",
       "        text-align: right;\n",
       "    }\n",
       "</style>\n",
       "<table border=\"1\" class=\"dataframe\">\n",
       "  <thead>\n",
       "    <tr style=\"text-align: right;\">\n",
       "      <th></th>\n",
       "      <th>ym</th>\n",
       "      <th>qry</th>\n",
       "      <th>title</th>\n",
       "      <th>text</th>\n",
       "      <th>tok_tit</th>\n",
       "      <th>tok_txt</th>\n",
       "    </tr>\n",
       "  </thead>\n",
       "  <tbody>\n",
       "    <tr>\n",
       "      <th>0</th>\n",
       "      <td>200201</td>\n",
       "      <td>가계부채</td>\n",
       "      <td>\"가계부채 과도한 증가는 `금융불안' 초래\"&lt;금융연&gt;금융연구원, 31일 가계부채 세...</td>\n",
       "      <td>`신용카드 부실이 도화선'(서울=연합뉴스) 한승호기자 = 가계부채의 과도한 증가는 ...</td>\n",
       "      <td>[\"/Punctuation, 가계부채/Noun, 과도/Noun, 한/Josa, 증가...</td>\n",
       "      <td>[`/Punctuation, 신용카드/Noun, 부실/Noun, 이/Josa, 도화...</td>\n",
       "    </tr>\n",
       "    <tr>\n",
       "      <th>1</th>\n",
       "      <td>200202</td>\n",
       "      <td>가계부채</td>\n",
       "      <td>가계부채 335조 ‘사상 최고’…4년만에 배 가까이 증가\"가계부채 우려는 과장......</td>\n",
       "      <td>지난해 말 현재 가계부채가 330조원을 넘어 사상 최고를 기록했다.이에따라 가구당 ...</td>\n",
       "      <td>[가계부채/Noun, 335조/Number, ‘/Foreign, 사상/Noun, 최...</td>\n",
       "      <td>[지난해/Noun, 말/Noun, 현재/Noun, 가계부채/Noun, 가/Josa,...</td>\n",
       "    </tr>\n",
       "    <tr>\n",
       "      <th>2</th>\n",
       "      <td>200203</td>\n",
       "      <td>가계부채</td>\n",
       "      <td>가계부채증가 우려할 만한 수준인가?가계부채 위험수위윤 재경차관 \"가계부채 증가속도 ...</td>\n",
       "      <td>1. 송인호 기자, 최근 가계부채증가 속도에 대한 우려의 목소리가 높습니다...외국...</td>\n",
       "      <td>[가계부채/Noun, 증가/Noun, 우려/Noun, 할/Verb, 만/Noun, ...</td>\n",
       "      <td>[1/Number, ./Punctuation, 송인/Noun, 호/Noun, 기자/...</td>\n",
       "    </tr>\n",
       "    <tr>\n",
       "      <th>3</th>\n",
       "      <td>200204</td>\n",
       "      <td>가계부채</td>\n",
       "      <td>가계부채 GDP의 64% 달해…KDI\"과다한 가계부채 주의 필요\"&lt;전경련 원로.자문...</td>\n",
       "      <td>가계부문 금융부채가 국내총생산(GDP)에서 차지하는 비중이 지난해 64.8%를 기록...</td>\n",
       "      <td>[가계부채/Noun, GDP/Alpha, 의/Noun, 64%/Number, 달해/...</td>\n",
       "      <td>[가계/Noun, 부문/Noun, 금융/Noun, 부채/Noun, 가/Josa, 국...</td>\n",
       "    </tr>\n",
       "    <tr>\n",
       "      <th>4</th>\n",
       "      <td>200205</td>\n",
       "      <td>가계부채</td>\n",
       "      <td>산업은행, 올 경제성장률 6.2%로 상향 전망\"한국 월드컵 선전하면 증시 상승\"-F...</td>\n",
       "      <td>미경제 둔화, 환율하락 등 경제불안요인 상존(서울=연합뉴스) 한승호기자 = 산업은행...</td>\n",
       "      <td>[산업/Noun, 은행/Noun, ,/Punctuation, 올/Verb, 경제성장...</td>\n",
       "      <td>[미경/Noun, 제/Noun, 둔화/Noun, ,/Punctuation, 환율/N...</td>\n",
       "    </tr>\n",
       "  </tbody>\n",
       "</table>\n",
       "</div>"
      ],
      "text/plain": [
       "       ym   qry                                              title  \\\n",
       "0  200201  가계부채  \"가계부채 과도한 증가는 `금융불안' 초래\"<금융연>금융연구원, 31일 가계부채 세...   \n",
       "1  200202  가계부채  가계부채 335조 ‘사상 최고’…4년만에 배 가까이 증가\"가계부채 우려는 과장......   \n",
       "2  200203  가계부채  가계부채증가 우려할 만한 수준인가?가계부채 위험수위윤 재경차관 \"가계부채 증가속도 ...   \n",
       "3  200204  가계부채  가계부채 GDP의 64% 달해…KDI\"과다한 가계부채 주의 필요\"<전경련 원로.자문...   \n",
       "4  200205  가계부채  산업은행, 올 경제성장률 6.2%로 상향 전망\"한국 월드컵 선전하면 증시 상승\"-F...   \n",
       "\n",
       "                                                text  \\\n",
       "0  `신용카드 부실이 도화선'(서울=연합뉴스) 한승호기자 = 가계부채의 과도한 증가는 ...   \n",
       "1  지난해 말 현재 가계부채가 330조원을 넘어 사상 최고를 기록했다.이에따라 가구당 ...   \n",
       "2  1. 송인호 기자, 최근 가계부채증가 속도에 대한 우려의 목소리가 높습니다...외국...   \n",
       "3  가계부문 금융부채가 국내총생산(GDP)에서 차지하는 비중이 지난해 64.8%를 기록...   \n",
       "4  미경제 둔화, 환율하락 등 경제불안요인 상존(서울=연합뉴스) 한승호기자 = 산업은행...   \n",
       "\n",
       "                                             tok_tit  \\\n",
       "0  [\"/Punctuation, 가계부채/Noun, 과도/Noun, 한/Josa, 증가...   \n",
       "1  [가계부채/Noun, 335조/Number, ‘/Foreign, 사상/Noun, 최...   \n",
       "2  [가계부채/Noun, 증가/Noun, 우려/Noun, 할/Verb, 만/Noun, ...   \n",
       "3  [가계부채/Noun, GDP/Alpha, 의/Noun, 64%/Number, 달해/...   \n",
       "4  [산업/Noun, 은행/Noun, ,/Punctuation, 올/Verb, 경제성장...   \n",
       "\n",
       "                                             tok_txt  \n",
       "0  [`/Punctuation, 신용카드/Noun, 부실/Noun, 이/Josa, 도화...  \n",
       "1  [지난해/Noun, 말/Noun, 현재/Noun, 가계부채/Noun, 가/Josa,...  \n",
       "2  [1/Number, ./Punctuation, 송인/Noun, 호/Noun, 기자/...  \n",
       "3  [가계/Noun, 부문/Noun, 금융/Noun, 부채/Noun, 가/Josa, 국...  \n",
       "4  [미경/Noun, 제/Noun, 둔화/Noun, ,/Punctuation, 환율/N...  "
      ]
     },
     "execution_count": 8,
     "metadata": {},
     "output_type": "execute_result"
    }
   ],
   "source": [
    "ndf.head()"
   ]
  },
  {
   "cell_type": "code",
   "execution_count": 12,
   "metadata": {},
   "outputs": [],
   "source": [
    "tt = ndf.tok_tit.sum()"
   ]
  },
  {
   "cell_type": "code",
   "execution_count": 39,
   "metadata": {},
   "outputs": [],
   "source": [
    "m = []\n",
    "p = []\n",
    "for t in tt:\n",
    "    m.append(t.split('/')[0])\n",
    "    p.append(t.split('/')[1])"
   ]
  },
  {
   "cell_type": "code",
   "execution_count": 40,
   "metadata": {},
   "outputs": [],
   "source": [
    "mp = pd.DataFrame({'pos':p,'morph':m})"
   ]
  },
  {
   "cell_type": "code",
   "execution_count": 41,
   "metadata": {},
   "outputs": [
    {
     "data": {
      "text/html": [
       "<div>\n",
       "<style scoped>\n",
       "    .dataframe tbody tr th:only-of-type {\n",
       "        vertical-align: middle;\n",
       "    }\n",
       "\n",
       "    .dataframe tbody tr th {\n",
       "        vertical-align: top;\n",
       "    }\n",
       "\n",
       "    .dataframe thead th {\n",
       "        text-align: right;\n",
       "    }\n",
       "</style>\n",
       "<table border=\"1\" class=\"dataframe\">\n",
       "  <thead>\n",
       "    <tr style=\"text-align: right;\">\n",
       "      <th></th>\n",
       "      <th>pos</th>\n",
       "      <th>morph</th>\n",
       "    </tr>\n",
       "  </thead>\n",
       "  <tbody>\n",
       "    <tr>\n",
       "      <th>0</th>\n",
       "      <td>Punctuation</td>\n",
       "      <td>\"</td>\n",
       "    </tr>\n",
       "    <tr>\n",
       "      <th>1</th>\n",
       "      <td>Noun</td>\n",
       "      <td>가계부채</td>\n",
       "    </tr>\n",
       "    <tr>\n",
       "      <th>2</th>\n",
       "      <td>Noun</td>\n",
       "      <td>과도</td>\n",
       "    </tr>\n",
       "    <tr>\n",
       "      <th>3</th>\n",
       "      <td>Josa</td>\n",
       "      <td>한</td>\n",
       "    </tr>\n",
       "    <tr>\n",
       "      <th>4</th>\n",
       "      <td>Noun</td>\n",
       "      <td>증가</td>\n",
       "    </tr>\n",
       "  </tbody>\n",
       "</table>\n",
       "</div>"
      ],
      "text/plain": [
       "           pos morph\n",
       "0  Punctuation     \"\n",
       "1         Noun  가계부채\n",
       "2         Noun    과도\n",
       "3         Josa     한\n",
       "4         Noun    증가"
      ]
     },
     "execution_count": 41,
     "metadata": {},
     "output_type": "execute_result"
    }
   ],
   "source": [
    "mp.head()"
   ]
  },
  {
   "cell_type": "code",
   "execution_count": 31,
   "metadata": {},
   "outputs": [],
   "source": [
    "pos = set([t.split('/')[1] for t in tt])\n",
    "pos = list(pos)"
   ]
  },
  {
   "cell_type": "code",
   "execution_count": 33,
   "metadata": {},
   "outputs": [],
   "source": [
    "del pos[1]"
   ]
  },
  {
   "cell_type": "code",
   "execution_count": 35,
   "metadata": {},
   "outputs": [],
   "source": [
    "del pos[4]"
   ]
  },
  {
   "cell_type": "code",
   "execution_count": 36,
   "metadata": {},
   "outputs": [
    {
     "data": {
      "text/plain": [
       "['VerbPrefix',\n",
       " 'Verb',\n",
       " 'Josa',\n",
       " 'Number',\n",
       " 'URL',\n",
       " 'Adverb',\n",
       " 'Punctuation',\n",
       " 'Modifier',\n",
       " 'Adjective',\n",
       " 'Conjunction',\n",
       " 'Exclamation',\n",
       " 'Eomi',\n",
       " 'Determiner',\n",
       " 'Foreign',\n",
       " 'Suffix',\n",
       " 'Noun',\n",
       " 'Alpha']"
      ]
     },
     "execution_count": 36,
     "metadata": {},
     "output_type": "execute_result"
    }
   ],
   "source": [
    "pos"
   ]
  },
  {
   "cell_type": "code",
   "execution_count": 48,
   "metadata": {},
   "outputs": [
    {
     "data": {
      "text/plain": [
       "Index(['pos', 'morph'], dtype='object')"
      ]
     },
     "execution_count": 48,
     "metadata": {},
     "output_type": "execute_result"
    }
   ],
   "source": [
    "mp.columns"
   ]
  },
  {
   "cell_type": "code",
   "execution_count": 61,
   "metadata": {},
   "outputs": [
    {
     "data": {
      "text/plain": [
       "False"
      ]
     },
     "execution_count": 61,
     "metadata": {},
     "output_type": "execute_result"
    }
   ],
   "source": [
    "1!=1"
   ]
  },
  {
   "cell_type": "code",
   "execution_count": 60,
   "metadata": {},
   "outputs": [
    {
     "data": {
      "text/html": [
       "<div>\n",
       "<style scoped>\n",
       "    .dataframe tbody tr th:only-of-type {\n",
       "        vertical-align: middle;\n",
       "    }\n",
       "\n",
       "    .dataframe tbody tr th {\n",
       "        vertical-align: top;\n",
       "    }\n",
       "\n",
       "    .dataframe thead th {\n",
       "        text-align: right;\n",
       "    }\n",
       "</style>\n",
       "<table border=\"1\" class=\"dataframe\">\n",
       "  <thead>\n",
       "    <tr style=\"text-align: right;\">\n",
       "      <th></th>\n",
       "      <th></th>\n",
       "      <th>pos</th>\n",
       "      <th>morph</th>\n",
       "    </tr>\n",
       "    <tr>\n",
       "      <th>pos</th>\n",
       "      <th></th>\n",
       "      <th></th>\n",
       "      <th></th>\n",
       "    </tr>\n",
       "  </thead>\n",
       "  <tbody>\n",
       "    <tr>\n",
       "      <th></th>\n",
       "      <th>9082</th>\n",
       "      <td></td>\n",
       "      <td></td>\n",
       "    </tr>\n",
       "    <tr>\n",
       "      <th>4분</th>\n",
       "      <th>4402</th>\n",
       "      <td>4분</td>\n",
       "      <td>2</td>\n",
       "    </tr>\n",
       "    <tr>\n",
       "      <th>Adjective</th>\n",
       "      <th>18872</th>\n",
       "      <td>Adjective</td>\n",
       "      <td>성한</td>\n",
       "    </tr>\n",
       "    <tr>\n",
       "      <th>Adverb</th>\n",
       "      <th>6830</th>\n",
       "      <td>Adverb</td>\n",
       "      <td>함께</td>\n",
       "    </tr>\n",
       "    <tr>\n",
       "      <th>Alpha</th>\n",
       "      <th>427</th>\n",
       "      <td>Alpha</td>\n",
       "      <td>FT</td>\n",
       "    </tr>\n",
       "    <tr>\n",
       "      <th>Conjunction</th>\n",
       "      <th>16478</th>\n",
       "      <td>Conjunction</td>\n",
       "      <td>그리고</td>\n",
       "    </tr>\n",
       "    <tr>\n",
       "      <th>Determiner</th>\n",
       "      <th>13942</th>\n",
       "      <td>Determiner</td>\n",
       "      <td>한</td>\n",
       "    </tr>\n",
       "    <tr>\n",
       "      <th>Eomi</th>\n",
       "      <th>6604</th>\n",
       "      <td>Eomi</td>\n",
       "      <td>는다</td>\n",
       "    </tr>\n",
       "    <tr>\n",
       "      <th>Exclamation</th>\n",
       "      <th>5294</th>\n",
       "      <td>Exclamation</td>\n",
       "      <td>어휴</td>\n",
       "    </tr>\n",
       "    <tr>\n",
       "      <th>Foreign</th>\n",
       "      <th>3741</th>\n",
       "      <td>Foreign</td>\n",
       "      <td>”</td>\n",
       "    </tr>\n",
       "    <tr>\n",
       "      <th>Josa</th>\n",
       "      <th>16543</th>\n",
       "      <td>Josa</td>\n",
       "      <td>로</td>\n",
       "    </tr>\n",
       "    <tr>\n",
       "      <th>Modifier</th>\n",
       "      <th>16299</th>\n",
       "      <td>Modifier</td>\n",
       "      <td>둬</td>\n",
       "    </tr>\n",
       "    <tr>\n",
       "      <th>Noun</th>\n",
       "      <th>15475</th>\n",
       "      <td>Noun</td>\n",
       "      <td>비율</td>\n",
       "    </tr>\n",
       "    <tr>\n",
       "      <th>Number</th>\n",
       "      <th>2404</th>\n",
       "      <td>Number</td>\n",
       "      <td>3.4분</td>\n",
       "    </tr>\n",
       "    <tr>\n",
       "      <th>Punctuation</th>\n",
       "      <th>8592</th>\n",
       "      <td>Punctuation</td>\n",
       "      <td>]</td>\n",
       "    </tr>\n",
       "    <tr>\n",
       "      <th>Suffix</th>\n",
       "      <th>1852</th>\n",
       "      <td>Suffix</td>\n",
       "      <td>당</td>\n",
       "    </tr>\n",
       "    <tr>\n",
       "      <th>URL</th>\n",
       "      <th>13967</th>\n",
       "      <td>URL</td>\n",
       "      <td>상tf.co.kr</td>\n",
       "    </tr>\n",
       "    <tr>\n",
       "      <th>Verb</th>\n",
       "      <th>6745</th>\n",
       "      <td>Verb</td>\n",
       "      <td>올릴까</td>\n",
       "    </tr>\n",
       "    <tr>\n",
       "      <th>VerbPrefix</th>\n",
       "      <th>17120</th>\n",
       "      <td>VerbPrefix</td>\n",
       "      <td>엇</td>\n",
       "    </tr>\n",
       "  </tbody>\n",
       "</table>\n",
       "</div>"
      ],
      "text/plain": [
       "                           pos      morph\n",
       "pos                                      \n",
       "            9082                         \n",
       "4분          4402            4분          2\n",
       "Adjective   18872    Adjective         성한\n",
       "Adverb      6830        Adverb         함께\n",
       "Alpha       427          Alpha         FT\n",
       "Conjunction 16478  Conjunction        그리고\n",
       "Determiner  13942   Determiner          한\n",
       "Eomi        6604          Eomi         는다\n",
       "Exclamation 5294   Exclamation         어휴\n",
       "Foreign     3741       Foreign          ”\n",
       "Josa        16543         Josa          로\n",
       "Modifier    16299     Modifier          둬\n",
       "Noun        15475         Noun         비율\n",
       "Number      2404        Number       3.4분\n",
       "Punctuation 8592   Punctuation          ]\n",
       "Suffix      1852        Suffix          당\n",
       "URL         13967          URL  상tf.co.kr\n",
       "Verb        6745          Verb        올릴까\n",
       "VerbPrefix  17120   VerbPrefix          엇"
      ]
     },
     "execution_count": 60,
     "metadata": {},
     "output_type": "execute_result"
    }
   ],
   "source": [
    "mp.groupby('pos').apply(lambda x: x.sample(1))\n",
    "# Adjective, Adverb, Noun 형용사,부사,명사만 가지고 토크나이즈 한다 ==> 위쪽 코드 중 tok_p 수정 "
   ]
  },
  {
   "cell_type": "markdown",
   "metadata": {},
   "source": [
    "#### 4.월별 기사를 doc2vec 한다"
   ]
  },
  {
   "cell_type": "code",
   "execution_count": 79,
   "metadata": {},
   "outputs": [],
   "source": [
    "ndf = pd.read_pickle('data/ndf_tok.pkl')"
   ]
  },
  {
   "cell_type": "markdown",
   "metadata": {},
   "source": [
    "doc2vec용으로 가공(TaggedDocument)  \n",
    "&nbsp;TaggedDocument에서 tags는 words그룹의 식별자 역할을 한다  \n",
    "&nbsp;$example:$ TaggedDocuments(words=['had','bankruptcy','year'],tags=['Credit Report'])"
   ]
  },
  {
   "cell_type": "code",
   "execution_count": null,
   "metadata": {},
   "outputs": [],
   "source": [
    "tok_p = lambda doc: ['/'.join(t) for t in okt.pos(doc) if t[1] in pos_list]"
   ]
  },
  {
   "cell_type": "code",
   "execution_count": 81,
   "metadata": {},
   "outputs": [
    {
     "data": {
      "text/html": [
       "<div>\n",
       "<style scoped>\n",
       "    .dataframe tbody tr th:only-of-type {\n",
       "        vertical-align: middle;\n",
       "    }\n",
       "\n",
       "    .dataframe tbody tr th {\n",
       "        vertical-align: top;\n",
       "    }\n",
       "\n",
       "    .dataframe thead th {\n",
       "        text-align: right;\n",
       "    }\n",
       "</style>\n",
       "<table border=\"1\" class=\"dataframe\">\n",
       "  <thead>\n",
       "    <tr style=\"text-align: right;\">\n",
       "      <th></th>\n",
       "      <th>ym</th>\n",
       "      <th>qry</th>\n",
       "      <th>title</th>\n",
       "      <th>text</th>\n",
       "      <th>tok_tit</th>\n",
       "      <th>tok_txt</th>\n",
       "    </tr>\n",
       "  </thead>\n",
       "  <tbody>\n",
       "    <tr>\n",
       "      <th>0</th>\n",
       "      <td>200201</td>\n",
       "      <td>가계부채</td>\n",
       "      <td>\"가계부채 과도한 증가는 `금융불안' 초래\"&lt;금융연&gt;금융연구원, 31일 가계부채 세...</td>\n",
       "      <td>`신용카드 부실이 도화선'(서울=연합뉴스) 한승호기자 = 가계부채의 과도한 증가는 ...</td>\n",
       "      <td>[가계부채/Noun, 과도/Noun, 증가/Noun, 금융/Noun, 불안/Noun...</td>\n",
       "      <td>[신용카드/Noun, 부실/Noun, 도화선/Noun, 서울/Noun, 연합뉴스/N...</td>\n",
       "    </tr>\n",
       "    <tr>\n",
       "      <th>1</th>\n",
       "      <td>200202</td>\n",
       "      <td>가계부채</td>\n",
       "      <td>가계부채 335조 ‘사상 최고’…4년만에 배 가까이 증가\"가계부채 우려는 과장......</td>\n",
       "      <td>지난해 말 현재 가계부채가 330조원을 넘어 사상 최고를 기록했다.이에따라 가구당 ...</td>\n",
       "      <td>[가계부채/Noun, 사상/Noun, 최고/Noun, 배/Noun, 가까이/Noun...</td>\n",
       "      <td>[지난해/Noun, 말/Noun, 현재/Noun, 가계부채/Noun, 사상/Noun...</td>\n",
       "    </tr>\n",
       "    <tr>\n",
       "      <th>2</th>\n",
       "      <td>200203</td>\n",
       "      <td>가계부채</td>\n",
       "      <td>가계부채증가 우려할 만한 수준인가?가계부채 위험수위윤 재경차관 \"가계부채 증가속도 ...</td>\n",
       "      <td>1. 송인호 기자, 최근 가계부채증가 속도에 대한 우려의 목소리가 높습니다...외국...</td>\n",
       "      <td>[가계부채/Noun, 증가/Noun, 우려/Noun, 만/Noun, 수준/Noun,...</td>\n",
       "      <td>[송인/Noun, 호/Noun, 기자/Noun, 최근/Noun, 가계부채/Noun,...</td>\n",
       "    </tr>\n",
       "    <tr>\n",
       "      <th>3</th>\n",
       "      <td>200204</td>\n",
       "      <td>가계부채</td>\n",
       "      <td>가계부채 GDP의 64% 달해…KDI\"과다한 가계부채 주의 필요\"&lt;전경련 원로.자문...</td>\n",
       "      <td>가계부문 금융부채가 국내총생산(GDP)에서 차지하는 비중이 지난해 64.8%를 기록...</td>\n",
       "      <td>[가계부채/Noun, 의/Noun, 과/Noun, 다한/Noun, 가계부채/Noun...</td>\n",
       "      <td>[가계/Noun, 부문/Noun, 금융/Noun, 부채/Noun, 국내총생산/Nou...</td>\n",
       "    </tr>\n",
       "    <tr>\n",
       "      <th>4</th>\n",
       "      <td>200205</td>\n",
       "      <td>가계부채</td>\n",
       "      <td>산업은행, 올 경제성장률 6.2%로 상향 전망\"한국 월드컵 선전하면 증시 상승\"-F...</td>\n",
       "      <td>미경제 둔화, 환율하락 등 경제불안요인 상존(서울=연합뉴스) 한승호기자 = 산업은행...</td>\n",
       "      <td>[산업/Noun, 은행/Noun, 경제성장률/Noun, 로/Noun, 상향/Noun...</td>\n",
       "      <td>[미경/Noun, 제/Noun, 둔화/Noun, 환율/Noun, 하락/Noun, 등...</td>\n",
       "    </tr>\n",
       "  </tbody>\n",
       "</table>\n",
       "</div>"
      ],
      "text/plain": [
       "       ym   qry                                              title  \\\n",
       "0  200201  가계부채  \"가계부채 과도한 증가는 `금융불안' 초래\"<금융연>금융연구원, 31일 가계부채 세...   \n",
       "1  200202  가계부채  가계부채 335조 ‘사상 최고’…4년만에 배 가까이 증가\"가계부채 우려는 과장......   \n",
       "2  200203  가계부채  가계부채증가 우려할 만한 수준인가?가계부채 위험수위윤 재경차관 \"가계부채 증가속도 ...   \n",
       "3  200204  가계부채  가계부채 GDP의 64% 달해…KDI\"과다한 가계부채 주의 필요\"<전경련 원로.자문...   \n",
       "4  200205  가계부채  산업은행, 올 경제성장률 6.2%로 상향 전망\"한국 월드컵 선전하면 증시 상승\"-F...   \n",
       "\n",
       "                                                text  \\\n",
       "0  `신용카드 부실이 도화선'(서울=연합뉴스) 한승호기자 = 가계부채의 과도한 증가는 ...   \n",
       "1  지난해 말 현재 가계부채가 330조원을 넘어 사상 최고를 기록했다.이에따라 가구당 ...   \n",
       "2  1. 송인호 기자, 최근 가계부채증가 속도에 대한 우려의 목소리가 높습니다...외국...   \n",
       "3  가계부문 금융부채가 국내총생산(GDP)에서 차지하는 비중이 지난해 64.8%를 기록...   \n",
       "4  미경제 둔화, 환율하락 등 경제불안요인 상존(서울=연합뉴스) 한승호기자 = 산업은행...   \n",
       "\n",
       "                                             tok_tit  \\\n",
       "0  [가계부채/Noun, 과도/Noun, 증가/Noun, 금융/Noun, 불안/Noun...   \n",
       "1  [가계부채/Noun, 사상/Noun, 최고/Noun, 배/Noun, 가까이/Noun...   \n",
       "2  [가계부채/Noun, 증가/Noun, 우려/Noun, 만/Noun, 수준/Noun,...   \n",
       "3  [가계부채/Noun, 의/Noun, 과/Noun, 다한/Noun, 가계부채/Noun...   \n",
       "4  [산업/Noun, 은행/Noun, 경제성장률/Noun, 로/Noun, 상향/Noun...   \n",
       "\n",
       "                                             tok_txt  \n",
       "0  [신용카드/Noun, 부실/Noun, 도화선/Noun, 서울/Noun, 연합뉴스/N...  \n",
       "1  [지난해/Noun, 말/Noun, 현재/Noun, 가계부채/Noun, 사상/Noun...  \n",
       "2  [송인/Noun, 호/Noun, 기자/Noun, 최근/Noun, 가계부채/Noun,...  \n",
       "3  [가계/Noun, 부문/Noun, 금융/Noun, 부채/Noun, 국내총생산/Nou...  \n",
       "4  [미경/Noun, 제/Noun, 둔화/Noun, 환율/Noun, 하락/Noun, 등...  "
      ]
     },
     "execution_count": 81,
     "metadata": {},
     "output_type": "execute_result"
    }
   ],
   "source": [
    "ndf.head()"
   ]
  },
  {
   "cell_type": "code",
   "execution_count": 82,
   "metadata": {},
   "outputs": [],
   "source": [
    "tagdoc = lambda txt, ym: [TaggedDocument(words=txt,tags=ym)]"
   ]
  },
  {
   "cell_type": "code",
   "execution_count": 92,
   "metadata": {},
   "outputs": [],
   "source": [
    "ndf['tag_tit'] = ndf.apply(lambda x: tagdoc(x.tok_tit,x.ym),axis=1)"
   ]
  },
  {
   "cell_type": "code",
   "execution_count": 93,
   "metadata": {},
   "outputs": [],
   "source": [
    "ndf['tag_txt'] = ndf.apply(lambda x: tagdoc(x.tok_txt,x.ym),axis=1)"
   ]
  },
  {
   "cell_type": "code",
   "execution_count": 94,
   "metadata": {},
   "outputs": [
    {
     "data": {
      "text/plain": [
       "[TaggedDocument(words=['가계부채/Noun', '과도/Noun', '증가/Noun', '금융/Noun', '불안/Noun', '초래/Noun', '금융/Noun', '연/Noun', '금융/Noun', '연구원/Noun', '가계부채/Noun', '세미나/Noun', '개최/Noun', '선진국/Noun', '가계/Noun', '기업/Noun', '모두/Noun', '빚/Noun', '더미/Noun', '금감원/Noun', '은행/Noun', '가계/Noun', '여신/Noun', '급증/Noun', '오늘/Noun', '기사/Noun', '차/Noun', '메모/Noun', '목/Noun', '개인/Noun', '대출/Noun', '폭증/Noun', '대비/Noun', '금융/Noun', '세미나/Noun', '한경/Noun', '밀레니엄/Noun', '포럼/Noun', '차/Noun', '회의/Noun', '토론/Noun', '지상/Noun', '중계/Noun', '올해/Noun', '경제정책/Noun', '방향/Noun', '신용/Noun', '불량/Noun', '위험수위/Noun', '금융/Noun', '세미나/Noun', '인물/Noun', '동정/Noun', '홍일/Noun', '흥사단/Noun', '통일/Noun', '포럼/Noun', '회장/Noun', '등/Noun', '동정/Noun', '고/Noun', '건/Noun', '서울시장/Noun'], tags='200201')]"
      ]
     },
     "execution_count": 94,
     "metadata": {},
     "output_type": "execute_result"
    }
   ],
   "source": [
    "ndf.tag_tit[0]"
   ]
  },
  {
   "cell_type": "markdown",
   "metadata": {},
   "source": [
    "doc2vec에 token load"
   ]
  },
  {
   "cell_type": "markdown",
   "metadata": {},
   "source": [
    "$word2vec$: CBOW ==> $doc2vec$: **DM(Distributed Memory)** dm=1  \n",
    "$word2vec$: Skip-Gram ==> $doc2vec$: **DBOW(Distributed Bag of Words)** dm=0"
   ]
  },
  {
   "cell_type": "markdown",
   "metadata": {},
   "source": [
    "#### 4.1 토큰 벡터화 (word embedding)"
   ]
  },
  {
   "cell_type": "code",
   "execution_count": 97,
   "metadata": {},
   "outputs": [
    {
     "data": {
      "text/plain": [
       "4"
      ]
     },
     "execution_count": 97,
     "metadata": {},
     "output_type": "execute_result"
    }
   ],
   "source": [
    "import multiprocessing\n",
    "cores = multiprocessing.cpu_count()\n",
    "cores"
   ]
  },
  {
   "cell_type": "code",
   "execution_count": 101,
   "metadata": {},
   "outputs": [],
   "source": [
    "from tqdm import tqdm\n",
    "tqdm.pandas(desc=\"progress-bar\")"
   ]
  },
  {
   "cell_type": "code",
   "execution_count": 102,
   "metadata": {},
   "outputs": [],
   "source": [
    "# doc2vec 인스턴스 생성(dm=0; dbow ~ skip-gram이랑 비슷한거)\n",
    "model_dbow = Doc2Vec(dm=0, \n",
    "                     vector_size=30, \n",
    "                     negative=5, \n",
    "                     hs=0, \n",
    "                     min_count=2, \n",
    "                     sample = 0, \n",
    "                     workers=cores)"
   ]
  },
  {
   "cell_type": "code",
   "execution_count": 103,
   "metadata": {},
   "outputs": [
    {
     "name": "stderr",
     "output_type": "stream",
     "text": [
      "100%|████████████████████████████████████████████████████| 1/1 [00:00<?, ?it/s]\n"
     ]
    }
   ],
   "source": [
    "model_dbow.build_vocab([x for x in tqdm(ndf.tag_tit[0])])"
   ]
  },
  {
   "cell_type": "code",
   "execution_count": 109,
   "metadata": {},
   "outputs": [],
   "source": [
    "from sklearn import utils"
   ]
  },
  {
   "cell_type": "code",
   "execution_count": 110,
   "metadata": {},
   "outputs": [
    {
     "name": "stderr",
     "output_type": "stream",
     "text": [
      "100%|███████████████████████████████████████████| 1/1 [00:00<00:00, 999.83it/s]\n",
      "100%|████████████████████████████████████████████████████| 1/1 [00:00<?, ?it/s]\n",
      "100%|██████████████████████████████████████████| 1/1 [00:00<00:00, 1000.07it/s]\n",
      "100%|████████████████████████████████████████████████████| 1/1 [00:00<?, ?it/s]\n",
      "100%|████████████████████████████████████████████████████| 1/1 [00:00<?, ?it/s]\n",
      "100%|████████████████████████████████████████████████████| 1/1 [00:00<?, ?it/s]\n",
      "100%|████████████████████████████████████████████████████| 1/1 [00:00<?, ?it/s]\n",
      "100%|████████████████████████████████████████████████████| 1/1 [00:00<?, ?it/s]\n",
      "100%|████████████████████████████████████████████████████| 1/1 [00:00<?, ?it/s]\n",
      "100%|████████████████████████████████████████████████████| 1/1 [00:00<?, ?it/s]\n"
     ]
    },
    {
     "name": "stdout",
     "output_type": "stream",
     "text": [
      "Wall time: 91 ms\n"
     ]
    }
   ],
   "source": [
    "%%time\n",
    "for epoch in range(10):\n",
    "    model_dbow.train(utils.shuffle([x for x in tqdm(ndf.tag_tit[0])]),\n",
    "                    total_examples=len(ndf.tag_tit[0]),\n",
    "                    epochs=1)\n",
    "    model_dbow.alpha -= 0.002\n",
    "    model_dbow.min_alpha = model_dbow.alpha"
   ]
  },
  {
   "cell_type": "code",
   "execution_count": 113,
   "metadata": {},
   "outputs": [
    {
     "data": {
      "text/plain": [
       "[TaggedDocument(words=['가계부채/Noun', '과도/Noun', '증가/Noun', '금융/Noun', '불안/Noun', '초래/Noun', '금융/Noun', '연/Noun', '금융/Noun', '연구원/Noun', '가계부채/Noun', '세미나/Noun', '개최/Noun', '선진국/Noun', '가계/Noun', '기업/Noun', '모두/Noun', '빚/Noun', '더미/Noun', '금감원/Noun', '은행/Noun', '가계/Noun', '여신/Noun', '급증/Noun', '오늘/Noun', '기사/Noun', '차/Noun', '메모/Noun', '목/Noun', '개인/Noun', '대출/Noun', '폭증/Noun', '대비/Noun', '금융/Noun', '세미나/Noun', '한경/Noun', '밀레니엄/Noun', '포럼/Noun', '차/Noun', '회의/Noun', '토론/Noun', '지상/Noun', '중계/Noun', '올해/Noun', '경제정책/Noun', '방향/Noun', '신용/Noun', '불량/Noun', '위험수위/Noun', '금융/Noun', '세미나/Noun', '인물/Noun', '동정/Noun', '홍일/Noun', '흥사단/Noun', '통일/Noun', '포럼/Noun', '회장/Noun', '등/Noun', '동정/Noun', '고/Noun', '건/Noun', '서울시장/Noun'], tags='200201')]"
      ]
     },
     "execution_count": 113,
     "metadata": {},
     "output_type": "execute_result"
    }
   ],
   "source": [
    "ndf.tag_tit[0]"
   ]
  },
  {
   "cell_type": "code",
   "execution_count": null,
   "metadata": {},
   "outputs": [],
   "source": [
    "def vec_for_learning(model, tagged_docs):\n",
    "    sents = tagged_docs.values\n",
    "    targets, regressors = zip(*[(doc.tags[0], model.infer_vector(doc.words, steps=20)) for doc in sents])\n",
    "    return targets, regressorsdef vec_for_learning(model, tagged_docs):\n",
    "    sents = tagged_docs.values\n",
    "    targets, regressors = zip(*[(doc.tags[0], model.infer_vector(doc.words, steps=20)) for doc in sents])\n",
    "    return targets, regressors"
   ]
  },
  {
   "cell_type": "code",
   "execution_count": null,
   "metadata": {},
   "outputs": [],
   "source": [
    "dvec3 = list(map(lambda x: model3.infer_vector(x), df.token_review_n))\n",
    "cname = ['dv'+str(i) for i in np.arange(1,51)]\n",
    "dvec3 = pd.DataFrame(dvec3,columns = cname)"
   ]
  },
  {
   "cell_type": "code",
   "execution_count": 117,
   "metadata": {},
   "outputs": [
    {
     "data": {
      "text/plain": [
       "[TaggedDocument(words=['가계부채/Noun', '과도/Noun', '증가/Noun', '금융/Noun', '불안/Noun', '초래/Noun', '금융/Noun', '연/Noun', '금융/Noun', '연구원/Noun', '가계부채/Noun', '세미나/Noun', '개최/Noun', '선진국/Noun', '가계/Noun', '기업/Noun', '모두/Noun', '빚/Noun', '더미/Noun', '금감원/Noun', '은행/Noun', '가계/Noun', '여신/Noun', '급증/Noun', '오늘/Noun', '기사/Noun', '차/Noun', '메모/Noun', '목/Noun', '개인/Noun', '대출/Noun', '폭증/Noun', '대비/Noun', '금융/Noun', '세미나/Noun', '한경/Noun', '밀레니엄/Noun', '포럼/Noun', '차/Noun', '회의/Noun', '토론/Noun', '지상/Noun', '중계/Noun', '올해/Noun', '경제정책/Noun', '방향/Noun', '신용/Noun', '불량/Noun', '위험수위/Noun', '금융/Noun', '세미나/Noun', '인물/Noun', '동정/Noun', '홍일/Noun', '흥사단/Noun', '통일/Noun', '포럼/Noun', '회장/Noun', '등/Noun', '동정/Noun', '고/Noun', '건/Noun', '서울시장/Noun'], tags='200201')]"
      ]
     },
     "execution_count": 117,
     "metadata": {},
     "output_type": "execute_result"
    }
   ],
   "source": [
    "ndf.tag_tit[0]"
   ]
  },
  {
   "cell_type": "code",
   "execution_count": 119,
   "metadata": {},
   "outputs": [],
   "source": [
    "a = [model_dbow.infer_vector(doc.words) for doc in ndf.tag_tit[0]]"
   ]
  },
  {
   "cell_type": "code",
   "execution_count": 126,
   "metadata": {},
   "outputs": [
    {
     "data": {
      "text/plain": [
       "['신용카드/Noun', '부실/Noun', '도화선/Noun', '서울/Noun', '연합뉴스/Noun']"
      ]
     },
     "execution_count": 126,
     "metadata": {},
     "output_type": "execute_result"
    }
   ],
   "source": [
    "ndf.tag_txt[0][0].words[:5] # 이걸 가지고 벡터라이즈 한다"
   ]
  },
  {
   "cell_type": "code",
   "execution_count": 149,
   "metadata": {},
   "outputs": [],
   "source": [
    "# 월별로 모델을 만든 후 vectorize 한다\n",
    "# vectorize할 때 tag는 어떤 역할을 하지 않는다 \n",
    "# 이후 logistic regression 등으로 모델링 할 때 target으로 쓸 수 있다 "
   ]
  },
  {
   "cell_type": "code",
   "execution_count": null,
   "metadata": {},
   "outputs": [],
   "source": []
  },
  {
   "cell_type": "markdown",
   "metadata": {},
   "source": [
    "#### 가계부실선행지수"
   ]
  },
  {
   "cell_type": "code",
   "execution_count": 127,
   "metadata": {},
   "outputs": [],
   "source": [
    "busil_idx = pd.read_clipboard(sep='\\t')"
   ]
  },
  {
   "cell_type": "code",
   "execution_count": 130,
   "metadata": {},
   "outputs": [
    {
     "data": {
      "text/html": [
       "<div>\n",
       "<style scoped>\n",
       "    .dataframe tbody tr th:only-of-type {\n",
       "        vertical-align: middle;\n",
       "    }\n",
       "\n",
       "    .dataframe tbody tr th {\n",
       "        vertical-align: top;\n",
       "    }\n",
       "\n",
       "    .dataframe thead th {\n",
       "        text-align: right;\n",
       "    }\n",
       "</style>\n",
       "<table border=\"1\" class=\"dataframe\">\n",
       "  <thead>\n",
       "    <tr style=\"text-align: right;\">\n",
       "      <th></th>\n",
       "      <th>ym</th>\n",
       "      <th>cycle</th>\n",
       "      <th>tcycle</th>\n",
       "      <th>가계소득지표</th>\n",
       "      <th>가계소비지표</th>\n",
       "      <th>차입수준지표</th>\n",
       "    </tr>\n",
       "  </thead>\n",
       "  <tbody>\n",
       "    <tr>\n",
       "      <th>0</th>\n",
       "      <td>201207</td>\n",
       "      <td>104.4</td>\n",
       "      <td>103.2</td>\n",
       "      <td>0.109</td>\n",
       "      <td>0.448</td>\n",
       "      <td>0.321</td>\n",
       "    </tr>\n",
       "    <tr>\n",
       "      <th>1</th>\n",
       "      <td>201208</td>\n",
       "      <td>104.4</td>\n",
       "      <td>103.2</td>\n",
       "      <td>0.121</td>\n",
       "      <td>0.387</td>\n",
       "      <td>0.367</td>\n",
       "    </tr>\n",
       "    <tr>\n",
       "      <th>2</th>\n",
       "      <td>201209</td>\n",
       "      <td>104.4</td>\n",
       "      <td>103.2</td>\n",
       "      <td>0.137</td>\n",
       "      <td>0.327</td>\n",
       "      <td>0.407</td>\n",
       "    </tr>\n",
       "    <tr>\n",
       "      <th>3</th>\n",
       "      <td>201210</td>\n",
       "      <td>104.3</td>\n",
       "      <td>103.1</td>\n",
       "      <td>0.157</td>\n",
       "      <td>0.262</td>\n",
       "      <td>0.441</td>\n",
       "    </tr>\n",
       "    <tr>\n",
       "      <th>4</th>\n",
       "      <td>201211</td>\n",
       "      <td>104.2</td>\n",
       "      <td>103.0</td>\n",
       "      <td>0.175</td>\n",
       "      <td>0.200</td>\n",
       "      <td>0.467</td>\n",
       "    </tr>\n",
       "  </tbody>\n",
       "</table>\n",
       "</div>"
      ],
      "text/plain": [
       "       ym  cycle  tcycle  가계소득지표  가계소비지표  차입수준지표\n",
       "0  201207  104.4   103.2   0.109   0.448   0.321\n",
       "1  201208  104.4   103.2   0.121   0.387   0.367\n",
       "2  201209  104.4   103.2   0.137   0.327   0.407\n",
       "3  201210  104.3   103.1   0.157   0.262   0.441\n",
       "4  201211  104.2   103.0   0.175   0.200   0.467"
      ]
     },
     "execution_count": 130,
     "metadata": {},
     "output_type": "execute_result"
    }
   ],
   "source": [
    "busil_idx.head()"
   ]
  },
  {
   "cell_type": "code",
   "execution_count": 131,
   "metadata": {},
   "outputs": [],
   "source": [
    "busil_idx.to_pickle('data/busil_idx.pkl')"
   ]
  },
  {
   "cell_type": "code",
   "execution_count": 132,
   "metadata": {},
   "outputs": [],
   "source": [
    "bs = busil_idx.copy()"
   ]
  },
  {
   "cell_type": "code",
   "execution_count": 133,
   "metadata": {},
   "outputs": [],
   "source": [
    "bs['date'] = pd.to_datetime(bs.ym, format='%Y%m')"
   ]
  },
  {
   "cell_type": "code",
   "execution_count": 134,
   "metadata": {},
   "outputs": [
    {
     "data": {
      "text/html": [
       "<div>\n",
       "<style scoped>\n",
       "    .dataframe tbody tr th:only-of-type {\n",
       "        vertical-align: middle;\n",
       "    }\n",
       "\n",
       "    .dataframe tbody tr th {\n",
       "        vertical-align: top;\n",
       "    }\n",
       "\n",
       "    .dataframe thead th {\n",
       "        text-align: right;\n",
       "    }\n",
       "</style>\n",
       "<table border=\"1\" class=\"dataframe\">\n",
       "  <thead>\n",
       "    <tr style=\"text-align: right;\">\n",
       "      <th></th>\n",
       "      <th>ym</th>\n",
       "      <th>cycle</th>\n",
       "      <th>tcycle</th>\n",
       "      <th>가계소득지표</th>\n",
       "      <th>가계소비지표</th>\n",
       "      <th>차입수준지표</th>\n",
       "      <th>date</th>\n",
       "    </tr>\n",
       "  </thead>\n",
       "  <tbody>\n",
       "    <tr>\n",
       "      <th>0</th>\n",
       "      <td>201207</td>\n",
       "      <td>104.4</td>\n",
       "      <td>103.2</td>\n",
       "      <td>0.109</td>\n",
       "      <td>0.448</td>\n",
       "      <td>0.321</td>\n",
       "      <td>2012-07-01</td>\n",
       "    </tr>\n",
       "    <tr>\n",
       "      <th>1</th>\n",
       "      <td>201208</td>\n",
       "      <td>104.4</td>\n",
       "      <td>103.2</td>\n",
       "      <td>0.121</td>\n",
       "      <td>0.387</td>\n",
       "      <td>0.367</td>\n",
       "      <td>2012-08-01</td>\n",
       "    </tr>\n",
       "    <tr>\n",
       "      <th>2</th>\n",
       "      <td>201209</td>\n",
       "      <td>104.4</td>\n",
       "      <td>103.2</td>\n",
       "      <td>0.137</td>\n",
       "      <td>0.327</td>\n",
       "      <td>0.407</td>\n",
       "      <td>2012-09-01</td>\n",
       "    </tr>\n",
       "    <tr>\n",
       "      <th>3</th>\n",
       "      <td>201210</td>\n",
       "      <td>104.3</td>\n",
       "      <td>103.1</td>\n",
       "      <td>0.157</td>\n",
       "      <td>0.262</td>\n",
       "      <td>0.441</td>\n",
       "      <td>2012-10-01</td>\n",
       "    </tr>\n",
       "    <tr>\n",
       "      <th>4</th>\n",
       "      <td>201211</td>\n",
       "      <td>104.2</td>\n",
       "      <td>103.0</td>\n",
       "      <td>0.175</td>\n",
       "      <td>0.200</td>\n",
       "      <td>0.467</td>\n",
       "      <td>2012-11-01</td>\n",
       "    </tr>\n",
       "  </tbody>\n",
       "</table>\n",
       "</div>"
      ],
      "text/plain": [
       "       ym  cycle  tcycle  가계소득지표  가계소비지표  차입수준지표       date\n",
       "0  201207  104.4   103.2   0.109   0.448   0.321 2012-07-01\n",
       "1  201208  104.4   103.2   0.121   0.387   0.367 2012-08-01\n",
       "2  201209  104.4   103.2   0.137   0.327   0.407 2012-09-01\n",
       "3  201210  104.3   103.1   0.157   0.262   0.441 2012-10-01\n",
       "4  201211  104.2   103.0   0.175   0.200   0.467 2012-11-01"
      ]
     },
     "execution_count": 134,
     "metadata": {},
     "output_type": "execute_result"
    }
   ],
   "source": [
    "bs.head()"
   ]
  },
  {
   "cell_type": "code",
   "execution_count": 137,
   "metadata": {},
   "outputs": [],
   "source": [
    "import matplotlib.pyplot as plt"
   ]
  },
  {
   "cell_type": "code",
   "execution_count": 147,
   "metadata": {},
   "outputs": [],
   "source": [
    "plt.rcParams['font.family'] = 'NanumGothic'"
   ]
  },
  {
   "cell_type": "code",
   "execution_count": 148,
   "metadata": {},
   "outputs": [
    {
     "data": {
      "text/plain": [
       "Text(0.5, 1.0, '사이클')"
      ]
     },
     "execution_count": 148,
     "metadata": {},
     "output_type": "execute_result"
    },
    {
     "data": {
      "image/png": "[encoded data removed]",
      "text/plain": [
       "<Figure size 720x360 with 2 Axes>"
      ]
     },
     "metadata": {
      "needs_background": "light"
     },
     "output_type": "display_data"
    }
   ],
   "source": [
    "plt.figure(figsize=(10,5))\n",
    "plt.subplot(2,1,1)\n",
    "plt.plot_date('date','tcycle',fmt='--',data=bs,color='firebrick')\n",
    "plt.title('추세+사이클')\n",
    "plt.subplot(2,1,2)\n",
    "plt.plot_date('date','cycle',fmt='-',data=bs)\n",
    "plt.title('사이클')"
   ]
  },
  {
   "cell_type": "markdown",
   "metadata": {},
   "source": [
    "사이클 또는 추세+사이클이 얼마 이상일 때 tag를 1로 줘서 모델링 해보자"
   ]
  },
  {
   "cell_type": "markdown",
   "metadata": {},
   "source": [
    "#### 5.월별기사와 가계부실선행지수를 합친다"
   ]
  },
  {
   "cell_type": "code",
   "execution_count": null,
   "metadata": {},
   "outputs": [],
   "source": []
  }
 ],
 "metadata": {
  "kernelspec": {
   "display_name": "Python 3",
   "language": "python",
   "name": "python3"
  },
  "language_info": {
   "codemirror_mode": {
    "name": "ipython",
    "version": 3
   },
   "file_extension": ".py",
   "mimetype": "text/x-python",
   "name": "python",
   "nbconvert_exporter": "python",
   "pygments_lexer": "ipython3",
   "version": "3.7.0"
  }
 },
 "nbformat": 4,
 "nbformat_minor": 2
}
