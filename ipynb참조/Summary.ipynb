{
 "cells": [
  {
   "cell_type": "markdown",
   "metadata": {},
   "source": [
    "# 방어형 전략\n",
    "포트폴리오의 변동성(MDD) 관리에 집중하는 전략 \n",
    "### _돈 잃는게 무서워요..._"
   ]
  },
  {
   "cell_type": "markdown",
   "metadata": {},
   "source": [
    "* **분산투자**: 최소 20-30개 종목 (계란은 한바구니 노노..)\n",
    "* **상관관계**: 상관관계가 상대적으로 낮은 자산군, 종목, 업종, 국가에 분산 (유대인의 분산투자)\n",
    "* **리밸런싱**: 주기적 리밸런싱은 mean-reverting 효과\n",
    "* **듀얼모멘텀**: 모멘텀이 높은 종목을 보유하되, 모멘텀이 없으면 현금보유 (안토나치)\n",
    "* **적립식**: 분산투자는 cross-sectional 분산인 반면, 적립식은 time-series 분산\n",
    "* **손절** (로스컷): 기준에 도달하면 묻지도 따지지도 말고 손절\n",
    "* **Vol control**: 현금을 이용하여 변동성 수준을 일정하게 유지"
   ]
  },
  {
   "cell_type": "markdown",
   "metadata": {},
   "source": [
    "# 공격형 전략\n",
    "CAGR 극대화를 목표로 하되, MDD는 다소 희생\n",
    "\n",
    "### _죽을 때 죽더라도 화끈하게 벌자_"
   ]
  },
  {
   "cell_type": "markdown",
   "metadata": {},
   "source": [
    "## 주요 팩터\n",
    "* **모멘텀**: 주가의 과거 1개월~12개월 상승률\n",
    "* **퀄리티**: 기업의 재무제표를 통해 우량종목 선별. GP/A, 순이익>0, OCF>0, 피오트로스키(F-Score) 등\n",
    "* **밸류**: PER, PBR, PSR, PCR, EV/EBITDA, 배당수익률, NCAV 등\n",
    "* **스몰캡**: 시가총액이 낮은 종목\n",
    "* **로우볼**: 주가수익률의 변동성(주로 표준편차)이 낮은 종목"
   ]
  },
  {
   "cell_type": "markdown",
   "metadata": {},
   "source": [
    "## 공격형 콤보지표 정리\n",
    "\n",
    "> **모멘텀 콤보**\n",
    "* 듀얼모멘텀: 절대적 모멘텀 + 상대적 모멘텀\n",
    "\n",
    "> **밸류 콤보**\n",
    "* Fama + LSV: 저PER + 저PBR + 저PCR + 소형주\n",
    "* 슈퍼가치: 저PER + 저PBR + 저PCR + 저PSR + 소형주\n",
    "\n",
    "> **퀄리티 콤보**\n",
    "* 파산기업 제거: 저부채비율 + 고ROA\n",
    "* 슈퍼퀄리티: 신F-스코어 + GP/A + 소형주"
   ]
  },
  {
   "cell_type": "markdown",
   "metadata": {},
   "source": [
    "> **밸류+퀄리티 콤보**\n",
    "* 그레이엄: 저PER + 저부채비율\n",
    "* 마법공식: 저EV/EBIT + 고ROC\n",
    "* 신마법공식: 저PBR + 고GP/A\n",
    "* 신F-Score: F-Score를 구성하는 9개의 지표 중 3개만 사용해도 유효 (순익>0, OCF>0, 증자X)\n",
    "\n",
    "> **밸류+모멘텀 콤보**\n",
    "* 오쇼너시: 밸류콤보 순위 + 고멘텀 순위\n",
    "* 슈퍼스타K: 슈퍼가치 + 평균모멘텀 스코어 + 유동비율\n",
    "\n",
    "> **밸류+퀄리티+모멘텀 콤보**\n",
    "* 애스네스 짬뽕: 밸류순위 + 퀄리티순위 + 모멘텀순위\n",
    "* 슈퍼가치 모멘텀: 저PER + 저PBR + 저PSR + 고GP/A + 절대적모멘텀"
   ]
  },
  {
   "cell_type": "markdown",
   "metadata": {},
   "source": [
    "# Goto 실전"
   ]
  }
 ],
 "metadata": {
  "kernelspec": {
   "display_name": "Python 3",
   "language": "python",
   "name": "python3"
  },
  "language_info": {
   "codemirror_mode": {
    "name": "ipython",
    "version": 3
   },
   "file_extension": ".py",
   "mimetype": "text/x-python",
   "name": "python",
   "nbconvert_exporter": "python",
   "pygments_lexer": "ipython3",
   "version": "3.7.0"
  }
 },
 "nbformat": 4,
 "nbformat_minor": 2
}
